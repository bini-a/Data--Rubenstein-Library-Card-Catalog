{
 "cells": [
  {
   "cell_type": "code",
   "execution_count": 1,
   "metadata": {},
   "outputs": [],
   "source": [
    "import pandas as pd\r\n",
    "import numpy as np\r\n",
    "import os\r\n",
    "from glob import glob\r\n",
    "import re"
   ]
  },
  {
   "cell_type": "code",
   "execution_count": 3,
   "metadata": {},
   "outputs": [
    {
     "data": {
      "text/plain": [
       "(50368, 1)"
      ]
     },
     "execution_count": 3,
     "metadata": {},
     "output_type": "execute_result"
    }
   ],
   "source": [
    "# Use the text files to create dataframe \r\n",
    "ar = []\r\n",
    "x = \"\"\r\n",
    "cum = []\r\n",
    "result = [y for x in os.walk(r'catalog\\new_text') for y in glob(os.path.join(x[0], '*.txt'))]\r\n",
    "for res in result:\r\n",
    "    with open(res, 'r',encoding=\"utf8\") as source:\r\n",
    "        lines = [line.replace(\"\\n\",\" \") for line in source.readlines()]\r\n",
    "        for l in lines:\r\n",
    "            # if line is not end of line, add the text\r\n",
    "            if not (l.startswith('\\x0c')):  \r\n",
    "                x+=l   \r\n",
    "            # when reaching end of line, append a new entry to list which contains all the text before end of line\r\n",
    "            else:\r\n",
    "                ar = np.append(ar,x)\r\n",
    "                # Starting after \"\\x0c\", add text\r\n",
    "                x =l[1:]\r\n",
    "        cum.append(len(ar))\r\n",
    "df = pd.DataFrame(ar) \r\n",
    "df.to_csv(\"catalog\\main_file_all_text.csv\")"
   ]
  }
 ],
 "metadata": {
  "interpreter": {
   "hash": "b3ba2566441a7c06988d0923437866b63cedc61552a5af99d1f4fb67d367b25f"
  },
  "kernelspec": {
   "display_name": "Python 3.8.8 64-bit (conda)",
   "name": "python3"
  },
  "language_info": {
   "codemirror_mode": {
    "name": "ipython",
    "version": 3
   },
   "file_extension": ".py",
   "mimetype": "text/x-python",
   "name": "python",
   "nbconvert_exporter": "python",
   "pygments_lexer": "ipython3",
   "version": "3.8.8"
  }
 },
 "nbformat": 4,
 "nbformat_minor": 2
}