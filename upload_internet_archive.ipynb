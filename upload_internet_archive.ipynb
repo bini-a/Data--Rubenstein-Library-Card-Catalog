{
 "cells": [
  {
   "cell_type": "code",
   "execution_count": null,
   "metadata": {},
   "outputs": [],
   "source": [
    "from glob import glob\r\n",
    "import internetarchive \r\n",
    "from internetarchive import upload\r\n",
    "from internetarchive import get_item\r\n",
    "import re\r\n",
    "import os"
   ]
  },
  {
   "cell_type": "code",
   "execution_count": null,
   "metadata": {},
   "outputs": [],
   "source": [
    "# configure internet archive on cmd\r\n",
    "# ia configure"
   ]
  },
  {
   "cell_type": "code",
   "execution_count": null,
   "metadata": {},
   "outputs": [],
   "source": [
    "# Titles indicating the range of names included in the catalogues\r\n",
    "\r\n",
    "titles = ['A to Amer', 'Ames to Armh', 'Armi to Bal', 'Bam to Bedh', 'Bedi to Bem', 'Ben to Blac', 'Blad to Q. Boyd',\r\n",
    "          'R. Boyd to I. Brown', 'J. Brown to L. Butler', 'M. Butler to Caq', 'Car to Chaq', 'Char to Clav', 'Claw to Com',\r\n",
    "          'Con to Conk', 'Conl to Crd', 'Cre to I. Davis', 'J. Davis to Dek', 'Del to Dov', 'Dow to Durg', 'Durh to Els',\r\n",
    "          'Elt to Fie', 'Fif to Frn', 'Fro to Geq', 'Ger to Gorl', 'Gorm to Grd', 'Gre to Grh', 'Gri to Hand', 'Hane to Harv',\r\n",
    "          'Harw to Hem', 'Hen to Holc', 'Hold to Huba', 'Hubb to I. Jackson', 'J. Jackson to I. Johnson', 'J. Johnson to Jz',\r\n",
    "          'K to Kira', 'Kirb to Lano', 'Lanp to Ler', 'Les to Lowq', 'Lowr to Mack', 'Macl to Manh', 'Mani to Maw', 'Max to Metg',\r\n",
    "          'Meth to Mh', 'Mi to Mord', 'More to Mur', 'Mus to Nn', 'No to Oz', 'P to Peo', 'Pep to Pn', 'Po to Puk', 'Pul to Rh',\r\n",
    "          'Ri to Rooj', 'Rook to Sam', 'San to Sem', 'Sen to Simo', 'Simp to Wh. Smith', 'Wi. Smith to So', 'Sp to Std',\r\n",
    "          'Ste to Sv', 'Sw to I. Thomas', 'J. Thomas to Tom', 'Ton to Tz', 'U', 'V to Ward', 'Ware to H. White',\r\n",
    "          'I. White to R. Williams', 'S. Williams to Wood', 'T. Wood to Wz', 'X to Z']\r\n",
    "\r\n",
    "# PATH TO ALL PDF FILES \r\n",
    "pdf_list = [y for x in os.walk(r'path to folder with pdfs') for y in glob(os.path.join(x[0], '*.pdf'))]\r\n",
    "\r\n",
    "# Drawer Numbers for each file\r\n",
    "drawer_no = [re.findall(\"\\d{3}\",i)[0] for i in pdf_list]\r\n",
    "\r\n",
    "# identifier list to be used for uploading each item\r\n",
    "identifier_list = [\"rubensteinmanuscriptcatalog_\" + titles[i].replace(\" \",\"_\") for i in range(len(titles))]\r\n"
   ]
  },
  {
   "cell_type": "code",
   "execution_count": null,
   "metadata": {},
   "outputs": [],
   "source": [
    "def upload_to_ia(title_no):\r\n",
    "        # Create metadata dictionary\r\n",
    "        i=title_no\r\n",
    "        md ={'title': \"Rubenstein Library Card Catalog Drawer {} {}\".format(drawer_no[i],titles[i]),\r\n",
    "             'mediatype': 'texts',\r\n",
    "             'collection': \"opensource\",\r\n",
    "             'description':\r\n",
    "             \"\"\"This is drawer number {} from the Duke University David M. Rubenstein Rare Book & Manuscript Library's manuscript main entry catalog.\\\r\n",
    "             This collection contains digitized cards from the former physical catalog and has the authors with last names starting from {}.\"\"\".format(drawer_no[i],titles[i]),\r\n",
    "             'subject': 'manuscripts'}\r\n",
    "        \r\n",
    "        # create identifier\r\n",
    "        idf = \"rubensteinmanuscriptcatalog_\" + titles[i].replace(\" \",\"_\")  \r\n",
    "\r\n",
    "        # If item already exists, print and return \r\n",
    "        exists = get_item(idf).exists\r\n",
    "        if exists: \r\n",
    "            print(\"{} already exists\".format(idf)) \r\n",
    "            return  \r\n",
    "        \r\n",
    "        # Uploading item with  identifier\r\n",
    "        r = upload(idf, files=pdf_list[i], metadata=md,verbose=True,validate_identifier=True)\r\n",
    "        \r\n",
    "        # Check for succesful upload\r\n",
    "        success = r[0].status_code==200\r\n",
    "        print(\"Drawer no {}\".format(drawer_no[i]))\r\n",
    "        if success:\r\n",
    "            print(\"---Uploaded Succesfuly---\")\r\n",
    "        else:\r\n",
    "            print(r[0].status_code)"
   ]
  },
  {
   "cell_type": "code",
   "execution_count": null,
   "metadata": {},
   "outputs": [],
   "source": [
    "# UPLOAD ALL THE FILES TO IA\r\n",
    "for i in range(len(titles)):\r\n",
    "    upload_to_ia(i)"
   ]
  },
  {
   "cell_type": "code",
   "execution_count": null,
   "metadata": {},
   "outputs": [],
   "source": [
    "# Change titles to indicate correct alphabetical sequence,\r\n",
    "#  for e.g from R. Boyd to Boyd, R \r\n",
    "\r\n",
    "\r\n",
    "titles_2 =['A to Amer', 'Ames to Armh', 'Armi to Bal', 'Bam to Bedh', 'Bedi to Bem', 'Ben to Blac', 'Blad to Boyd, Q',\r\n",
    "           'Boyd, R to Brown, I', 'Brown,J to Butler, L', 'Butler, M to Caq', 'Car to Chaq', 'Char to Clav', 'Claw to Com',\r\n",
    "           'Con to Conk', 'Conl to Crd', 'Cre to Davis, I', 'Davis, J to Dek', 'Del to Dov', 'Dow to Durg', 'Durh to Els', \r\n",
    "           'Elt to Fie', 'Fif to Frn', 'Fro to Geq', 'Ger to Gorl', 'Gorm to Grd', 'Gre to Grh', 'Gri to Hand', \r\n",
    "           'Hane to Harv', 'Harw to Hem', 'Hen to Holc', 'Hold to Huba', 'Hubb to Jackson, I', 'Jackson, J to Johnson, I', \r\n",
    "           'Johnson,J to Jz', 'K to Kira', 'Kirb to Lano', 'Lanp to Ler', 'Les to Lowq', 'Lowr to Mack', 'Macl to Manh', \r\n",
    "           'Mani to Maw', 'Max to Metg', 'Meth to Mh', 'Mi to Mord', 'More to Mur', 'Mus to Nn', 'No to Oz', \r\n",
    "           'P to Peo', 'Pep to Pn', 'Po to Puk', 'Pul to Rh', 'Ri to Rooj', 'Rook to Sam', 'San to Sem', \r\n",
    "           'Sen to Simo', 'Simp to Smith, Wh', 'Smith, Wi to So', 'Sp to Std', 'Ste to Sv', 'Sw to Thomas, I', \r\n",
    "           'Thomas, J to Tom', 'Ton to Tz', 'U', 'V to Ward', 'Ware to White, H', 'White, I to Williams, R', \r\n",
    "           'Williams, S to Wood', 'Wood, T to Wz', 'X to Z']\r\n"
   ]
  },
  {
   "cell_type": "code",
   "execution_count": null,
   "metadata": {},
   "outputs": [],
   "source": [
    "# Update titles of each card into new format with the new titles\r\n",
    "for i in  range(len(identifier_list)):\r\n",
    "    item = get_item(identifier_list[i])\r\n",
    "    md = {\"title\": f\"{titles_2[i]}: Drawer {drawer_no[i]}, Rubenstein Library Card Catalog\",\r\n",
    "    'description':\r\n",
    "             \"\"\"This is drawer number {} from the Duke University David M. Rubenstein Rare Book & Manuscript Library's manuscript main entry catalog.\\\r\n",
    "             This collection contains digitized cards from the former physical catalog and has the authors with last names starting from {}.\"\"\".format(drawer_no[i],titles[i])}\r\n",
    "    item.modify_metadata(md)"
   ]
  },
  {
   "cell_type": "code",
   "execution_count": null,
   "metadata": {},
   "outputs": [],
   "source": []
  }
 ],
 "metadata": {
  "interpreter": {
   "hash": "b3ba2566441a7c06988d0923437866b63cedc61552a5af99d1f4fb67d367b25f"
  },
  "kernelspec": {
   "display_name": "Python 3.8.8 64-bit (conda)",
   "name": "python3"
  },
  "language_info": {
   "name": "python",
   "version": ""
  },
  "orig_nbformat": 4
 },
 "nbformat": 4,
 "nbformat_minor": 2
}