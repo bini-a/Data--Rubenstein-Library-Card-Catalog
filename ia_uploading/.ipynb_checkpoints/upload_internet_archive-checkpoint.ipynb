{
 "cells": [
  {
   "cell_type": "markdown",
   "metadata": {},
   "source": [
    "# Upload to Internet Archive Using API"
   ]
  },
  {
   "cell_type": "code",
   "execution_count": 2,
   "metadata": {},
   "outputs": [
    {
     "name": "stderr",
     "output_type": "stream",
     "text": [
      "C:\\ProgramData\\Anaconda3\\lib\\site-packages\\requests\\__init__.py:89: RequestsDependencyWarning: urllib3 (1.26.6) or chardet (3.0.4) doesn't match a supported version!\n",
      "  warnings.warn(\"urllib3 ({}) or chardet ({}) doesn't match a supported \"\n"
     ]
    }
   ],
   "source": [
    "from glob import glob\n",
    "import internetarchive \n",
    "from internetarchive import upload\n",
    "from internetarchive import get_item\n",
    "import re\n",
    "import os"
   ]
  },
  {
   "cell_type": "code",
   "execution_count": 5,
   "metadata": {},
   "outputs": [],
   "source": [
    "# configure internet archive on cmd\n",
    "# ia configure"
   ]
  },
  {
   "cell_type": "code",
   "execution_count": 3,
   "metadata": {},
   "outputs": [],
   "source": [
    "# Titles indicating the range of names included in the catalogues\n",
    "\n",
    "titles = ['A to Amer', 'Ames to Armh', 'Armi to Bal', 'Bam to Bedh', 'Bedi to Bem', 'Ben to Blac', 'Blad to Q. Boyd',\n",
    "          'R. Boyd to I. Brown', 'J. Brown to L. Butler', 'M. Butler to Caq', 'Car to Chaq', 'Char to Clav', 'Claw to Com',\n",
    "          'Con to Conk', 'Conl to Crd', 'Cre to I. Davis', 'J. Davis to Dek', 'Del to Dov', 'Dow to Durg', 'Durh to Els',\n",
    "          'Elt to Fie', 'Fif to Frn', 'Fro to Geq', 'Ger to Gorl', 'Gorm to Grd', 'Gre to Grh', 'Gri to Hand', 'Hane to Harv',\n",
    "          'Harw to Hem', 'Hen to Holc', 'Hold to Huba', 'Hubb to I. Jackson', 'J. Jackson to I. Johnson', 'J. Johnson to Jz',\n",
    "          'K to Kira', 'Kirb to Lano', 'Lanp to Ler', 'Les to Lowq', 'Lowr to Mack', 'Macl to Manh', 'Mani to Maw', 'Max to Metg',\n",
    "          'Meth to Mh', 'Mi to Mord', 'More to Mur', 'Mus to Nn', 'No to Oz', 'P to Peo', 'Pep to Pn', 'Po to Puk', 'Pul to Rh',\n",
    "          'Ri to Rooj', 'Rook to Sam', 'San to Sem', 'Sen to Simo', 'Simp to Wh. Smith', 'Wi. Smith to So', 'Sp to Std',\n",
    "          'Ste to Sv', 'Sw to I. Thomas', 'J. Thomas to Tom', 'Ton to Tz', 'U', 'V to Ward', 'Ware to H. White',\n",
    "          'I. White to R. Williams', 'S. Williams to Wood', 'T. Wood to Wz', 'X to Z']\n",
    "\n",
    "# PATH TO ALL PDF FILES \n",
    "pdf_list = [y for x in os.walk(r'C:\\Users\\heidi\\Documents\\main_file_pdf_redone') for y in glob(os.path.join(x[0], '*.pdf'))]\n",
    "\n",
    "# Drawer Numbers for each file\n",
    "# drawer_no = [re.findall(\"\\d{3}\",i)[0] for i in pdf_list]\n",
    "\n",
    "drawer_no = ['157', '158', '159', '160', '161', '162', '163', '164', '165', '166', '167', '169', '170', '171', '172', '173', '174', '175', '176', '177', '178', '179', '181', '182', '183', '184', '185', '186', '187', '188', '189', '190', '191', '193', '194', '195', '196', '197', '198', '199', '200', '201', '202', '203', '205', '206', '207', '208',\n",
    " '209', '210', '211', '212', '213', '214', '215', '217', '218', '219', '220', '221', '222', '223', '224', '225', '226', '227', '229', '230', '231']\n",
    "\n",
    "# identifier list to be used for uploading each item\n",
    "identifier_list = [\"rubensteinmanuscriptcatalog_\" + titles[i].replace(\" \",\"_\") for i in range(len(titles))]\n"
   ]
  },
  {
   "cell_type": "code",
   "execution_count": 8,
   "metadata": {},
   "outputs": [
    {
     "name": "stdout",
     "output_type": "stream",
     "text": [
      "['157', '158', '159', '160', '161', '162', '163', '164', '165', '166', '167', '169', '170', '171', '172', '173', '174', '175', '176', '177', '178', '179', '181', '182', '183', '184', '185', '186', '187', '188', '189', '190', '191', '193', '194', '195', '196', '197', '198', '199', '200', '201', '202', '203', '205', '206', '207', '208', '209', '210', '211', '212', '213', '214', '215', '217', '218', '219', '220', '221', '222', '223', '224', '225', '226', '227', '229', '230', '231']\n"
     ]
    }
   ],
   "source": [
    "print(drawer_no)"
   ]
  },
  {
   "cell_type": "code",
   "execution_count": 4,
   "metadata": {},
   "outputs": [],
   "source": [
    "def upload_to_ia(title_no):\n",
    "        # Create metadata dictionary\n",
    "        i=title_no\n",
    "        md ={'title': \"Rubenstein Library Card Catalog Drawer {} {}\".format(drawer_no[i],titles[i]),\n",
    "             'mediatype': 'texts',\n",
    "             'collection': \"opensource\",\n",
    "             'description':\n",
    "             \"\"\"This is drawer number {} from the Duke University David M. Rubenstein Rare Book & Manuscript Library's manuscript main entry catalog.\\\n",
    "             This collection contains digitized cards from the former physical catalog and has the authors with last names starting from {}.\"\"\".format(drawer_no[i],titles[i]),\n",
    "             'subject': 'manuscripts'}\n",
    "        \n",
    "        # create identifier\n",
    "        idf = \"rubensteinmanuscriptcatalog_\" + titles[i].replace(\" \",\"_\")  \n",
    "\n",
    "        # If item already exists, print and return \n",
    "        exists = get_item(idf).exists\n",
    "        if exists: \n",
    "            print(\"{} already exists\".format(idf)) \n",
    "            return  \n",
    "        \n",
    "        # Uploading item with  identifier\n",
    "        r = upload(idf, files=pdf_list[i], metadata=md,verbose=True,validate_identifier=True)\n",
    "        \n",
    "        # Check for succesful upload\n",
    "        success = r[0].status_code==200\n",
    "        print(\"Drawer no {}\".format(drawer_no[i]))\n",
    "        if success:\n",
    "            print(\"---Uploaded Succesfuly---\")\n",
    "        else:\n",
    "            print(r[0].status_code)"
   ]
  },
  {
   "cell_type": "code",
   "execution_count": null,
   "metadata": {},
   "outputs": [],
   "source": [
    "# UPLOAD ALL THE FILES TO IA\n",
    "# for i in range(len(titles)):\n",
    "#     upload_to_ia(i)"
   ]
  },
  {
   "cell_type": "code",
   "execution_count": 5,
   "metadata": {},
   "outputs": [],
   "source": [
    "# Change titles to indicate correct alphabetical sequence,\n",
    "#  for e.g from R. Boyd to Boyd, R \n",
    "\n",
    "\n",
    "titles_2 =['A to Amer', 'Ames to Armh', 'Armi to Bal', 'Bam to Bedh', 'Bedi to Bem', 'Ben to Blac', 'Blad to Boyd, Q',\n",
    "           'Boyd, R to Brown, I', 'Brown,J to Butler, L', 'Butler, M to Caq', 'Car to Chaq', 'Char to Clav', 'Claw to Com',\n",
    "           'Con to Conk', 'Conl to Crd', 'Cre to Davis, I', 'Davis, J to Dek', 'Del to Dov', 'Dow to Durg', 'Durh to Els', \n",
    "           'Elt to Fie', 'Fif to Frn', 'Fro to Geq', 'Ger to Gorl', 'Gorm to Grd', 'Gre to Grh', 'Gri to Hand', \n",
    "           'Hane to Harv', 'Harw to Hem', 'Hen to Holc', 'Hold to Huba', 'Hubb to Jackson, I', 'Jackson, J to Johnson, I', \n",
    "           'Johnson,J to Jz', 'K to Kira', 'Kirb to Lano', 'Lanp to Ler', 'Les to Lowq', 'Lowr to Mack', 'Macl to Manh', \n",
    "           'Mani to Maw', 'Max to Metg', 'Meth to Mh', 'Mi to Mord', 'More to Mur', 'Mus to Nn', 'No to Oz', \n",
    "           'P to Peo', 'Pep to Pn', 'Po to Puk', 'Pul to Rh', 'Ri to Rooj', 'Rook to Sam', 'San to Sem', \n",
    "           'Sen to Simo', 'Simp to Smith, Wh', 'Smith, Wi to So', 'Sp to Std', 'Ste to Sv', 'Sw to Thomas, I', \n",
    "           'Thomas, J to Tom', 'Ton to Tz', 'U', 'V to Ward', 'Ware to White, H', 'White, I to Williams, R', \n",
    "           'Williams, S to Wood', 'Wood, T to Wz', 'X to Z']\n"
   ]
  },
  {
   "cell_type": "code",
   "execution_count": null,
   "metadata": {},
   "outputs": [],
   "source": [
    "# Update titles of each card into new format with the new titles\n",
    "# for i in  range(len(identifier_list)):\n",
    "#     item = get_item(identifier_list[i])\n",
    "#     md = {\"title\": f\"{titles_2[i]}: Drawer {drawer_no[i]}, Rubenstein Library Card Catalog\",\n",
    "#     'description':\n",
    "#              \"\"\"This is drawer number {} from the Duke University David M. Rubenstein Rare Book & Manuscript Library's manuscript main entry catalog.\\\n",
    "#              This collection contains digitized cards from the former physical catalog and has the authors with last names starting from {}.\"\"\".format(drawer_no[i],titles[i])}\n",
    "#     item.modify_metadata(md)"
   ]
  },
  {
   "cell_type": "code",
   "execution_count": 11,
   "metadata": {},
   "outputs": [
    {
     "name": "stderr",
     "output_type": "stream",
     "text": [
      " uploading main_file_185_gri_hand.pdf: 100%|████████████████████████████████████████| 148/148 [00:05<00:00, 27.06MiB/s]\n"
     ]
    },
    {
     "name": "stdout",
     "output_type": "stream",
     "text": [
      "Drawer no 185\n",
      "---Uploaded Succesfuly---\n"
     ]
    },
    {
     "name": "stderr",
     "output_type": "stream",
     "text": [
      " uploading main_file_196_lanp_ler.pdf: 100%|████████████████████████████████████████| 133/133 [00:11<00:00, 11.89MiB/s]\n"
     ]
    },
    {
     "name": "stdout",
     "output_type": "stream",
     "text": [
      "Drawer no 196\n",
      "---Uploaded Succesfuly---\n"
     ]
    },
    {
     "name": "stderr",
     "output_type": "stream",
     "text": [
      " uploading main_file_209_pep_pn.pdf: 100%|████████████████████████████████████████████| 85/85 [00:04<00:00, 17.02MiB/s]\n"
     ]
    },
    {
     "name": "stdout",
     "output_type": "stream",
     "text": [
      "Drawer no 209\n",
      "---Uploaded Succesfuly---\n"
     ]
    },
    {
     "name": "stderr",
     "output_type": "stream",
     "text": [
      " uploading main_file_211_pul_rh.pdf: 100%|████████████████████████████████████████████| 89/89 [00:22<00:00,  3.95MiB/s]\n"
     ]
    },
    {
     "name": "stdout",
     "output_type": "stream",
     "text": [
      "Drawer no 211\n",
      "---Uploaded Succesfuly---\n"
     ]
    },
    {
     "name": "stderr",
     "output_type": "stream",
     "text": [
      " uploading main_file_212_ri_rooj.pdf: 100%|█████████████████████████████████████████| 166/166 [00:30<00:00,  5.44MiB/s]\n"
     ]
    },
    {
     "name": "stdout",
     "output_type": "stream",
     "text": [
      "Drawer no 212\n",
      "---Uploaded Succesfuly---\n"
     ]
    },
    {
     "name": "stderr",
     "output_type": "stream",
     "text": [
      " uploading main_file_213_rook_sam.pdf: 100%|████████████████████████████████████████| 153/153 [00:06<00:00, 23.08MiB/s]\n"
     ]
    },
    {
     "name": "stdout",
     "output_type": "stream",
     "text": [
      "Drawer no 213\n",
      "---Uploaded Succesfuly---\n"
     ]
    },
    {
     "name": "stderr",
     "output_type": "stream",
     "text": [
      " uploading main_file_214_san_sem.pdf: 100%|█████████████████████████████████████████| 158/158 [00:06<00:00, 23.89MiB/s]\n"
     ]
    },
    {
     "name": "stdout",
     "output_type": "stream",
     "text": [
      "Drawer no 214\n",
      "---Uploaded Succesfuly---\n"
     ]
    },
    {
     "name": "stderr",
     "output_type": "stream",
     "text": [
      " uploading main_file_215_sen_simo.pdf: 100%|████████████████████████████████████████| 121/121 [00:09<00:00, 12.83MiB/s]\n"
     ]
    },
    {
     "name": "stdout",
     "output_type": "stream",
     "text": [
      "Drawer no 215\n",
      "---Uploaded Succesfuly---\n"
     ]
    },
    {
     "name": "stderr",
     "output_type": "stream",
     "text": [
      " uploading main_file_230_wood_t_wz.pdf: 100%|█████████████████████████████████████████| 89/89 [00:06<00:00, 12.95MiB/s]\n"
     ]
    },
    {
     "name": "stdout",
     "output_type": "stream",
     "text": [
      "Drawer no 230\n",
      "---Uploaded Succesfuly---\n"
     ]
    }
   ],
   "source": [
    "# # Upload new edited version of pdfs\n",
    "# update = [drawer_no.index(str(i)) for i in [185,196,209,211,212,213,214,215,230]]\n",
    "# for i in update:\n",
    "#     md ={'title': \"Rubenstein Library Card Catalog Drawer {} {}\".format(drawer_no[i],titles[i]),\n",
    "#              'mediatype': 'texts',\n",
    "#              'collection': \"opensource\",\n",
    "#              'description':\n",
    "#              \"\"\"This is drawer number {} from the Duke University David M. Rubenstein Rare Book & Manuscript Library's manuscript main entry catalog.\\\n",
    "#              This collection contains digitized cards from the former physical catalog and has the authors with last names starting from {}.\"\"\".format(drawer_no[i],titles[i]),\n",
    "#              'subject': 'manuscripts'}\n",
    "#     idf = \"rubensteinmanuscriptcatalog_\" + titles[i].replace(\" \",\"_\")  \n",
    "        \n",
    "#     r = upload(idf, files=pdf_list[i], metadata=md,verbose=True,validate_identifier=True)\n",
    "    \n",
    "#     # Check for succesful upload\n",
    "#     success = r[0].status_code==200\n",
    "#     print(\"Drawer no {}\".format(drawer_no[i]))\n",
    "#     if success:\n",
    "#         print(\"---Uploaded Succesfuly---\")\n",
    "#     else:\n",
    "#         print(r[0].status_code)"
   ]
  }
 ],
 "metadata": {
  "interpreter": {
   "hash": "b3ba2566441a7c06988d0923437866b63cedc61552a5af99d1f4fb67d367b25f"
  },
  "kernelspec": {
   "display_name": "Python 3",
   "language": "python",
   "name": "python3"
  },
  "language_info": {
   "codemirror_mode": {
    "name": "ipython",
    "version": 3
   },
   "file_extension": ".py",
   "mimetype": "text/x-python",
   "name": "python",
   "nbconvert_exporter": "python",
   "pygments_lexer": "ipython3",
   "version": "3.8.8"
  }
 },
 "nbformat": 4,
 "nbformat_minor": 2
}
