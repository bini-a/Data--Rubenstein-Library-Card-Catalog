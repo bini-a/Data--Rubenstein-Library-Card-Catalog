{
 "cells": [
  {
   "cell_type": "code",
   "execution_count": 1,
   "metadata": {},
   "outputs": [],
   "source": [
    "import pandas as pd\r\n",
    "import numpy as np\r\n",
    "pd.set_option('display.max_colwidth', None)\r\n",
    "pd.set_option(\"display.max_row\",None)\r\n",
    "import nltk\r\n",
    "import spacy\r\n",
    "import re"
   ]
  },
  {
   "cell_type": "code",
   "execution_count": 5,
   "metadata": {},
   "outputs": [
    {
     "name": "stderr",
     "output_type": "stream",
     "text": [
      "<ipython-input-5-8b8d5ed3cfb4>:5: FutureWarning: The default value of regex will change from True to False in a future version.\n",
      "  df.Text = df.Text.str.replace(r\"MICROFILM|MICROFILM MANUSCRIPTS|Treasure room|MANUSCRIPTS Restricted|MANUSCRIPTS|^Chapel|MSS|NUCMC|^FILM|^RESTRICTED\",\n"
     ]
    }
   ],
   "source": [
    "df = pd.read_csv(\"catalog\\main_file_all_text.csv\")\r\n",
    "df.drop(columns='Unnamed: 0',inplace=True)\r\n",
    "df.rename(columns={\"0\":\"Text\"},inplace=True)\r\n",
    "# Replace the common unwanted words appearing in the beginning of rows\r\n",
    "df.Text = df.Text.str.replace(r\"MICROFILM|MICROFILM MANUSCRIPTS|Treasure room|MANUSCRIPTS Restricted|MANUSCRIPTS|^Chapel|MSS|NUCMC|^FILM|^RESTRICTED\",\r\n",
    "\"\",case=False)"
   ]
  },
  {
   "cell_type": "code",
   "execution_count": 3,
   "metadata": {},
   "outputs": [],
   "source": [
    "# CHUNKING WITH NO START LETTER PARAMETER\r\n",
    "def chunk(df):\r\n",
    "    word_tok = nltk.word_tokenize(df[:50])\r\n",
    "    taged_sent= nltk.pos_tag(word_tok)\r\n",
    "    # Checks for Proper Noun,  coordinating conjunction(and,&), Proper Nouns\r\n",
    "    #TODO Improve this pattern to better extract names\r\n",
    "    grammar = \"Name: {((<NNP><,>)?<NNP><.>?<CC>?<NNP>?<CC>?<NNP>*)}\"\r\n",
    "    cp = nltk.RegexpParser(grammar,loop=1)\r\n",
    "    chunked = cp.parse(taged_sent)\r\n",
    "    for subtree in chunked.subtrees(filter =  lambda x : x.label()==\"Name\"):\r\n",
    "         # Generate all subtrees\r\n",
    "        return \" \".join([i[0] for i in subtree.leaves()])\r\n",
    "\r\n",
    "\r\n",
    "df[\"Name\"] = df.Text.apply(chunk)\r\n",
    "# Modify comma and space, replace common unwanted word endings/titles\r\n",
    "\r\n",
    "endings = [\"Papers\", \"Letters\", \"Diary\", \"Notebook\", \"Book\", \"Scrapbook\", \"Screenplay\", \"Memoir\", \"Card\", \"Daybook\", \"Day\", \r\n",
    "           \"Account\", \"Sketch\", \"Journal\", \"Letter\", \"Record\", \"Notes\", \"Ledger\", \"Rent\", \"Letterpress\", \"Address\",\"War\"]\r\n",
    "for i in endings:\r\n",
    "    df.Name = df.Name.str.replace(i,\"\",case=False)\r\n",
    "df.Name = df.Name.str.replace(\" , \",\", \")\r\n",
    "df.Name = df.Name.str.replace(\"For Information.*\",\"\")\r\n",
    "df.Name = df.Name.str.strip()\r\n",
    "df.Name = df.Name.str.title()"
   ]
  },
  {
   "cell_type": "code",
   "execution_count": 2,
   "metadata": {},
   "outputs": [],
   "source": [
    "# CHUNKING WITH START LETTER PARAMETER\r\n",
    "def chunk(df,start_letter):\r\n",
    "    start_letter = start_letter.upper()\r\n",
    "    df =  re.sub(r'[0-9]+', '', df)\r\n",
    "    first_ind = df.find(start_letter)\r\n",
    "    # If word starting with start letter does not exist, return None\r\n",
    "    if(first_ind ==-1):\r\n",
    "        return None\r\n",
    "    word_tok = nltk.word_tokenize(df[first_ind:50+first_ind])\r\n",
    "    taged_sent= nltk.pos_tag(word_tok)\r\n",
    "    # Checks for Proper Noun,  coordinating conjunction(and,&), Proper Nouns\r\n",
    "    grammar = \"Name: {((<NN.><,>)?<NNP><.>?<CC>?<NNP>?<CC>?<NNP>*)}\"\r\n",
    "    cp = nltk.RegexpParser(grammar,loop=1)\r\n",
    "    chunked = cp.parse(taged_sent)\r\n",
    "    for subtree in chunked.subtrees(filter =  lambda x : x.label()==\"Name\"):\r\n",
    "         # Generate all subtrees\r\n",
    "        li = [i[0] for i in subtree.leaves()]\r\n",
    "#         print(li)\r\n",
    "        \r\n",
    "        if li[0].startswith(start_letter):\r\n",
    "            return \" \".join([i[0] for i in subtree.leaves()])\r\n",
    "        # if no chunk start with the letter\r\n",
    "        # Get the first word starting with the letter\r\n",
    "        for i in chunked.leaves():\r\n",
    "            if i[0].startswith(start_letter):\r\n",
    "                first = i[0]\r\n",
    "        return first + \", \"+ \" \".join(li)\r\n",
    "\r\n",
    "\r\n",
    "# Apply chunking / put in start_letter \r\n",
    "df[\"Name\"] = df.Text.apply(chunk, start_letter)\r\n",
    "# Modify comma and space, replace common unwanted word endings/titles\r\n",
    "\r\n",
    "endings = [\"Papers\", \"Letters\", \"Diary\", \"Notebook\", \"Book\", \"Scrapbook\", \"Screenplay\", \"Memoir\", \"Card\", \"Daybook\", \"Day\", \r\n",
    "           \"Account\", \"Sketch\", \"Journal\", \"Letter\", \"Record\", \"Notes\", \"Ledger\", \"Rent\", \"Letterpress\", \"Address\",\"War\"]\r\n",
    "for i in endings:\r\n",
    "    df.Name = df.Name.str.replace(i,\"\",case=False)\r\n",
    "df.Name = df.Name.str.replace(\" , \",\", \")\r\n",
    "df.Name = df.Name.str.replace(\"For Information.*\",\"\")\r\n",
    "df.Name = df.Name.str.strip()\r\n",
    "df.Name = df.Name.str.title()"
   ]
  },
  {
   "cell_type": "code",
   "execution_count": 7,
   "metadata": {},
   "outputs": [],
   "source": [
    "df.to_csv(\"all_text_chunked_name.csv\",index=False)"
   ]
  }
 ],
 "metadata": {
  "interpreter": {
   "hash": "b3ba2566441a7c06988d0923437866b63cedc61552a5af99d1f4fb67d367b25f"
  },
  "kernelspec": {
   "display_name": "Python 3.8.8 64-bit ('base': conda)",
   "name": "python3"
  },
  "language_info": {
   "codemirror_mode": {
    "name": "ipython",
    "version": 3
   },
   "file_extension": ".py",
   "mimetype": "text/x-python",
   "name": "python",
   "nbconvert_exporter": "python",
   "pygments_lexer": "ipython3",
   "version": "3.8.8"
  },
  "orig_nbformat": 4
 },
 "nbformat": 4,
 "nbformat_minor": 2
}