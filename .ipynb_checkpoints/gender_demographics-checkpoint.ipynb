{
 "cells": [
  {
   "cell_type": "code",
   "execution_count": 7,
   "id": "e2ca5b4d",
   "metadata": {},
   "outputs": [
    {
     "name": "stdout",
     "output_type": "stream",
     "text": [
      "Requirement already satisfied: gender-guesser in c:\\users\\heidi\\anaconda3\\lib\\site-packages (0.4.0)\n"
     ]
    }
   ],
   "source": [
    "!pip install gender-guesser"
   ]
  },
  {
   "cell_type": "code",
   "execution_count": 6,
   "id": "01c37d36",
   "metadata": {},
   "outputs": [],
   "source": [
    "import gender_guesser.detector as gender\n",
    "import pandas as pd"
   ]
  },
  {
   "cell_type": "code",
   "execution_count": 74,
   "id": "3b82aa42",
   "metadata": {},
   "outputs": [],
   "source": [
    "# Collect first names\n",
    "df = pd.read_csv(\"all_sorted_collection.csv\")\n",
    "\n",
    "first_names = []\n",
    "for index, row in df.iterrows():\n",
    "    if row['Coll_head'] == 1:\n",
    "        # if name contains a comma, it's likely a name and not an organization\n",
    "        if \", \" in str(row['Name']):\n",
    "            name = str(row['Name'].split(\" \")[1])\n",
    "            # Find first name after Sir or Mrs.\n",
    "            if (\"Sir\" in name or \"Mrs\" in name or \"Dr.\" in name or \"Capt\" in name or \"Miss\" in name or \"Lord\" in name or \"Doctor\" in name) and len(row['Name'].split(\" \")) > 2:\n",
    "                name = str(row['Name'].split(\" \")[2])\n",
    "            # For initials, try to find whole name\n",
    "            if len(name) < 2 and len(row['Name'].split(\" \")) > 2 and len(str(row['Name'].split(\" \")[2])) > 2:\n",
    "                name = str(row['Name'].split(\" \")[2])\n",
    "            if not \"Archive\" in name and not \"Army\" in name and not \"University\" in name and not \"Family\" in name and not \"Ministry\" in name and not \"CHURCH\" in name.upper():\n",
    "                name = name.strip(\" \\r\\n,().\")\n",
    "                if not \".\" in name and len(name) > 3:\n",
    "                    first_names.append(name)"
   ]
  },
  {
   "cell_type": "code",
   "execution_count": 76,
   "id": "1ffaa4bf",
   "metadata": {},
   "outputs": [
    {
     "name": "stdout",
     "output_type": "stream",
     "text": [
      "{'unknown': 980, 'andy': 18, 'male': 9520, 'female': 932, 'mostly_male': 67, 'mostly_female': 149}\n"
     ]
    }
   ],
   "source": [
    "# Detect gender for each main entry author\n",
    "d = gender.Detector()\n",
    "\n",
    "gender_counts = {\n",
    "    \"unknown\": 0,\n",
    "    \"andy\": 0,\n",
    "    \"male\": 0,\n",
    "    \"female\": 0,\n",
    "    \"mostly_male\": 0,\n",
    "    \"mostly_female\": 0\n",
    "}\n",
    "\n",
    "# Determine gender of each name\n",
    "for name in first_names:\n",
    "    gen = d.get_gender(name)\n",
    "    if gen == \"unknown\":\n",
    "        # Common unclassified name\n",
    "        if name == \"Duff\":\n",
    "            gen = \"male\"\n",
    "        # Check for trailing e's (common in names from OCR error) and recheck those names\n",
    "        elif \"e\" == name[len(name)-1]:\n",
    "            name = name[0:len(name)-1]\n",
    "            gen = d.get_gender(name)\n",
    "    gender_counts[gen] += 1\n",
    "    \n",
    "print(gender_counts)"
   ]
  }
 ],
 "metadata": {
  "kernelspec": {
   "display_name": "Python 3",
   "language": "python",
   "name": "python3"
  },
  "language_info": {
   "codemirror_mode": {
    "name": "ipython",
    "version": 3
   },
   "file_extension": ".py",
   "mimetype": "text/x-python",
   "name": "python",
   "nbconvert_exporter": "python",
   "pygments_lexer": "ipython3",
   "version": "3.8.8"
  }
 },
 "nbformat": 4,
 "nbformat_minor": 5
}
