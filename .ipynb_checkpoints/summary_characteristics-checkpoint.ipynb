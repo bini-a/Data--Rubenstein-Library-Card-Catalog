{
 "cells": [
  {
   "cell_type": "markdown",
   "id": "f720fe46",
   "metadata": {},
   "source": [
    "# Card Catalog Summary Characteristics"
   ]
  },
  {
   "cell_type": "markdown",
   "id": "6a10a83a",
   "metadata": {},
   "source": [
    "Let's get into some of the characteristics of the dataset we created from the digitzed Rubenstein Library card catalog."
   ]
  },
  {
   "cell_type": "markdown",
   "id": "3efb3e76",
   "metadata": {},
   "source": [
    "### Number of Collections and Unique Authors"
   ]
  },
  {
   "cell_type": "code",
   "execution_count": 1,
   "id": "f349378b",
   "metadata": {},
   "outputs": [],
   "source": [
    "import pandas as pd"
   ]
  },
  {
   "cell_type": "code",
   "execution_count": 6,
   "id": "92d89539",
   "metadata": {},
   "outputs": [
    {
     "name": "stdout",
     "output_type": "stream",
     "text": [
      "0    34652\n",
      "1    15713\n",
      "Name: Coll_head, dtype: int64\n"
     ]
    }
   ],
   "source": [
    "df = pd.read_csv(\"all_sorted_collection.csv\")\n",
    "\n",
    "print(df['Coll_head'].value_counts())"
   ]
  },
  {
   "cell_type": "markdown",
   "id": "be299e84",
   "metadata": {},
   "source": [
    "As we can see, there are **15,713 collections** detected by our code in the dataset. The other 34,652 cards have been classified as narrative. Let's see how this compares to the number of unique authors."
   ]
  },
  {
   "cell_type": "code",
   "execution_count": 9,
   "id": "58cd8058",
   "metadata": {},
   "outputs": [
    {
     "name": "stdout",
     "output_type": "stream",
     "text": [
      "10752\n"
     ]
    }
   ],
   "source": [
    "authors = 1\n",
    "for i in range(1, len(df)):\n",
    "    if df.iloc[i]['Name'] != df.iloc[i-1]['Name']:\n",
    "        authors += 1\n",
    "        \n",
    "print(authors)"
   ]
  },
  {
   "cell_type": "markdown",
   "id": "02948043",
   "metadata": {},
   "source": [
    "By comparing each author name to the name before it, it looks like we have **10,752 unique authors** present in the card catalog. Some of these are people, but others are organizations, let's see how many of each we have."
   ]
  },
  {
   "cell_type": "markdown",
   "id": "49a9a979",
   "metadata": {},
   "source": [
    "### Author Identity: Person vs. Organization"
   ]
  },
  {
   "cell_type": "code",
   "execution_count": 17,
   "id": "eaf51ba7",
   "metadata": {},
   "outputs": [
    {
     "name": "stdout",
     "output_type": "stream",
     "text": [
      "People:  40661\n",
      "Organizations:  9704\n"
     ]
    }
   ],
   "source": [
    "people = 0\n",
    "orgs = 0\n",
    "\n",
    "for index, row in df.iterrows():\n",
    "    entity = str(row['Name'])\n",
    "    if not \",\" in entity or not \",\" in entity.split(\" \")[0] or \"Ministry\" in entity or \"England\" in entity or \"Army\" in entity or \"Archives\" in entity:\n",
    "        orgs += 1\n",
    "    else:\n",
    "        p.append(entity)\n",
    "        people += 1\n",
    "\n",
    "print(\"People: \", people)\n",
    "print(\"Organizations: \", orgs)"
   ]
  },
  {
   "cell_type": "markdown",
   "id": "78950934",
   "metadata": {},
   "source": [
    "So, of the 50,365 authoral entites, about **40,661 are people and 9,705 are organizations**. Clearly, the majority of items cataloged in the main entry file were created by individuals, but a good amount of them are associated with organizations as well. Let's see if there are similar results when checking by collection."
   ]
  },
  {
   "cell_type": "code",
   "execution_count": 19,
   "id": "7047064c",
   "metadata": {},
   "outputs": [
    {
     "name": "stdout",
     "output_type": "stream",
     "text": [
      "People:  12746\n",
      "Organizations:  2967\n"
     ]
    }
   ],
   "source": [
    "people = 0\n",
    "orgs = 0\n",
    "\n",
    "for index, row in df.iterrows():\n",
    "    if row['Coll_head'] == 1:\n",
    "        entity = str(row['Name'])\n",
    "        if not \",\" in entity or not \",\" in entity.split(\" \")[0] or \"Ministry\" in entity or \"England\" in entity or \"Army\" in entity or \"Archives\" in entity:\n",
    "            orgs += 1\n",
    "        else:\n",
    "            p.append(entity)\n",
    "            people += 1\n",
    "\n",
    "print(\"People: \", people)\n",
    "print(\"Organizations: \", orgs)"
   ]
  },
  {
   "cell_type": "markdown",
   "id": "cdccc3df",
   "metadata": {},
   "source": [
    "When looking at each of the 15,713 collections, about **12,746 of them are associated with a person and 2,967 are associated with an organization**. People comprise about 80% of the total cards and 81% of the collections. These are very similar, suggesting that the average collection length does not vary much between personally and organizationally authored collections."
   ]
  },
  {
   "cell_type": "markdown",
   "id": "0a4fceaf",
   "metadata": {},
   "source": [
    "## TODO: Collection Outliers"
   ]
  }
 ],
 "metadata": {
  "kernelspec": {
   "display_name": "Python 3",
   "language": "python",
   "name": "python3"
  },
  "language_info": {
   "codemirror_mode": {
    "name": "ipython",
    "version": 3
   },
   "file_extension": ".py",
   "mimetype": "text/x-python",
   "name": "python",
   "nbconvert_exporter": "python",
   "pygments_lexer": "ipython3",
   "version": "3.8.8"
  }
 },
 "nbformat": 4,
 "nbformat_minor": 5
}
