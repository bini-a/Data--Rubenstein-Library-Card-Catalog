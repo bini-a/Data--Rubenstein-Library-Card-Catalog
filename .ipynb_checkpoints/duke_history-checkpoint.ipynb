{
 "cells": [
  {
   "cell_type": "markdown",
   "id": "7545c95c",
   "metadata": {},
   "source": [
    "# Duke History in the Rubenstein Library Card Catalog"
   ]
  },
  {
   "cell_type": "markdown",
   "id": "5f9ec9c0",
   "metadata": {},
   "source": [
    "Duke University has a long and storied history, especially in regards to the treatment of minority groups such as POC, women, and LQBTQ individuals. Duke has decades of changes in leadership, what the various colleges have been named, and in the traditions and goals of the university. We plan to dig deeper into what of Duke history is present in the card catalog files and see what that can tell us about the institution."
   ]
  },
  {
   "cell_type": "markdown",
   "id": "5962b0a8",
   "metadata": {},
   "source": [
    "## Duke Presidential Last Names in the Card Catalog"
   ]
  },
  {
   "cell_type": "code",
   "execution_count": 1,
   "id": "7c1babd5",
   "metadata": {},
   "outputs": [],
   "source": [
    "import pandas as pd\n",
    "import matplotlib.pyplot as plt\n",
    "import re\n",
    "from scipy import stats\n",
    "import numpy as np\n",
    "pd.set_option('display.max_colwidth', None)"
   ]
  },
  {
   "cell_type": "markdown",
   "id": "49084420",
   "metadata": {},
   "source": [
    "First we will be exploring the presidents of Duke University and their prevalence within the card catalog. The current President, Vincent Price, will be excluded since his last name is commonly found in the cards with another meaning and his time at Duke is well past the time of the catalog. Interestingly enough, the penultimate President's name appears in the cards (Richard Brodhead) despite his not coming to Duke until after the card catalog was digitized. Perhaps this eponymous figure was an ancestor of the one we know in relation to Duke today. We will be searching by last name, to see the frequency of the Presidents' last names in the catalog. A few of the presidents have surnames that have alternate meanings or uses (e.g., York, Wood) and we will attempt to remove the non-name occuraces of these. A disclamer to this analysis is that this method only captures names that were both properly spelled in the catloging process and translated into text accurately by our OCR software; it is likely that there are some misspelled names that did not make it thorugh the calculations."
   ]
  },
  {
   "cell_type": "markdown",
   "id": "6f824afc",
   "metadata": {},
   "source": [
    "Brantley York,\n",
    "Braxton Craven,\n",
    "W. T. Gannaway,\n",
    "Marquis L. Wood,\n",
    "John Franklin Crowell,\n",
    "John C. Kilgo,\n",
    "William Preston Few,\n",
    "Robert L. Flowers,\n",
    "A. Hollis Edens,\n",
    "J. Deryl Hart,\n",
    "Douglas M. Knight,\n",
    "Terry Sanford,\n",
    "H. Keith H. Brodie,\n",
    "Nannerl O, Keohane,\n",
    "Richard H. Brodhead "
   ]
  },
  {
   "cell_type": "code",
   "execution_count": 6,
   "id": "4cde5888",
   "metadata": {},
   "outputs": [],
   "source": [
    "# Read in dataset\n",
    "df = pd.read_csv(\"added_author_identity.csv\")"
   ]
  },
  {
   "cell_type": "markdown",
   "id": "10353ec2",
   "metadata": {},
   "source": [
    "### Name Counting"
   ]
  },
  {
   "cell_type": "code",
   "execution_count": 5,
   "id": "59023013",
   "metadata": {},
   "outputs": [
    {
     "name": "stdout",
     "output_type": "stream",
     "text": [
      "{'York': 55, 'Craven': 97, 'Gannaway': 5, 'Wood': 192, 'Crowell': 10, 'Kilgo': 19, 'Few': 65, 'Flowers': 87, 'Edens': 3, 'Hart': 139, 'Knight': 81, 'Sanford': 145, 'Brodie': 15, 'Keohane': 0, 'Brodhead': 5}\n"
     ]
    }
   ],
   "source": [
    "# Duke University presidents in chronological order\n",
    "presidents = {\n",
    "    \"York\": 0,\n",
    "    \"Craven\": 0,\n",
    "    \"Gannaway\": 0,\n",
    "    \"Craven\": 0,\n",
    "    \"Wood\": 0,\n",
    "    \"Crowell\": 0,\n",
    "    \"Kilgo\": 0,\n",
    "    \"Few\": 0,\n",
    "    \"Flowers\": 0,\n",
    "    \"Edens\": 0,\n",
    "    \"Hart\": 0,\n",
    "    \"Knight\": 0,\n",
    "    \"Sanford\": 0,\n",
    "    \"Brodie\": 0,\n",
    "    \"Keohane\": 0,\n",
    "    \"Brodhead\": 0,\n",
    "}\n",
    "\n",
    "# Check for occurances of presidental last names in the cards\n",
    "for index, row in df.iterrows():\n",
    "    for pres in presidents.keys():\n",
    "        if pres in str(row['Text']):\n",
    "            # Check for homonyms\n",
    "            x = str(row['Text'])\n",
    "            if pres == \"York\" and (\"New\" in x or \"Yorktown\" in x or \"Yorkshire\" in x or \"England\" in x or \"Yorkville\" in x or \"in York\" in x or \"York Co\" in x.title() or \"of York\" in x or \"York City\" in x or \"York Dist\" in x.title() or \"Yorke\" in x):\n",
    "                continue\n",
    "            elif pres == \"Craven\" and \"Craven Co\" in x.title():\n",
    "                continue\n",
    "            elif pres == \"Wood\" and (re.search(r\"Wood[a-z-]\", x) or \"Wood County\" in x):\n",
    "                continue\n",
    "            elif pres == \"Kilgo\" and re.search(r\"Kilgo[a-z]\", x):\n",
    "                continue\n",
    "            elif pres == \"Hart\" and re.search(r\"Hart[a-z]\", x):\n",
    "                continue\n",
    "            elif pres == \"Knight\" and (re.search(r\"Knight[a-z]\", x) or re.search(r\"[a-z]Knight\", x)):\n",
    "                continue\n",
    "            elif pres == \"Sanford\" and (re.search(r\"Sanford,.*North Carolina\", x) or \"in Sanford\" in x or \"of Sanford\" in x or \"at Sanford\" in x or \"Railway\" in x):\n",
    "                continue\n",
    "            else:\n",
    "                presidents[pres] = presidents.get(pres) + 1\n",
    "\n",
    "print(presidents)"
   ]
  },
  {
   "cell_type": "code",
   "execution_count": 2,
   "id": "000d4b30",
   "metadata": {},
   "outputs": [],
   "source": [
    "president_counts = {\n",
    "    'York': 55, \n",
    "    'Craven': 97, \n",
    "    'Gannaway': 5, \n",
    "    'Wood': 192, \n",
    "    'Crowell': 10, \n",
    "    'Kilgo': 19, \n",
    "    'Few': 65, \n",
    "    'Flowers': 87, \n",
    "    'Edens': 3, \n",
    "    'Hart': 139, \n",
    "    'Knight': 81, \n",
    "    'Sanford': 145, \n",
    "    'Brodie': 15, \n",
    "    'Keohane': 0, \n",
    "    'Brodhead': 5\n",
    "}\n",
    "\n",
    "census_freqs = {\n",
    "    'York': 0.019, \n",
    "    'Craven': 0.006, \n",
    "    'Gannaway': 0.001, \n",
    "    'Wood': 0.098, \n",
    "    'Crowell': 0.007, \n",
    "    'Kilgo': 0.001, \n",
    "    'Few': 0.001, \n",
    "    'Flowers': 0.028, \n",
    "    'Edens': 0.002, \n",
    "    'Hart': 0.054, \n",
    "    'Knight': 0.060, \n",
    "    'Sanford': 0.015, \n",
    "    'Brodie': 0.002, \n",
    "    'Keohane': 0.000, \n",
    "    'Brodhead': 0.000\n",
    "}"
   ]
  },
  {
   "cell_type": "markdown",
   "id": "6ffb4f42",
   "metadata": {},
   "source": [
    "### Frequency Plotting"
   ]
  },
  {
   "cell_type": "code",
   "execution_count": 3,
   "id": "f978d87f",
   "metadata": {},
   "outputs": [
    {
     "data": {
      "image/png": "[encoded data removed]",
      "text/plain": [
       "<Figure size 432x288 with 1 Axes>"
      ]
     },
     "metadata": {
      "needs_background": "light"
     },
     "output_type": "display_data"
    },
    {
     "data": {
      "image/png": "[encoded data removed]",
      "text/plain": [
       "<Figure size 432x288 with 1 Axes>"
      ]
     },
     "metadata": {
      "needs_background": "light"
     },
     "output_type": "display_data"
    }
   ],
   "source": [
    "# Disply bar chart of last name occurances\n",
    "plt.bar(*zip(*president_counts.items()), color='#00539B')\n",
    "plt.xticks(rotation = 45)\n",
    "plt.title(\"Occurances of Duke Presidental Names in the Card Catalog\")\n",
    "plt.xlabel(\"Name\")\n",
    "plt.ylabel(\"# of Cards\")\n",
    "plt.show()\n",
    "\n",
    "# Display bar chart of last name frequencies based on the 1990 census data\n",
    "plt.bar(*zip(*census_freqs.items()), color='#00539B')\n",
    "plt.xticks(rotation = 45)\n",
    "plt.title(\"Frequency of Duke Presidental Last Names in America From 1990 Census Data\")\n",
    "plt.xlabel(\"Name\")\n",
    "plt.ylabel(\"% Frequency\")\n",
    "plt.show()"
   ]
  },
  {
   "cell_type": "markdown",
   "id": "ecbe10d5",
   "metadata": {},
   "source": [
    "The first bar chart shows the frequencies of the Duke presidential last names within the card catalog, in order of presidental appointment. There does not appear to be any trend over time amongst the names. When comparing to the 1990 census data of last name frequency in the United States, some names are similarly more frequent than others (e.g., Wood and Hart) or similarly infrequent (e.g. Gannaway, Edens, and Keohane). Some presidents, however, have statistically uncommon last names but a large amount of occurances in the card catalog (Craven, Few, Sanford). Are there other factors at play?"
   ]
  },
  {
   "cell_type": "markdown",
   "id": "a0374dd7",
   "metadata": {},
   "source": [
    "#### Occurances versus Time in Office"
   ]
  },
  {
   "cell_type": "markdown",
   "id": "0469f8b1",
   "metadata": {},
   "source": [
    "Each of these Presidents served varied time spans in office, let's see if there is a relationship between the length of time they spent in office and the amount of times they were mentioned in cards in the catalog. Preseident Craven served two nonconsecutive terms, so his time in office will be the addition of the two terms."
   ]
  },
  {
   "cell_type": "code",
   "execution_count": 6,
   "id": "180e1e99",
   "metadata": {},
   "outputs": [
    {
     "data": {
      "image/png": "[encoded data removed]",
      "text/plain": [
       "<Figure size 432x288 with 1 Axes>"
      ]
     },
     "metadata": {
      "needs_background": "light"
     },
     "output_type": "display_data"
    }
   ],
   "source": [
    "terms = [4, 37, 2, 1, 7, 16, 30, 7, 11, 3, 6, 16, 8, 11, 13]\n",
    "counts = [55, 97, 5, 192, 10, 19, 65, 87, 3, 139, 81, 145, 15, 0, 5]\n",
    "\n",
    "# Code adapted from https://www.w3schools.com/python/python_ml_linear_regression.asp\n",
    "slope, intercept, r, p, std_err = stats.linregress(terms, counts)\n",
    "\n",
    "def myfunc(x):\n",
    "  return slope * x + intercept\n",
    "\n",
    "mymodel = list(map(myfunc, terms))\n",
    "#------------------------------------------------------------------------\n",
    "\n",
    "plt.scatter(terms, counts, color='#00539B')\n",
    "plt.plot(terms, mymodel, color='#00539B')\n",
    "plt.title(\"Card Catalog Presidential Mentions versus Time in Office\")\n",
    "plt.xlabel(\"Years in Office\")\n",
    "plt.ylabel(\"# of Cards\")\n",
    "plt.show()"
   ]
  },
  {
   "cell_type": "markdown",
   "id": "a68cc9aa",
   "metadata": {},
   "source": [
    "Shown above is a scatterplot of the number of cards on which a presidential last name is mentioned versus the amount of time they spent in office. We ran a linear regression on the data and found **no correlation** between these two variables. Time in office appears not to impact the prevalence of presidential last names in the catalog. What else is going on here?"
   ]
  },
  {
   "cell_type": "markdown",
   "id": "aaaa3db6",
   "metadata": {},
   "source": [
    "### Presidental First and Last Names"
   ]
  },
  {
   "cell_type": "markdown",
   "id": "8cf02065",
   "metadata": {},
   "source": [
    "A common occurrance in the card catalog is the presence of multiple generations of family members. By looking at the *last* names of presidents, we were able to look for more general trends in regards to the presidents' names, but are unable to determine just how many of the last names gleaned are actually related to the president or their family members. Next we will look into instances where the specific presidents' *first and last* names occur in the files, with hopes of learning more about the history and prevalence of these figures within the card catalog."
   ]
  },
  {
   "cell_type": "code",
   "execution_count": 8,
   "id": "627e61bd",
   "metadata": {},
   "outputs": [],
   "source": [
    "df = pd.read_csv(\"added_author_identity.csv\")\n",
    "df = df[~df.Name.isnull()]\n",
    "df = df[~df.Text.isnull()]\n",
    "df=df.iloc[:,[2,3,8,9,10]]\n",
    "\n",
    "# For example Craven, Braxton -- we can find if both words occur in a row\n",
    "base = r'^{}'\n",
    "expr = '(?=.*{})'\n",
    "\n",
    "# names to look for occuring together\n",
    "full_names = [\n",
    "    [\"York\",\"Brantley\"],\n",
    "    [\"Craven\", \"Braxton\"],\n",
    "    [\"Gannaway\", \"William\"],\n",
    "    [\"Wood\", \"Marquis\"],\n",
    "    [\"Crowell\", \"John\"],\n",
    "    [\"Kilgo\", \"John\"],\n",
    "    [\"Few\", \"William\"],\n",
    "    [\"Flowers\", \"Robert\"],\n",
    "    [\"Edens\", \"Arthur\"],\n",
    "    [\"Hart\", \"Julian\"],\n",
    "    [\"Knight\", \"Douglas\"],\n",
    "    [\"Sanford\", \"Terry\"],\n",
    "    [\"Brodie\", \"Keith\"],\n",
    "    [\"Keohane\", \"Nannerl\"],\n",
    "    [\"Brodhead\", \"Richard\"]\n",
    "]\n",
    "\n",
    "pres_first_last = [\"Brantley York\", \"Braxton Craven\", \"William Gannaway\", \"Marquis Wood\", \"John Crowell\",\n",
    "                   \"John Kilgo\", \"William Few\", \"Robert Flowers\", \"Arthur Edens\", \"Julian Hart\",\n",
    "                   \"Douglas Knight\", \"Terry Sanford\", \"Keith Brodie\", \"Nannerl Keohane\", \"Richard Brodhead\"]\n",
    "\n",
    "# York was found 55 times according to the previous method, but most talk about cities & counties. There are probably very few talking about the president"
   ]
  },
  {
   "cell_type": "code",
   "execution_count": 11,
   "id": "d03991e7",
   "metadata": {},
   "outputs": [
    {
     "name": "stdout",
     "output_type": "stream",
     "text": [
      "[4, 36, 5, 5, 5, 10, 34, 15, 0, 1, 4, 17, 0, 0, 3]\n"
     ]
    }
   ],
   "source": [
    "# This better extracts the president names by checking the occurence of both last and first names\n",
    "# Can be expanded to look if both names occur in nearby rows, and if either one occurs in adjacent rows, that also could be added\n",
    "name_counts = []\n",
    "\n",
    "for name in full_names:\n",
    "    name_counts.append(len(df[df.Text.str.contains(base.format(''.join(expr.format(w) for w in name)),case=True)]))\n",
    "\n",
    "print(name_counts)"
   ]
  },
  {
   "cell_type": "markdown",
   "id": "0ea836ca",
   "metadata": {},
   "source": [
    "When we check for both the first and last names of the Duke presidents, we get markedly fewer results, but more accurate ones. Let's take a look at the frequency of each president's mentions."
   ]
  },
  {
   "cell_type": "code",
   "execution_count": 4,
   "id": "700312b3",
   "metadata": {},
   "outputs": [
    {
     "data": {
      "image/png": "[encoded data removed]",
      "text/plain": [
       "<Figure size 432x288 with 1 Axes>"
      ]
     },
     "metadata": {
      "needs_background": "light"
     },
     "output_type": "display_data"
    }
   ],
   "source": [
    "# Disply bar chart of first and last name occurances\n",
    "plt.bar(pres_first_last, name_counts, color='#00539B')\n",
    "plt.xticks(rotation = 45)\n",
    "plt.title(\"Occurances of Duke Presidental Names in the Card Catalog\")\n",
    "plt.xlabel(\"Name\")\n",
    "plt.ylabel(\"# of Cards\")\n",
    "plt.show()"
   ]
  },
  {
   "cell_type": "markdown",
   "id": "b44016d2",
   "metadata": {},
   "source": [
    "It looks like some of the presidents with more common last names, like Wood, Knight, and Hart, have gone down in frequency when we also check for first names. Let's compare with the length of time in office."
   ]
  },
  {
   "cell_type": "code",
   "execution_count": 5,
   "id": "6cd35ec8",
   "metadata": {},
   "outputs": [
    {
     "data": {
      "image/png": "[encoded data removed]",
      "text/plain": [
       "<Figure size 432x288 with 1 Axes>"
      ]
     },
     "metadata": {
      "needs_background": "light"
     },
     "output_type": "display_data"
    }
   ],
   "source": [
    "terms = [4, 37, 2, 1, 7, 16, 30, 7, 11, 3, 6, 16, 8, 11, 13]\n",
    "\n",
    "# Code adapted from https://www.w3schools.com/python/python_ml_linear_regression.asp\n",
    "slope, intercept, r, p, std_err = stats.linregress(terms, name_counts)\n",
    "\n",
    "def myfunc(x):\n",
    "  return slope * x + intercept\n",
    "\n",
    "mymodel = list(map(myfunc, terms))\n",
    "#------------------------------------------------------------------------\n",
    "\n",
    "plt.scatter(terms, name_counts, color='#00539B')\n",
    "plt.plot(terms, mymodel, color='#00539B')\n",
    "plt.title(\"Card Catalog Presidential Mentions versus Time in Office\")\n",
    "plt.xlabel(\"Years in Office\")\n",
    "plt.ylabel(\"# of Cards\")\n",
    "plt.show()\n",
    "\n",
    "## TODO: Label dots with names"
   ]
  },
  {
   "cell_type": "markdown",
   "id": "63d8584e",
   "metadata": {},
   "source": [
    "When we run a linear regression on first and last name occurrances versus years a president was in office, we find a **positive** correlation between the variables. So, as the number of years in office a president had increases, the number of cards on which they are mentioned increases."
   ]
  },
  {
   "cell_type": "markdown",
   "id": "88779ba0",
   "metadata": {},
   "source": [
    "## Qualitative Analysis of Duke Presidents in the Catalog"
   ]
  },
  {
   "cell_type": "markdown",
   "id": "8ccf42bb",
   "metadata": {},
   "source": [
    "Let's see what the collections containing the Duke Presidents' full names are talking about and whether they are indeed mentioning the presidents. To do this, we searched through the instances where a president's first and last name appeared in the catalog, briefly summarized the mention, and provided relevant links."
   ]
  },
  {
   "cell_type": "markdown",
   "id": "91084ca5",
   "metadata": {},
   "source": [
    "### Keith Brodie, Nannerel Keohane, and Arthur Edens"
   ]
  },
  {
   "cell_type": "markdown",
   "id": "badcb2dd",
   "metadata": {},
   "source": [
    "Presidents Brodie, Keohane, and Edens were not mentioned in the card catalog."
   ]
  },
  {
   "cell_type": "markdown",
   "id": "10949504",
   "metadata": {},
   "source": [
    "### Julian Hart"
   ]
  },
  {
   "cell_type": "markdown",
   "id": "b47b75b1",
   "metadata": {},
   "source": [
    "The card containing \"Julian\" and \"Hart\" is not referring to the Duke president."
   ]
  },
  {
   "cell_type": "markdown",
   "id": "9b429e8b",
   "metadata": {},
   "source": [
    "### Richard Brodhead"
   ]
  },
  {
   "cell_type": "markdown",
   "id": "8c213923",
   "metadata": {},
   "source": [
    "On two cards, a Richard Brodhead is mentioned, but not the one who was president of Duke. Upon further inspection, this man was a [U.S. Democratic Senator from Pennsylvania](https://en.wikipedia.org/wiki/Richard_Brodhead). The cards upon which he is mentioned can be viewed [here](https://archive.org/details/rubensteinmanuscriptcatalog_P_to_Peo/page/44/mode/2up) and [here](https://archive.org/details/rubensteinmanuscriptcatalog_Pep_to_Pn/page/n393/mode/2up)."
   ]
  },
  {
   "cell_type": "markdown",
   "id": "af0acbcc",
   "metadata": {},
   "source": [
    "### Douglas Knight"
   ]
  },
  {
   "cell_type": "markdown",
   "id": "d29ff48a",
   "metadata": {},
   "source": [
    "President Douglas Knight is mentioned as having [correspondence with Herbert Clarence Bradshaw](https://archive.org/details/rubensteinmanuscriptcatalog_R._Boyd_to_I._Brown/page/n125/mode/2up), being the recipient of a [letter from a Mr. Matton](https://archive.org/details/rubensteinmanuscriptcatalog_Mani_to_Maw/page/3/mode/2up) and [letters from William Murray Werber](https://archive.org/details/rubensteinmanuscriptcatalog_Ware_to_H._White/page/n567/mode/2up). The first two mention religion and all involve letters."
   ]
  },
  {
   "cell_type": "markdown",
   "id": "b2248a6d",
   "metadata": {},
   "source": [
    "### Brantley York"
   ]
  },
  {
   "cell_type": "markdown",
   "id": "f6d34f8d",
   "metadata": {},
   "source": [
    "One [card](https://archive.org/details/rubensteinmanuscriptcatalog_X_to_Z/page/n83/mode/2up) simply prompts a look to the Duke University Archives. York is mentioned here as [correspondent to Tod Robinson Caldwell](https://archive.org/details/rubensteinmanuscriptcatalog_M._Butler_to_Caq/page/n202/mode/2up). \n",
    "\n",
    "[This collection](https://archive.org/details/rubensteinmanuscriptcatalog_Durh_to_Els/page/n586/mode/2up) mentions early foundations of Duke Univesity and President Craven.\n",
    "\n",
    "Here is [York's son's collection](https://archive.org/details/rubensteinmanuscriptcatalog_X_to_Z/page/n89/mode/2up)."
   ]
  },
  {
   "cell_type": "markdown",
   "id": "ca8e3e97",
   "metadata": {},
   "source": [
    "### William Gannaway"
   ]
  },
  {
   "cell_type": "markdown",
   "id": "39caaedf",
   "metadata": {},
   "source": [
    "Four cards mention William Gannaway Brownlow, former Governor of Tennesee and one is a prompt to [see the archives](https://archive.org/details/rubensteinmanuscriptcatalog_Fro_to_Geq/page/n322/mode/2up)."
   ]
  },
  {
   "cell_type": "markdown",
   "id": "5acc3e4a",
   "metadata": {},
   "source": [
    "### Marquis Wood"
   ]
  },
  {
   "cell_type": "markdown",
   "id": "54d14dec",
   "metadata": {},
   "source": [
    "Like many of the other presidents, Wood has a [card](https://archive.org/details/rubensteinmanuscriptcatalog_S._Williams_to_Wood/page/n717/mode/2up) prompting a check of the archives.\n",
    "\n",
    "Marquis Wood also has two collections of [papers](https://archive.org/details/rubensteinmanuscriptcatalog_Meth_to_Mh/page/59/mode/2up) associated with the Methodist Episcopal [Church](https://archive.org/details/rubensteinmanuscriptcatalog_Meth_to_Mh/page/n344/mode/2up).\n",
    "\n",
    "In William Clark Doub's [collection](https://archive.org/details/rubensteinmanuscriptcatalog_Del_to_Dov/page/19/mode/2up), Wood's manuscript on the introduction of Methodism into the Yadkin Valley is mentioned."
   ]
  },
  {
   "cell_type": "markdown",
   "id": "91962619",
   "metadata": {},
   "source": [
    "### John Crowell"
   ]
  },
  {
   "cell_type": "markdown",
   "id": "fe904c6d",
   "metadata": {},
   "source": [
    "We, of course, have the entry under Crowell's name to [See Duke University Archives](https://archive.org/details/rubensteinmanuscriptcatalog_Cre_to_I._Davis/page/n119/mode/2up).\n",
    "\n",
    "This [card](https://archive.org/details/rubensteinmanuscriptcatalog_A_to_Amer/page/n127/mode/2up) mentions a quarrel between Crowell and his faculty.\n",
    "\n",
    "[This](https://archive.org/details/rubensteinmanuscriptcatalog_Mus_to_Nn/page/n105/mode/2up) and [this](https://archive.org/details/rubensteinmanuscriptcatalog_Gri_to_Hand/page/n131/mode/2up) mention letters to and from John Crowell.\n",
    "\n",
    "[Here](https://archive.org/details/rubensteinmanuscriptcatalog_V_to_Ward/page/n85/mode/2up) Crowell is part of a list of unpublished sketches of well-known North Carolinians."
   ]
  },
  {
   "cell_type": "markdown",
   "id": "7dbe3e1a",
   "metadata": {},
   "source": [
    "### John Kilgo"
   ]
  },
  {
   "cell_type": "markdown",
   "id": "619c34d6",
   "metadata": {},
   "source": [
    "Here we have the boilerplate John Kilgo [card](https://archive.org/details/rubensteinmanuscriptcatalog_K_to_Kira/page/n489/mode/2up).\n",
    "\n",
    "Kilgo is listed as a correspondent in the Hemphill Family [Collection](https://archive.org/details/rubensteinmanuscriptcatalog_Harw_to_Hem/page/23/mode/2up).\n",
    "\n",
    "Kilgo appears to have been involved in the Methodist Episcopal Church [here](https://archive.org/details/rubensteinmanuscriptcatalog_Meth_to_Mh/page/n503/mode/2up) and [here](https://archive.org/details/rubensteinmanuscriptcatalog_Mi_to_Mord/page/n686/mode/2up).\n",
    "\n",
    "Correspondence with President Kilgo is mentioned [here](https://archive.org/details/rubensteinmanuscriptcatalog_Ton_to_Tz/page/n668/mode/2up) and [here](https://archive.org/details/rubensteinmanuscriptcatalog_Wi._Smith_to_So/page/n642/mode/2up) in relation to the Southgates.\n",
    "\n",
    "Kilgo seems to be something of a controversial and outspoken character, as [here](https://archive.org/details/rubensteinmanuscriptcatalog_J._Brown_to_L._Butler/page/n675/mode/2up) and [here](https://archive.org/details/rubensteinmanuscriptcatalog_Ton_to_Tz/page/81/mode/2up) he is spoken of positively and [here](https://archive.org/details/rubensteinmanuscriptcatalog_A_to_Amer/page/n157/mode/2up) and [here](https://archive.org/details/rubensteinmanuscriptcatalog_Wi._Smith_to_So/page/n639/mode/2up) he is said to be involved in a court case."
   ]
  },
  {
   "cell_type": "markdown",
   "id": "a96f93a3",
   "metadata": {},
   "source": [
    "### Robert Flowers"
   ]
  },
  {
   "cell_type": "markdown",
   "id": "c30f4883",
   "metadata": {},
   "source": [
    "In addition to the requisite Flowers [card](https://archive.org/details/rubensteinmanuscriptcatalog_Fif_to_Frn/page/n276/mode/2up) we have correspondence between Flowers and others [here](https://archive.org/details/rubensteinmanuscriptcatalog_Conl_to_Crd/page/n265/mode/2up), [here](https://archive.org/details/rubensteinmanuscriptcatalog_Gre_to_Grh/page/n605/mode/2up), [here](https://archive.org/details/rubensteinmanuscriptcatalog_No_to_Oz/page/151/mode/2up), [here](https://archive.org/details/rubensteinmanuscriptcatalog_Wi._Smith_to_So/page/n632/mode/2up), [here](https://archive.org/details/rubensteinmanuscriptcatalog_Wi._Smith_to_So/page/n638/mode/2up), and [here](https://archive.org/details/rubensteinmanuscriptcatalog_J._Thomas_to_Tom/page/n73/mode/2up).\n",
    "\n",
    "President Flowers is praised [here](https://archive.org/details/rubensteinmanuscriptcatalog_Ton_to_Tz/page/81/mode/2up) along with some other notable Dukies and had gifted some items related to the Methodist Church [here](https://archive.org/details/rubensteinmanuscriptcatalog_Meth_to_Mh/page/n17/mode/2up).\n",
    "\n",
    "He is also in a [photograph](https://archive.org/details/rubensteinmanuscriptcatalog_Lowr_to_Mack/page/n115/mode/2up) that is cataloged and is said to have written a biography of [Edwin W. Fuller](https://archive.org/details/rubensteinmanuscriptcatalog_Fro_to_Geq/page/n95/mode/2up)."
   ]
  },
  {
   "cell_type": "markdown",
   "id": "c53ef0f6",
   "metadata": {},
   "source": [
    "### Terry Sanford"
   ]
  },
  {
   "cell_type": "markdown",
   "id": "b97edc9d",
   "metadata": {},
   "source": [
    "As Terry Sanford was a US Senator and NC Governor as well as a President of Duke, there appear to be many cards mentioning him. Cards mentioning correspondence with Sanford can be found [here](https://archive.org/details/rubensteinmanuscriptcatalog_R._Boyd_to_I._Brown/page/n126/mode/2up), [here](https://archive.org/details/rubensteinmanuscriptcatalog_Claw_to_Com/page/n498/mode/2up), [here](https://archive.org/details/rubensteinmanuscriptcatalog_Claw_to_Com/page/n506/mode/2up), [here](https://archive.org/details/rubensteinmanuscriptcatalog_Hold_to_Huba/page/n149/mode/2up), [here](https://archive.org/details/rubensteinmanuscriptcatalog_J._Thomas_to_Tom/page/80/mode/2up), and [here](https://archive.org/details/rubensteinmanuscriptcatalog_Ton_to_Tz/page/n177/mode/2up).\n",
    "\n",
    "[This](https://archive.org/details/rubensteinmanuscriptcatalog_Wi._Smith_to_So/page/n580/mode/2up) talks about the Southern Rural Poverty Project, directed by members of the Sanford Institute of Public Policy.\n",
    "\n",
    "[Here](https://archive.org/details/rubensteinmanuscriptcatalog_Claw_to_Com/page/n519/mode/2up) and [here](https://archive.org/details/rubensteinmanuscriptcatalog_Hane_to_Harv/page/n9/mode/2up) are collections that catalog items that talk about Sanford.\n",
    "\n",
    "[Here] and on subsequent pages we have a restricted collection relating to manuscripts created by Terry Sanford, related to his time as Governor and Duke President. And [here](https://archive.org/details/rubensteinmanuscriptcatalog_San_to_Sem/page/n73/mode/2up) there are documents related to his time as a US Senator."
   ]
  },
  {
   "cell_type": "markdown",
   "id": "46aede88",
   "metadata": {},
   "source": [
    "### William Few"
   ]
  },
  {
   "cell_type": "markdown",
   "id": "a9d689ae",
   "metadata": {},
   "source": [
    "Few is mentioned as a professor [here](https://archive.org/details/rubensteinmanuscriptcatalog_J._Brown_to_L._Butler/page/1873/mode/2up).\n",
    "\n",
    "He is included in collections with other important Duke figures [here](https://archive.org/details/rubensteinmanuscriptcatalog_Ben_to_Blac/page/n481/mode/2up), [here](https://archive.org/details/rubensteinmanuscriptcatalog_Dow_to_Durg/page/n255/mode/2up), [here](https://archive.org/details/rubensteinmanuscriptcatalog_Fif_to_Frn/page/n292/mode/2up), [here](https://archive.org/details/rubensteinmanuscriptcatalog_Harw_to_Hem/page/21/mode/2up), [here](https://archive.org/details/rubensteinmanuscriptcatalog_Pep_to_Pn/page/n47/mode/2up), and [here](https://archive.org/details/rubensteinmanuscriptcatalog_Wi._Smith_to_So/page/n641/mode/2up).\n",
    "\n",
    "Correspondece with William Few is mentioned [here](https://archive.org/details/rubensteinmanuscriptcatalog_Lanp_to_Ler/page/n223/mode/2up), [here](https://archive.org/details/rubensteinmanuscriptcatalog_P_to_Peo/page/39/mode/2up), and [here](https://archive.org/details/rubensteinmanuscriptcatalog_V_to_Ward/page/n403/mode/2up).\n",
    "\n",
    "Few's son, Lynne Few, appears [here](https://archive.org/details/rubensteinmanuscriptcatalog_Ger_to_Gorl/page/n536/mode/2up).\n",
    "\n",
    "He also has a [collection](https://archive.org/details/rubensteinmanuscriptcatalog_Elt_to_Fie/page/n625/mode/2up) of papers related to war and money.\n",
    "\n",
    "Ella Howerton Parks remembers Few as the [\"prince of all hat doffers.\"](https://archive.org/details/rubensteinmanuscriptcatalog_P_to_Peo/page/n295/mode/2up).\n",
    "\n",
    "[This collection](https://archive.org/details/rubensteinmanuscriptcatalog_V_to_Ward/page/n649/mode/2up) talks about a treatise Few signed related to the relations between the northern and southern colonies."
   ]
  },
  {
   "cell_type": "markdown",
   "id": "ce206eab",
   "metadata": {},
   "source": [
    "### Braxton Craven"
   ]
  },
  {
   "cell_type": "markdown",
   "id": "7190de0e",
   "metadata": {},
   "source": [
    "President Craven's great grandson has a rather extensive [collection](https://archive.org/details/rubensteinmanuscriptcatalog_Conl_to_Crd/page/n689/mode/2up) and his grandson is mentioned [here](https://archive.org/details/rubensteinmanuscriptcatalog_Conl_to_Crd/page/n677/mode/2up).\n",
    "\n",
    "Braxton Craven is cataloged in the 1850 census of Randolph County [here](https://archive.org/details/rubensteinmanuscriptcatalog_Armi_to_Bal/page/n486/mode/2up) along with many transactions under his name. Another money-related [card](https://archive.org/details/rubensteinmanuscriptcatalog_Con_to_Conk/page/n403/mode/2up) mentions a statement for what Trinity College owed a company.\n",
    "\n",
    "Correspondences involving Craven are cataloged [here](https://archive.org/details/rubensteinmanuscriptcatalog_Durh_to_Els/page/n586/mode/2up), [here](https://archive.org/details/rubensteinmanuscriptcatalog_Harw_to_Hem/page/n34/mode/2up), and [here](https://archive.org/details/rubensteinmanuscriptcatalog_Harw_to_Hem/page/n88/mode/2up).\n",
    "\n",
    "Craven is mentioned, but not in much detail [here](https://archive.org/details/rubensteinmanuscriptcatalog_Elt_to_Fie/page/n469/mode/2up), [here](https://archive.org/details/rubensteinmanuscriptcatalog_Gri_to_Hand/page/n128/mode/2up), [here](https://archive.org/details/rubensteinmanuscriptcatalog_Harw_to_Hem/page/167/mode/2up), [here](https://archive.org/details/rubensteinmanuscriptcatalog_J._Johnson_to_Jz/page/n676/mode/2up), [here](https://archive.org/details/rubensteinmanuscriptcatalog_Lanp_to_Ler/page/27/mode/2up), and [here](https://archive.org/details/rubensteinmanuscriptcatalog_I._White_to_R._Williams/page/n408/mode/2up)."
   ]
  }
 ],
 "metadata": {
  "kernelspec": {
   "display_name": "Python 3",
   "language": "python",
   "name": "python3"
  },
  "language_info": {
   "codemirror_mode": {
    "name": "ipython",
    "version": 3
   },
   "file_extension": ".py",
   "mimetype": "text/x-python",
   "name": "python",
   "nbconvert_exporter": "python",
   "pygments_lexer": "ipython3",
   "version": "3.8.8"
  }
 },
 "nbformat": 4,
 "nbformat_minor": 5
}
