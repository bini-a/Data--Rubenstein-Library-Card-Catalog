{
 "cells": [
  {
   "cell_type": "markdown",
   "id": "d2e6baed",
   "metadata": {},
   "source": [
    "# Duke History in the Rubenstein Library Card Catalog"
   ]
  },
  {
   "cell_type": "markdown",
   "id": "884eb3d1",
   "metadata": {},
   "source": [
    "Duke University has a long and storied history, especially in regards to the treatment of minority groups such as POC, women, and LQBTQ individuals. Duke has decades of changes in leadership, what the various colleges have been named, and in the traditions and goals of the university. We plan to dig deeper into what of Duke history is present in the card catalog files and see what that can tell us about the institution."
   ]
  },
  {
   "cell_type": "markdown",
   "id": "afcfe7a1",
   "metadata": {},
   "source": [
    "## Duke Presidential Last Names in the Card Catalog"
   ]
  },
  {
   "cell_type": "code",
   "execution_count": 2,
   "id": "d1d05005",
   "metadata": {},
   "outputs": [],
   "source": [
    "import pandas as pd\n",
    "import matplotlib.pyplot as plt\n",
    "import re"
   ]
  },
  {
   "cell_type": "markdown",
   "id": "e4f02450",
   "metadata": {},
   "source": [
    "First we will be exploring the presidents of Duke University and their prevalence within the card catalog. The current President, Vincent Price, will be excluded since his last name is commonly found in the cards with another meaning and his time at Duke is well past the time of the catalog. Interestingly enough, the penultimate President's name appears in the cards (Richard Brodhead) despite his not coming to Duke until after the card catalog was digitized. Perhaps this eponymous figure was an ancestor of the one we know in relation to Duke today. We will be searching by last name, to see the frequency of the Presidents' last names in the catalog. A few of the presidents have surnames that have alternate meanings or uses (e.g., York, Wood) and we will attempt to remove the non-name occuraces of these."
   ]
  },
  {
   "cell_type": "code",
   "execution_count": 18,
   "id": "0ed6303f",
   "metadata": {},
   "outputs": [
    {
     "name": "stdout",
     "output_type": "stream",
     "text": [
      "Barbour, John N, 7 in the origin of the “American Land Co., about his own efforts in organizing the Ala. and Miss. Land Companies, and the aid given by Richard Fletcher, a member of the House of Representatives from Mass. who later became Judge of the Supreme Court of Mass., and     Samuel Dickinson Hubbard, a Representative from Conn., later Postmaster General of the U. S., as well as of the political influence of a Daniel D. Brodhead, who had originated the Miss. Land Co.  Evidently om \\ influences played a\n",
      "Micro film Draper, Lyman Copeland, 1815-1891. N1323s Draper manuscript collectione eee { 1944- J (Card 4) Brodhead paperse-—Series Je George Rogers Clark paperse-—-Series Ke George Rogers Clark miscellaniese-——Series Le Jonathan Clark paperse—Series Me William Clark paperse--Series Ne William Croghan paperse--Series Oc Daniel and Benjamin Drake paperse CONTENTS-e—-—-Series P. Draper's biographical sketchese-——Series Qe5e Draper's history miscellaniese——Series Re Draper's memoranda bookse-——Series Se Draper's notese-—Series Te Thomas Forsyth paperse-—Series Ue Frontier warse-——Series Ve Georgia, Alabama, & South Carol ina paperse—Series We Josiah Harmar paperse--Series Xe 23 MAY 85 3316303 NDDPxc SEE NEXT CRD\n",
      "Page, Yelverton Peyton  Senators who wrote to Page in regard to his official duties, often to have newspapers for- warded, were Joseph K. Barnes, Asa Biggs, Solon Borland, Lawrence Brainerd, Jesse D. Bright, Richard Brodhead, Salmon P. Chase, Clement C. Clay, Alpheus Fitch, Geo. W. Jones, James J. Jones, James A. Pearce, Chas. E. Stuart, John     S. Wells, and John Woodruff. ; Senator Lyman Trumbull, on Apr. 87, 1857, asked Page to supply the opinion of the Supreme Court in the Dred Scott Case and Page answered on May 20. Letters of Lewis Cass as a Senator\n",
      "Piatt, William M. 26 21, 1867, James Harding writes from California, giving a description of Democratic politics in that state and of the race between Henry Hunt- ley Haight and George C. Gorham for the gover- norship. Clippings déscribe the North Branch [Susquehanna River] Canal, April 25, 1855, and an iron mine development in Granville. Co., N. C,     in 1925. Among the prominent political cor- respondents, 1852-1872, are William Bigler, Richard Brodhead, Cparles Rollin Buckalew, Paul Leidy, William Wallace, and Hendrick Bradley  Wright.\n",
      "Van Buren, Thomas Brodhead  FOR INFORMATION ABOUT THIS COLLECTION OR ADDITIONS TO THIS COLLECTION, PLEASE ASK  A STAFF MEMBER TO CONSULT THE ACCESSION RECORDS.\n",
      "{'York': 55, 'Craven': 97, 'Gannaway': 5, 'Wood': 192, 'Crowell': 10, 'Kilgo': 19, 'Few': 65, 'Flowers': 87, 'Edens': 3, 'Hart': 139, 'Knight': 81, 'Sanford': 174, 'Brodie': 15, 'Keohane': 0, 'Brodhead': 5}\n"
     ]
    }
   ],
   "source": [
    "df = pd.read_csv(\"all_sorted_collection.csv\")\n",
    "\n",
    "# Duke University presidents in chronological order\n",
    "presidents = {\n",
    "    \"York\": 0,\n",
    "    \"Craven\": 0,\n",
    "    \"Gannaway\": 0,\n",
    "    \"Craven\": 0,\n",
    "    \"Wood\": 0,\n",
    "    \"Crowell\": 0,\n",
    "    \"Kilgo\": 0,\n",
    "    \"Few\": 0,\n",
    "    \"Flowers\": 0,\n",
    "    \"Edens\": 0,\n",
    "    \"Hart\": 0,\n",
    "    \"Knight\": 0,\n",
    "    \"Sanford\": 0,\n",
    "    \"Brodie\": 0,\n",
    "    \"Keohane\": 0,\n",
    "    \"Brodhead\": 0,\n",
    "}\n",
    "\n",
    "# Check for occurances of presidental last names in the cards\n",
    "for index, row in df.iterrows():\n",
    "    for pres in presidents.keys():\n",
    "        if pres in str(row['Text']):\n",
    "            # Check for homonyms\n",
    "            x = str(row['Text'])\n",
    "            if pres == \"York\" and (\"New\" in x or \"Yorktown\" in x or \"Yorkshire\" in x or \"England\" in x or \"Yorkville\" in x or \"in York\" in x or \"York Co\" in x.title() or \"of York\" in x or \"York City\" in x or \"York Dist\" in x.title() or \"Yorke\" in x):\n",
    "                continue\n",
    "            elif pres == \"Craven\" and \"Craven Co\" in x.title():\n",
    "                continue\n",
    "            elif pres == \"Wood\" and (re.search(r\"Wood[a-z-]\", x) or \"Wood County\" in x):\n",
    "                continue\n",
    "            elif pres == \"Kilgo\" and re.search(r\"Kilgo[a-z]\", x):\n",
    "                continue\n",
    "            elif pres == \"Hart\" and re.search(r\"Hart[a-z]\", x):\n",
    "                continue\n",
    "            elif pres == \"Knight\" and (re.search(r\"Knight[a-z]\", x) or re.search(r\"[a-z]Knight\", x)):\n",
    "                continue\n",
    "            else:\n",
    "                presidents[pres] = presidents.get(pres) + 1\n",
    "                \n",
    "            if pres == \"Brodhead\":\n",
    "                print(row['Text'])\n",
    "\n",
    "print(presidents)"
   ]
  },
  {
   "cell_type": "code",
   "execution_count": null,
   "id": "2a1b6eee",
   "metadata": {},
   "outputs": [],
   "source": [
    "{'York': 55, 'Craven': 97, 'Gannaway': 5, 'Wood': 192, 'Crowell': 10, 'Kilgo': 19, 'Few': 65, 'Flowers': 87, 'Edens': 3, 'Hart': 139, 'Knight': 81, 'Sanford': 174, 'Brodie': 15, 'Keohane': 0, 'Brodhead': 5}"
   ]
  }
 ],
 "metadata": {
  "kernelspec": {
   "display_name": "Python 3",
   "language": "python",
   "name": "python3"
  },
  "language_info": {
   "codemirror_mode": {
    "name": "ipython",
    "version": 3
   },
   "file_extension": ".py",
   "mimetype": "text/x-python",
   "name": "python",
   "nbconvert_exporter": "python",
   "pygments_lexer": "ipython3",
   "version": "3.8.8"
  }
 },
 "nbformat": 4,
 "nbformat_minor": 5
}
