{
 "cells": [
  {
   "cell_type": "code",
   "execution_count": 1,
   "metadata": {},
   "outputs": [],
   "source": [
    "import pandas as pd\r\n",
    "import numpy as np\r\n",
    "pd.set_option('display.max_colwidth', None)\r\n",
    "pd.set_option(\"display.max_row\",None)\r\n",
    "import nltk\r\n",
    "import spacy"
   ]
  },
  {
   "cell_type": "code",
   "execution_count": 5,
   "metadata": {},
   "outputs": [
    {
     "name": "stderr",
     "output_type": "stream",
     "text": [
      "<ipython-input-5-8b8d5ed3cfb4>:5: FutureWarning: The default value of regex will change from True to False in a future version.\n",
      "  df.Text = df.Text.str.replace(r\"MICROFILM|MICROFILM MANUSCRIPTS|Treasure room|MANUSCRIPTS Restricted|MANUSCRIPTS|^Chapel|MSS|NUCMC|^FILM|^RESTRICTED\",\n"
     ]
    }
   ],
   "source": [
    "df = pd.read_csv(\"catalog\\main_file_all_text.csv\")\r\n",
    "df.drop(columns='Unnamed: 0',inplace=True)\r\n",
    "df.rename(columns={\"0\":\"Text\"},inplace=True)\r\n",
    "# Replace the common unwanted words appearing in the beginning of rows\r\n",
    "df.Text = df.Text.str.replace(r\"MICROFILM|MICROFILM MANUSCRIPTS|Treasure room|MANUSCRIPTS Restricted|MANUSCRIPTS|^Chapel|MSS|NUCMC|^FILM|^RESTRICTED\",\r\n",
    "\"\",case=False)"
   ]
  },
  {
   "cell_type": "code",
   "execution_count": 3,
   "metadata": {},
   "outputs": [],
   "source": [
    "def chunk(df):\r\n",
    "    word_tok = nltk.word_tokenize(df[:50])\r\n",
    "    taged_sent= nltk.pos_tag(word_tok)\r\n",
    "    # Checks for Proper Noun,  coordinating conjunction(and,&), Proper Nouns\r\n",
    "    #TODO Improve this pattern to better extract names\r\n",
    "    grammar = \"Name: {((<NNP><,>)?<NNP><.>?<CC>?<NNP>?<CC>?<NNP>*)}\"\r\n",
    "    cp = nltk.RegexpParser(grammar,loop=1)\r\n",
    "    chunked = cp.parse(taged_sent)\r\n",
    "    for subtree in chunked.subtrees(filter =  lambda x : x.label()==\"Name\"):\r\n",
    "         # Generate all subtrees\r\n",
    "        return \" \".join([i[0] for i in subtree.leaves()])"
   ]
  },
  {
   "cell_type": "code",
   "execution_count": null,
   "metadata": {},
   "outputs": [],
   "source": [
    "# Apply chunking\r\n",
    "df[\"Name\"] = df.Text.apply(chunk)\r\n",
    "# Modify comma and space, replace common unwanted word endings/titles\r\n",
    "\r\n",
    "endings = [\"Papers\", \"Letters\", \"Diary\", \"Notebook\", \"Book\", \"Scrapbook\", \"Screenplay\", \"Memoir\", \"Card\", \"Daybook\", \"Day\", \r\n",
    "           \"Account\", \"Sketch\", \"Journal\", \"Letter\", \"Record\", \"Notes\", \"Ledger\", \"Rent\", \"Letterpress\", \"Address\"]\r\n",
    "for i in endings:\r\n",
    "    df.Name = df.Name.str.replace(i,\"\",case=False)\r\n",
    "\r\n",
    "df.Name = df.Name.str.replace(\" , \",\", \")\r\n",
    "df.Name = df.Name.str.strip()\r\n"
   ]
  },
  {
   "cell_type": "code",
   "execution_count": 7,
   "metadata": {},
   "outputs": [],
   "source": [
    "df.to_csv(\"all_text_chunked_name.csv\",index=False)"
   ]
  }
 ],
 "metadata": {
  "interpreter": {
   "hash": "b3ba2566441a7c06988d0923437866b63cedc61552a5af99d1f4fb67d367b25f"
  },
  "kernelspec": {
   "display_name": "Python 3.8.8 64-bit (conda)",
   "name": "python3"
  },
  "language_info": {
   "codemirror_mode": {
    "name": "ipython",
    "version": 3
   },
   "file_extension": ".py",
   "mimetype": "text/x-python",
   "name": "python",
   "nbconvert_exporter": "python",
   "pygments_lexer": "ipython3",
   "version": "3.8.8"
  },
  "orig_nbformat": 4
 },
 "nbformat": 4,
 "nbformat_minor": 2
}