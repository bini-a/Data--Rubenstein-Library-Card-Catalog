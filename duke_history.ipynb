{
 "cells": [
  {
   "cell_type": "markdown",
   "id": "6d02db72",
   "metadata": {},
   "source": [
    "# Duke History in the Rubenstein Library Card Catalog"
   ]
  },
  {
   "cell_type": "markdown",
   "id": "3a232c05",
   "metadata": {},
   "source": [
    "Duke University has a long and storied past, with many individuals shaping the school through leadership and monetary support. We plan to dig deeper into what of Duke history is present in the card catalog files and see what that can tell us about the institution."
   ]
  },
  {
   "cell_type": "markdown",
   "id": "5776a331",
   "metadata": {},
   "source": [
    "## Duke Presidential Last Names in the Card Catalog"
   ]
  },
  {
   "cell_type": "markdown",
   "id": "dc07b3cb",
   "metadata": {},
   "source": [
    "*Packages used:* Like most of our code, we have used the Python pandas package as a way to work with the dataset in the format of a pandas dataframe. The plots are created using the Matplotlib package and scipy, which is used to perform the linear regression. Re, or regular expression is used to detect patterns in text, allowing us to search for instances of presidential names in the catalog."
   ]
  },
  {
   "cell_type": "code",
   "execution_count": 1,
   "id": "5791cd6f",
   "metadata": {},
   "outputs": [],
   "source": [
    "import pandas as pd\n",
    "import matplotlib.pyplot as plt\n",
    "import re\n",
    "from scipy import stats\n",
    "import operator\n",
    "pd.set_option('display.max_colwidth', None)"
   ]
  },
  {
   "cell_type": "markdown",
   "id": "e475ba21",
   "metadata": {},
   "source": [
    "First we will be exploring the presidents of Duke University and their prevalence within the card catalog. The current President, Vincent Price, will be excluded since his last name is commonly found in the cards with another meaning and his time at Duke is well past the time of the catalog. Interestingly enough, the penultimate President's name appears in the cards (Richard Brodhead) despite his not coming to Duke until after the card catalog was digitized. Perhaps this eponymous figure was an ancestor of the one we know in relation to Duke today. We will be searching by last name, to see the frequency of the Presidents' last names in the catalog. A few of the presidents have surnames that have alternate meanings or uses (e.g., York, Wood) and we will attempt to remove the non-name occuraces of these. A disclamer to this analysis is that this method only captures names that were both properly spelled in the catloging process and translated into text accurately by our OCR software; it is likely that there are some misspelled names that did not make it thorugh the calculations."
   ]
  },
  {
   "cell_type": "code",
   "execution_count": 2,
   "id": "72589019",
   "metadata": {},
   "outputs": [],
   "source": [
    "# Read in dataset\n",
    "df = pd.read_csv(\"main_file_dataset.csv\")"
   ]
  },
  {
   "cell_type": "markdown",
   "id": "b162bbc3",
   "metadata": {},
   "source": [
    "# First Approach"
   ]
  },
  {
   "cell_type": "markdown",
   "id": "461cff0d",
   "metadata": {},
   "source": [
    "### Name Counting"
   ]
  },
  {
   "cell_type": "code",
   "execution_count": 3,
   "id": "05cd61f3",
   "metadata": {},
   "outputs": [
    {
     "name": "stdout",
     "output_type": "stream",
     "text": [
      "{'York': 55, 'Craven': 97, 'Gannaway': 5, 'Wood': 192, 'Crowell': 10, 'Kilgo': 19, 'Few': 65, 'Flowers': 87, 'Edens': 3, 'Hart': 139, 'Knight': 81, 'Sanford': 145, 'Brodie': 15, 'Keohane': 0, 'Brodhead': 5}\n"
     ]
    }
   ],
   "source": [
    "# Duke University presidents in chronological order\n",
    "presidents = {\"York\": 0, \"Craven\": 0, \"Gannaway\": 0, \"Craven\": 0, \"Wood\": 0, \"Crowell\": 0, \"Kilgo\": 0, \"Few\": 0, \"Flowers\": 0,\n",
    "    \"Edens\": 0, \"Hart\": 0, \"Knight\": 0,\"Sanford\": 0, \"Brodie\": 0, \"Keohane\": 0, \"Brodhead\": 0}\n",
    "\n",
    "# Check for occurances of presidental last names in the cards\n",
    "for index, row in df.iterrows():\n",
    "    for pres in presidents.keys():\n",
    "        if pres in str(row['Text']):\n",
    "            # Check for homonyms\n",
    "            x = str(row['Text'])\n",
    "            if pres == \"York\" and (\"New\" in x or \"Yorktown\" in x or \"Yorkshire\" in x or \"England\" in x or \"Yorkville\" in x or \"in York\" in x or \"York Co\" in x.title() or \"of York\" in x or \"York City\" in x or \"York Dist\" in x.title() or \"Yorke\" in x):\n",
    "                continue\n",
    "            elif pres == \"Craven\" and \"Craven Co\" in x.title():\n",
    "                continue\n",
    "            elif pres == \"Wood\" and (re.search(r\"Wood[a-z-]\", x) or \"Wood County\" in x):\n",
    "                continue\n",
    "            elif pres == \"Kilgo\" and re.search(r\"Kilgo[a-z]\", x):\n",
    "                continue\n",
    "            elif pres == \"Hart\" and re.search(r\"Hart[a-z]\", x):\n",
    "                continue\n",
    "            elif pres == \"Knight\" and (re.search(r\"Knight[a-z]\", x) or re.search(r\"[a-z]Knight\", x)):\n",
    "                continue\n",
    "            elif pres == \"Sanford\" and (re.search(r\"Sanford,.*North Carolina\", x) or \"in Sanford\" in x or \"of Sanford\" in x or \"at Sanford\" in x or \"Railway\" in x):\n",
    "                continue\n",
    "            else:\n",
    "                presidents[pres] = presidents.get(pres) + 1\n",
    "\n",
    "print(presidents)"
   ]
  },
  {
   "cell_type": "code",
   "execution_count": 5,
   "id": "a9454504",
   "metadata": {},
   "outputs": [],
   "source": [
    "# Counts of last name frequency after running above code\n",
    "president_counts = {'York': 55, 'Craven': 97, 'Gannaway': 5, 'Wood': 192, 'Crowell': 10, 'Kilgo': 19, 'Few': 65, \n",
    "    'Flowers': 87, 'Edens': 3, 'Hart': 139, 'Knight': 81, 'Sanford': 145, 'Brodie': 15, 'Keohane': 0, 'Brodhead': 5}\n",
    "\n",
    "# Frequency of presidential last names as of the 1990 US census\n",
    "census_freqs = {'York': 0.019, 'Craven': 0.006, 'Gannaway': 0.001, 'Wood': 0.098, 'Crowell': 0.007, 'Kilgo': 0.001, \n",
    "    'Few': 0.001, 'Flowers': 0.028, 'Edens': 0.002, 'Hart': 0.054, 'Knight': 0.060, 'Sanford': 0.015, 'Brodie': 0.002, \n",
    "    'Keohane': 0.000, 'Brodhead': 0.000}"
   ]
  },
  {
   "cell_type": "markdown",
   "id": "65de4d5e",
   "metadata": {},
   "source": [
    "### Frequency Plotting"
   ]
  },
  {
   "cell_type": "code",
   "execution_count": 6,
   "id": "920d2f0b",
   "metadata": {},
   "outputs": [
    {
     "data": {
      "image/png": "[encoded data removed]",
      "text/plain": [
       "<Figure size 432x288 with 1 Axes>"
      ]
     },
     "metadata": {
      "needs_background": "light"
     },
     "output_type": "display_data"
    },
    {
     "data": {
      "image/png": "[encoded data removed]",
      "text/plain": [
       "<Figure size 432x288 with 1 Axes>"
      ]
     },
     "metadata": {
      "needs_background": "light"
     },
     "output_type": "display_data"
    }
   ],
   "source": [
    "# Disply bar chart of last name occurances\n",
    "plt.bar(*zip(*president_counts.items()), color='#00539B')\n",
    "plt.xticks(rotation = 45)\n",
    "plt.title(\"Occurances of Duke Presidental Names in the Card Catalog\")\n",
    "plt.xlabel(\"Name\")\n",
    "plt.ylabel(\"# of Cards\")\n",
    "plt.show()\n",
    "\n",
    "# Display bar chart of last name frequencies based on the 1990 census data\n",
    "plt.bar(*zip(*census_freqs.items()), color='#00539B')\n",
    "plt.xticks(rotation = 45)\n",
    "plt.title(\"Frequency of Duke Presidental Last Names in America From 1990 Census Data\")\n",
    "plt.xlabel(\"Name\")\n",
    "plt.ylabel(\"% Frequency\")\n",
    "plt.show()"
   ]
  },
  {
   "cell_type": "markdown",
   "id": "fc6a8dc3",
   "metadata": {},
   "source": [
    "The first bar chart shows the frequencies of the Duke presidential last names within the card catalog, in order of presidental appointment. There does not appear to be any trend over time amongst the names. When comparing to the 1990 census data of last name frequency in the United States, some names are similarly more frequent than others (e.g., Wood and Hart) or similarly infrequent (e.g. Gannaway, Edens, and Keohane). Some presidents, however, have statistically uncommon last names but a large amount of occurances in the card catalog (Craven, Few, Sanford). Are there other factors at play? Let's see how this compares to the amount of time each person spent in office."
   ]
  },
  {
   "cell_type": "markdown",
   "id": "ee0e00e7",
   "metadata": {},
   "source": [
    "#### Occurances versus Time in Office"
   ]
  },
  {
   "cell_type": "markdown",
   "id": "23206e48",
   "metadata": {},
   "source": [
    "Each of these Presidents served varied time spans in office, let's see if there is a relationship between the length of time they spent in office and the amount of times they were mentioned in cards in the catalog. Preseident Craven served two nonconsecutive terms, so his time in office will be the addition of the two terms."
   ]
  },
  {
   "cell_type": "code",
   "execution_count": 34,
   "id": "a6f2e3ea",
   "metadata": {},
   "outputs": [
    {
     "data": {
      "image/png": "[encoded data removed]",
      "text/plain": [
       "<Figure size 432x288 with 1 Axes>"
      ]
     },
     "metadata": {
      "needs_background": "light"
     },
     "output_type": "display_data"
    }
   ],
   "source": [
    "terms = [4, 37, 2, 1, 7, 16, 30, 7, 11, 3, 6, 16, 8, 11, 13]\n",
    "counts = [55, 97, 5, 192, 10, 19, 65, 87, 3, 139, 81, 145, 15, 0, 5]\n",
    "last = [\"York\", \"Craven\", \"Gannaway\", \"Wood\", \"Crowell\", \"Kilgo\", \"Few\", \"Flowers\", \"Edens\", \"Hart\", \"Knight\", \"Sanford\", \"Brodie\", \"Keohane\", \"Brodhead\"]\n",
    "\n",
    "# Regression code adapted from https://www.w3schools.com/python/python_ml_linear_regression.asp\n",
    "slope, intercept, r, p, std_err = stats.linregress(terms, counts)\n",
    "def myfunc(x):\n",
    "  return slope * x + intercept\n",
    "mymodel = list(map(myfunc, terms))\n",
    "\n",
    "# Plot points with name labels, regression line\n",
    "plt.scatter(terms, counts, color='#00539B')\n",
    "for i in range(len(terms)):\n",
    "    plt.annotate(last[i], (terms[i] + 1, counts[i] - 3), fontsize=7)   \n",
    "plt.plot(terms, mymodel, color='#00539B')\n",
    "plt.title(\"Card Catalog Presidential Mentions versus Time in Office\")\n",
    "plt.xlabel(\"Years in Office\")\n",
    "plt.ylabel(\"# of Cards\")\n",
    "plt.show()"
   ]
  },
  {
   "cell_type": "markdown",
   "id": "e66e141e",
   "metadata": {},
   "source": [
    "Shown above is a scatterplot of the number of cards on which a presidential last name is mentioned versus the amount of time they spent in office. We ran a linear regression on the data and found **no correlation** between these two variables. Time in office appears not to impact the prevalence of presidential last names in the catalog. What else is going on here? Let's check the catalog for both first *and* last names."
   ]
  },
  {
   "cell_type": "markdown",
   "id": "ba20e1b3",
   "metadata": {},
   "source": [
    "# Second Approach"
   ]
  },
  {
   "cell_type": "markdown",
   "id": "7caaf5e7",
   "metadata": {},
   "source": [
    "### Presidental First and Last Names"
   ]
  },
  {
   "cell_type": "markdown",
   "id": "b7b382d0",
   "metadata": {},
   "source": [
    "A common occurrance in the card catalog is the presence of multiple generations of family members. By looking at the *last* names of presidents, we were able to look for more general trends in regards to the presidents' names, but are unable to determine just how many of the last names gleaned are actually related to the president or their family members. Next we will look into instances where the specific presidents' *first and last* names occur in the files, with hopes of learning more about the history and prevalence of these figures within the card catalog."
   ]
  },
  {
   "cell_type": "code",
   "execution_count": 5,
   "id": "8440b225",
   "metadata": {},
   "outputs": [],
   "source": [
    "# Read in dataframe and pull out wanted, non-null columns\n",
    "df = df[~df.Name.isnull()]\n",
    "df = df[~df.Text.isnull()]\n",
    "df = df.iloc[:,[2,3,8,9,10]]\n",
    "\n",
    "# Using these regexes, we can find if both words occur in a row, e.g. Craven, Braxton\n",
    "base = r'^{}'\n",
    "expr = '(?=.*{})'\n",
    "\n",
    "# Names to look for occuring together\n",
    "full_names = [[\"York\",\"Brantley\"], [\"Craven\", \"Braxton\"], [\"Gannaway\", \"William\"], [\"Wood\", \"Marquis\"], [\"Crowell\", \"John\"],\n",
    "    [\"Kilgo\", \"John\"], [\"Few\", \"William\"], [\"Flowers\", \"Robert\"], [\"Edens\", \"Arthur\"], [\"Hart\", \"Julian\"],\n",
    "    [\"Knight\", \"Douglas\"], [\"Sanford\", \"Terry\"], [\"Brodie\", \"Keith\"], [\"Keohane\", \"Nannerl\"], [\"Brodhead\", \"Richard\"]]"
   ]
  },
  {
   "cell_type": "markdown",
   "id": "2c91368b",
   "metadata": {},
   "source": [
    "York was found 55 times according to the previous method, but most talk about cities & counties or unrelated people with the same last name. There are probably very few talking about the president. This better extracts the president names by checking for the occurence of both last and first names."
   ]
  },
  {
   "cell_type": "code",
   "execution_count": 24,
   "id": "020917c4",
   "metadata": {},
   "outputs": [
    {
     "name": "stdout",
     "output_type": "stream",
     "text": [
      "[4, 36, 5, 5, 5, 10, 34, 15, 0, 1, 4, 17, 0, 0, 3]\n"
     ]
    }
   ],
   "source": [
    "name_counts = []\n",
    "\n",
    "for name in full_names:\n",
    "    name_counts.append(len(df[df.Text.str.contains(base.format(''.join(expr.format(w) for w in name)),case=True)]))\n",
    "\n",
    "print(name_counts)"
   ]
  },
  {
   "cell_type": "code",
   "execution_count": 41,
   "id": "89319068",
   "metadata": {},
   "outputs": [],
   "source": [
    "# Dictionary storing indices of president mentioning cards\n",
    "president_indices = {\"York\": [7072, 14590, 50164, 50170], \"Craven\": [2004, 2005, 9541, 10235, 11146, 11155, 11156, 11161, 11167, 11168, 11169, 11170, 11171, 11172, 11173, 11174, 11175, 11176, 11177, 11178, 11179, 11180, 11181, 11182, 11183, 11197, 11200, 14590, 15131, 19231, 20678, 20732, 21211, 25196, 27216, 48485], \n",
    "              \"Gannaway\": [6266, 6267, 6269, 16522, 41864], \"Wood\": [13320, 30929, 30984, 49501, 49528], \n",
    "              \"Crowell\": [127, 11387, 19234, 32886, 46573], \"Kilgo\": [158, 6815, 21326, 25715, 31143, 31930, 42066, 42069, 45697, 45808], \n",
    "              \"Few\": [4293, 4295, 5490, 5535, 6660, 7338, 7356, 13399, 13678, 13680, 14742, 15288, 15290, 15291, 15292, 15293, 15294, 15726, 17493, 17627, 17628, 17632, 18218, 21323, 26808, 28326, 32409, 34437, 34637, 35247, 42069, 46891, 47138, 47141], \n",
    "              \"Flowers\": [10743, 15710, 16296, 19004, 20519, 22959, 26399, 27309, 28173, 30657, 34052, 42059, 42065, 44500, 45697], \n",
    "            \"Edens\": [], \"Hart\": [14123], \"Knight\": [5490, 25741, 30171, 47829],\n",
    "              \"Sanford\": [5490, 9533, 9541, 9554, 19873, 19875, 22266, 39311, 39312, 39313, 39314, 39363, 39364, 39365, 42007, 44948, 45317], \n",
    "              \"Brodie\": [], \"Keohane\": [], \"Brodhead\": [2619, 34442, 35593]}"
   ]
  },
  {
   "cell_type": "markdown",
   "id": "66370396",
   "metadata": {},
   "source": [
    "When we check for both the first and last names of the Duke presidents, we get markedly fewer results, but more accurate ones. Let's take a look at the frequency of each president's mentions."
   ]
  },
  {
   "cell_type": "code",
   "execution_count": 25,
   "id": "6b5b1a8e",
   "metadata": {},
   "outputs": [
    {
     "data": {
      "image/png": "[encoded data removed]",
      "text/plain": [
       "<Figure size 432x288 with 1 Axes>"
      ]
     },
     "metadata": {
      "needs_background": "light"
     },
     "output_type": "display_data"
    }
   ],
   "source": [
    "last = [\"York\", \"Craven\", \"Gannaway\", \"Wood\", \"Crowell\", \"Kilgo\", \"Few\", \"Flowers\", \"Edens\", \"Hart\", \"Knight\", \"Sanford\", \"Brodie\", \"Keohane\", \"Brodhead\"]\n",
    "name_counts = [4, 36, 5, 5, 5, 10, 34, 15, 0, 1, 4, 17, 0, 0, 3]\n",
    "\n",
    "# Disply bar chart of first and last name occurances\n",
    "plt.bar(last, name_counts, color='#00539B')\n",
    "plt.xticks(rotation = 45)\n",
    "plt.title(\"Occurances of Duke Presidental Names in the Card Catalog\")\n",
    "plt.xlabel(\"Name\")\n",
    "plt.ylabel(\"# of Cards\")\n",
    "plt.show()"
   ]
  },
  {
   "cell_type": "markdown",
   "id": "d666d210",
   "metadata": {},
   "source": [
    "It looks like some of the presidents with more common last names, like Wood, Knight, and Hart, have gone down in frequency when we also check for first names. Let's compare with the length of time in office."
   ]
  },
  {
   "cell_type": "code",
   "execution_count": 33,
   "id": "8fa6f456",
   "metadata": {},
   "outputs": [
    {
     "data": {
      "image/png": "[encoded data removed]",
      "text/plain": [
       "<Figure size 432x288 with 1 Axes>"
      ]
     },
     "metadata": {
      "needs_background": "light"
     },
     "output_type": "display_data"
    }
   ],
   "source": [
    "terms = [4, 37, 2, 1, 7, 16, 30, 7, 11, 3, 6, 16, 8, 11, 13]\n",
    "\n",
    "# Linear regression code adapted from https://www.w3schools.com/python/python_ml_linear_regression.asp\n",
    "slope, intercept, r, p, std_err = stats.linregress(terms, name_counts)\n",
    "def myfunc(x):\n",
    "  return slope * x + intercept\n",
    "mymodel = list(map(myfunc, terms))\n",
    "\n",
    "# Plot labeled points, regression line\n",
    "plt.scatter(terms, name_counts, color='#00539B')\n",
    "for i in range(len(terms)):\n",
    "    plt.annotate(last[i], (terms[i] - 1, name_counts[i] + 1), fontsize=7)\n",
    "plt.plot(terms, mymodel, color='#00539B')\n",
    "plt.title(\"Card Catalog Presidential Mentions versus Time in Office\")\n",
    "plt.xlabel(\"Years in Office\")\n",
    "plt.ylabel(\"# of Cards\")\n",
    "plt.show()"
   ]
  },
  {
   "cell_type": "markdown",
   "id": "4781b686",
   "metadata": {},
   "source": [
    "When we run a linear regression on first and last name occurrances versus years a president was in office, we find a **positive** correlation between the variables. So, as the number of years in office a president had increases, the number of cards on which they are mentioned increases."
   ]
  },
  {
   "cell_type": "markdown",
   "id": "665ef0d8",
   "metadata": {},
   "source": [
    "## Qualitative Analysis of Duke Presidents in the Catalog"
   ]
  },
  {
   "cell_type": "markdown",
   "id": "7d8ecd42",
   "metadata": {},
   "source": [
    "Let's see what the collections containing the Duke Presidents' full names are talking about and whether they are indeed mentioning the presidents. To do this, we searched through the instances where a president's first and last name appeared in the catalog, briefly summarized the mention, and provided relevant links."
   ]
  },
  {
   "cell_type": "markdown",
   "id": "adcdf23e",
   "metadata": {},
   "source": [
    "### Keith Brodie, Nannerel Keohane, and Arthur Edens"
   ]
  },
  {
   "cell_type": "markdown",
   "id": "71ae0204",
   "metadata": {},
   "source": [
    "Presidents Brodie, Keohane, and Edens were not mentioned in the card catalog."
   ]
  },
  {
   "cell_type": "markdown",
   "id": "776dc2f3",
   "metadata": {},
   "source": [
    "### Julian Hart"
   ]
  },
  {
   "cell_type": "markdown",
   "id": "1495b0ce",
   "metadata": {},
   "source": [
    "The card containing \"Julian\" and \"Hart\" is not referring to the Duke president."
   ]
  },
  {
   "cell_type": "markdown",
   "id": "f1c1c173",
   "metadata": {},
   "source": [
    "### Richard Brodhead"
   ]
  },
  {
   "cell_type": "markdown",
   "id": "fafb99e9",
   "metadata": {},
   "source": [
    "On two cards, a Richard Brodhead is mentioned, but not the one who was president of Duke. Upon further inspection, this man was a [U.S. Democratic Senator from Pennsylvania](https://en.wikipedia.org/wiki/Richard_Brodhead). The cards upon which he is mentioned can be viewed [here](https://archive.org/details/rubensteinmanuscriptcatalog_P_to_Peo/page/44/mode/2up) and [here](https://archive.org/details/rubensteinmanuscriptcatalog_Pep_to_Pn/page/n393/mode/2up)."
   ]
  },
  {
   "cell_type": "markdown",
   "id": "ca210221",
   "metadata": {},
   "source": [
    "### Douglas Knight"
   ]
  },
  {
   "cell_type": "markdown",
   "id": "02d66fb6",
   "metadata": {},
   "source": [
    "President Douglas Knight is mentioned as having [correspondence with Herbert Clarence Bradshaw](https://archive.org/details/rubensteinmanuscriptcatalog_R._Boyd_to_I._Brown/page/n125/mode/2up), being the recipient of a [letter from a Mr. Matton](https://archive.org/details/rubensteinmanuscriptcatalog_Mani_to_Maw/page/3/mode/2up) and [letters from William Murray Werber](https://archive.org/details/rubensteinmanuscriptcatalog_Ware_to_H._White/page/n567/mode/2up). The first two mention religion and all involve letters."
   ]
  },
  {
   "cell_type": "markdown",
   "id": "e65c7acf",
   "metadata": {},
   "source": [
    "### Brantley York"
   ]
  },
  {
   "cell_type": "markdown",
   "id": "27ae27cf",
   "metadata": {},
   "source": [
    "One [card](https://archive.org/details/rubensteinmanuscriptcatalog_X_to_Z/page/n83/mode/2up) simply prompts a look to the Duke University Archives. York is mentioned here as [correspondent to Tod Robinson Caldwell](https://archive.org/details/rubensteinmanuscriptcatalog_M._Butler_to_Caq/page/n202/mode/2up). \n",
    "\n",
    "[This collection](https://archive.org/details/rubensteinmanuscriptcatalog_Durh_to_Els/page/n586/mode/2up) mentions early foundations of Duke Univesity and President Craven.\n",
    "\n",
    "Here is [York's son's collection](https://archive.org/details/rubensteinmanuscriptcatalog_X_to_Z/page/n89/mode/2up)."
   ]
  },
  {
   "cell_type": "markdown",
   "id": "cdc552d2",
   "metadata": {},
   "source": [
    "### William Gannaway"
   ]
  },
  {
   "cell_type": "markdown",
   "id": "06d449cd",
   "metadata": {},
   "source": [
    "Four cards mention William Gannaway Brownlow, former Governor of Tennesee and one is a prompt to [see the archives](https://archive.org/details/rubensteinmanuscriptcatalog_Fro_to_Geq/page/n322/mode/2up)."
   ]
  },
  {
   "cell_type": "markdown",
   "id": "8179fcd9",
   "metadata": {},
   "source": [
    "### Marquis Wood"
   ]
  },
  {
   "cell_type": "markdown",
   "id": "6614476c",
   "metadata": {},
   "source": [
    "Like many of the other presidents, Wood has a [card](https://archive.org/details/rubensteinmanuscriptcatalog_S._Williams_to_Wood/page/n717/mode/2up) prompting a check of the archives.\n",
    "\n",
    "Marquis Wood also has two collections of [papers](https://archive.org/details/rubensteinmanuscriptcatalog_Meth_to_Mh/page/59/mode/2up) associated with the Methodist Episcopal [Church](https://archive.org/details/rubensteinmanuscriptcatalog_Meth_to_Mh/page/n344/mode/2up).\n",
    "\n",
    "In William Clark Doub's [collection](https://archive.org/details/rubensteinmanuscriptcatalog_Del_to_Dov/page/19/mode/2up), Wood's manuscript on the introduction of Methodism into the Yadkin Valley is mentioned."
   ]
  },
  {
   "cell_type": "markdown",
   "id": "f846ad9e",
   "metadata": {},
   "source": [
    "### John Crowell"
   ]
  },
  {
   "cell_type": "markdown",
   "id": "01f6cf08",
   "metadata": {},
   "source": [
    "We, of course, have the entry under Crowell's name to [See Duke University Archives](https://archive.org/details/rubensteinmanuscriptcatalog_Cre_to_I._Davis/page/n119/mode/2up).\n",
    "\n",
    "This [card](https://archive.org/details/rubensteinmanuscriptcatalog_A_to_Amer/page/n127/mode/2up) mentions a quarrel between Crowell and his faculty.\n",
    "\n",
    "[This](https://archive.org/details/rubensteinmanuscriptcatalog_Mus_to_Nn/page/n105/mode/2up) and [this](https://archive.org/details/rubensteinmanuscriptcatalog_Gri_to_Hand/page/n131/mode/2up) mention letters to and from John Crowell.\n",
    "\n",
    "[Here](https://archive.org/details/rubensteinmanuscriptcatalog_V_to_Ward/page/n85/mode/2up) Crowell is part of a list of unpublished sketches of well-known North Carolinians."
   ]
  },
  {
   "cell_type": "markdown",
   "id": "65ccec17",
   "metadata": {},
   "source": [
    "### John Kilgo"
   ]
  },
  {
   "cell_type": "markdown",
   "id": "c2cb3958",
   "metadata": {},
   "source": [
    "Here we have the boilerplate John Kilgo [card](https://archive.org/details/rubensteinmanuscriptcatalog_K_to_Kira/page/n489/mode/2up).\n",
    "\n",
    "Kilgo is listed as a correspondent in the Hemphill Family [Collection](https://archive.org/details/rubensteinmanuscriptcatalog_Harw_to_Hem/page/23/mode/2up).\n",
    "\n",
    "Kilgo appears to have been involved in the Methodist Episcopal Church [here](https://archive.org/details/rubensteinmanuscriptcatalog_Meth_to_Mh/page/n503/mode/2up) and [here](https://archive.org/details/rubensteinmanuscriptcatalog_Mi_to_Mord/page/n686/mode/2up).\n",
    "\n",
    "Correspondence with President Kilgo is mentioned [here](https://archive.org/details/rubensteinmanuscriptcatalog_Ton_to_Tz/page/n668/mode/2up) and [here](https://archive.org/details/rubensteinmanuscriptcatalog_Wi._Smith_to_So/page/n642/mode/2up) in relation to the Southgates.\n",
    "\n",
    "Kilgo seems to be something of a controversial and outspoken character, as [here](https://archive.org/details/rubensteinmanuscriptcatalog_J._Brown_to_L._Butler/page/n675/mode/2up) and [here](https://archive.org/details/rubensteinmanuscriptcatalog_Ton_to_Tz/page/81/mode/2up) he is spoken of positively and [here](https://archive.org/details/rubensteinmanuscriptcatalog_A_to_Amer/page/n157/mode/2up) and [here](https://archive.org/details/rubensteinmanuscriptcatalog_Wi._Smith_to_So/page/n639/mode/2up) he is said to be involved in a court case."
   ]
  },
  {
   "cell_type": "markdown",
   "id": "5d26ca18",
   "metadata": {},
   "source": [
    "### Robert Flowers"
   ]
  },
  {
   "cell_type": "markdown",
   "id": "85da5af5",
   "metadata": {},
   "source": [
    "In addition to the requisite Flowers [card](https://archive.org/details/rubensteinmanuscriptcatalog_Fif_to_Frn/page/n276/mode/2up) we have correspondence between Flowers and others [here](https://archive.org/details/rubensteinmanuscriptcatalog_Conl_to_Crd/page/n265/mode/2up), [here](https://archive.org/details/rubensteinmanuscriptcatalog_Gre_to_Grh/page/n605/mode/2up), [here](https://archive.org/details/rubensteinmanuscriptcatalog_No_to_Oz/page/151/mode/2up), [here](https://archive.org/details/rubensteinmanuscriptcatalog_Wi._Smith_to_So/page/n632/mode/2up), [here](https://archive.org/details/rubensteinmanuscriptcatalog_Wi._Smith_to_So/page/n638/mode/2up), and [here](https://archive.org/details/rubensteinmanuscriptcatalog_J._Thomas_to_Tom/page/n73/mode/2up).\n",
    "\n",
    "President Flowers is praised [here](https://archive.org/details/rubensteinmanuscriptcatalog_Ton_to_Tz/page/81/mode/2up) along with some other notable Dukies and had gifted some items related to the Methodist Church [here](https://archive.org/details/rubensteinmanuscriptcatalog_Meth_to_Mh/page/n17/mode/2up).\n",
    "\n",
    "He is also in a [photograph](https://archive.org/details/rubensteinmanuscriptcatalog_Lowr_to_Mack/page/n115/mode/2up) that is cataloged and is said to have written a biography of [Edwin W. Fuller](https://archive.org/details/rubensteinmanuscriptcatalog_Fro_to_Geq/page/n95/mode/2up)."
   ]
  },
  {
   "cell_type": "markdown",
   "id": "d80de58f",
   "metadata": {},
   "source": [
    "### Terry Sanford"
   ]
  },
  {
   "cell_type": "markdown",
   "id": "5af14f7d",
   "metadata": {},
   "source": [
    "As Terry Sanford was a US Senator and NC Governor as well as a President of Duke, there appear to be many cards mentioning him. Cards mentioning correspondence with Sanford can be found [here](https://archive.org/details/rubensteinmanuscriptcatalog_R._Boyd_to_I._Brown/page/n126/mode/2up), [here](https://archive.org/details/rubensteinmanuscriptcatalog_Claw_to_Com/page/n498/mode/2up), [here](https://archive.org/details/rubensteinmanuscriptcatalog_Claw_to_Com/page/n506/mode/2up), [here](https://archive.org/details/rubensteinmanuscriptcatalog_Hold_to_Huba/page/n149/mode/2up), [here](https://archive.org/details/rubensteinmanuscriptcatalog_J._Thomas_to_Tom/page/80/mode/2up), and [here](https://archive.org/details/rubensteinmanuscriptcatalog_Ton_to_Tz/page/n177/mode/2up).\n",
    "\n",
    "[This](https://archive.org/details/rubensteinmanuscriptcatalog_Wi._Smith_to_So/page/n580/mode/2up) talks about the Southern Rural Poverty Project, directed by members of the Sanford Institute of Public Policy.\n",
    "\n",
    "[Here](https://archive.org/details/rubensteinmanuscriptcatalog_Claw_to_Com/page/n519/mode/2up) and [here](https://archive.org/details/rubensteinmanuscriptcatalog_Hane_to_Harv/page/n9/mode/2up) are collections that catalog items that talk about Sanford.\n",
    "\n",
    "[Here] and on subsequent pages we have a restricted collection relating to manuscripts created by Terry Sanford, related to his time as Governor and Duke President. And [here](https://archive.org/details/rubensteinmanuscriptcatalog_San_to_Sem/page/n73/mode/2up) there are documents related to his time as a US Senator."
   ]
  },
  {
   "cell_type": "markdown",
   "id": "0733fc8a",
   "metadata": {},
   "source": [
    "### William Few"
   ]
  },
  {
   "cell_type": "markdown",
   "id": "2ecf31a8",
   "metadata": {},
   "source": [
    "Few is mentioned as a professor [here](https://archive.org/details/rubensteinmanuscriptcatalog_J._Brown_to_L._Butler/page/1873/mode/2up).\n",
    "\n",
    "He is included in collections with other important Duke figures [here](https://archive.org/details/rubensteinmanuscriptcatalog_Ben_to_Blac/page/n481/mode/2up), [here](https://archive.org/details/rubensteinmanuscriptcatalog_Dow_to_Durg/page/n255/mode/2up), [here](https://archive.org/details/rubensteinmanuscriptcatalog_Fif_to_Frn/page/n292/mode/2up), [here](https://archive.org/details/rubensteinmanuscriptcatalog_Harw_to_Hem/page/21/mode/2up), [here](https://archive.org/details/rubensteinmanuscriptcatalog_Pep_to_Pn/page/n47/mode/2up), and [here](https://archive.org/details/rubensteinmanuscriptcatalog_Wi._Smith_to_So/page/n641/mode/2up).\n",
    "\n",
    "Correspondece with William Few is mentioned [here](https://archive.org/details/rubensteinmanuscriptcatalog_Lanp_to_Ler/page/n223/mode/2up), [here](https://archive.org/details/rubensteinmanuscriptcatalog_P_to_Peo/page/39/mode/2up), and [here](https://archive.org/details/rubensteinmanuscriptcatalog_V_to_Ward/page/n403/mode/2up).\n",
    "\n",
    "Few's son, Lynne Few, appears [here](https://archive.org/details/rubensteinmanuscriptcatalog_Ger_to_Gorl/page/n536/mode/2up).\n",
    "\n",
    "He also has a [collection](https://archive.org/details/rubensteinmanuscriptcatalog_Elt_to_Fie/page/n625/mode/2up) of papers related to war and money.\n",
    "\n",
    "Ella Howerton Parks remembers Few as the [\"prince of all hat doffers.\"](https://archive.org/details/rubensteinmanuscriptcatalog_P_to_Peo/page/n295/mode/2up).\n",
    "\n",
    "[This collection](https://archive.org/details/rubensteinmanuscriptcatalog_V_to_Ward/page/n649/mode/2up) talks about a treatise Few signed related to the relations between the northern and southern colonies."
   ]
  },
  {
   "cell_type": "markdown",
   "id": "2e8fb13b",
   "metadata": {},
   "source": [
    "### Braxton Craven"
   ]
  },
  {
   "cell_type": "markdown",
   "id": "86ef87aa",
   "metadata": {},
   "source": [
    "President Craven's great grandson has a rather extensive [collection](https://archive.org/details/rubensteinmanuscriptcatalog_Conl_to_Crd/page/n689/mode/2up) and his grandson is mentioned [here](https://archive.org/details/rubensteinmanuscriptcatalog_Conl_to_Crd/page/n677/mode/2up).\n",
    "\n",
    "Braxton Craven is cataloged in the 1850 census of Randolph County [here](https://archive.org/details/rubensteinmanuscriptcatalog_Armi_to_Bal/page/n486/mode/2up) along with many transactions under his name. Another money-related [card](https://archive.org/details/rubensteinmanuscriptcatalog_Con_to_Conk/page/n403/mode/2up) mentions a statement for what Trinity College owed a company.\n",
    "\n",
    "Correspondences involving Craven are cataloged [here](https://archive.org/details/rubensteinmanuscriptcatalog_Durh_to_Els/page/n586/mode/2up), [here](https://archive.org/details/rubensteinmanuscriptcatalog_Harw_to_Hem/page/n34/mode/2up), and [here](https://archive.org/details/rubensteinmanuscriptcatalog_Harw_to_Hem/page/n88/mode/2up).\n",
    "\n",
    "Craven is mentioned, but not in much detail [here](https://archive.org/details/rubensteinmanuscriptcatalog_Elt_to_Fie/page/n469/mode/2up), [here](https://archive.org/details/rubensteinmanuscriptcatalog_Gri_to_Hand/page/n128/mode/2up), [here](https://archive.org/details/rubensteinmanuscriptcatalog_Harw_to_Hem/page/167/mode/2up), [here](https://archive.org/details/rubensteinmanuscriptcatalog_J._Johnson_to_Jz/page/n676/mode/2up), [here](https://archive.org/details/rubensteinmanuscriptcatalog_Lanp_to_Ler/page/27/mode/2up), and [here](https://archive.org/details/rubensteinmanuscriptcatalog_I._White_to_R._Williams/page/n408/mode/2up)."
   ]
  },
  {
   "cell_type": "markdown",
   "id": "6b7eec38",
   "metadata": {},
   "source": [
    "## Duke Building Names in the Catalog"
   ]
  },
  {
   "cell_type": "markdown",
   "id": "ed8fd6b4",
   "metadata": {},
   "source": [
    "While going through the card catalog, it was striking to see how many of the last names present in the cards were names of buildings at Duke's Durham campus today. Let's explore the prevalence of these names in the catalog."
   ]
  },
  {
   "cell_type": "markdown",
   "id": "5c0b597b",
   "metadata": {},
   "source": [
    "Taking the names from buildings on Duke's East and West campuses--including dorms, academic buildings, and public spaces--we will check for the building names in the collection header author name columns of our dataset."
   ]
  },
  {
   "cell_type": "code",
   "execution_count": 74,
   "id": "e1a2d9eb",
   "metadata": {},
   "outputs": [
    {
     "name": "stdout",
     "output_type": "stream",
     "text": [
      "{'Alspaugh': 4, 'Baldwin': 148, 'Bassett': 37, 'Bivins': 1, 'Blackwell': 86, 'Branson': 58, 'Brodie': 15, 'Brown': 826, 'Crowell': 10, 'Epworth': 7, 'Friedl': 2, 'Gilbert-Addoms': 0, 'Giles': 80, 'Lilly': 12, 'Biddle': 133, 'Pegram': 62, 'Southgate': 55, 'White': 613, 'Wilson': 580, 'Allen': 402, 'Bostock': 3, 'Brodhead': 5, 'Fitzpatrick': 10, 'Flowers': 87, 'Gray': 239, 'Gross': 16, 'Hart': 357, 'Karsh': 2, 'Levine': 0, 'Perkins': 177, 'Reuben-Cooke': 0, 'Rubenstein': 0, 'Sanford': 174, 'Teer': 1, 'Wilkinson': 84, 'Craven': 161, 'Edens': 3, 'Few': 65, 'Keohane': 0, 'Kilgo': 25, 'Wannamaker': 2}\n"
     ]
    }
   ],
   "source": [
    "buildings = {\n",
    "'Alspaugh': 0, 'Baldwin': 0, 'Bassett': 0, 'Bivins': 0, 'Blackwell': 0, 'Branson': 0, 'Brodie': 0, 'Brown': 0, 'Crowell': 0,\n",
    "'Epworth': 0, 'Friedl': 0, 'Gilbert-Addoms': 0, 'Giles': 0, 'Lilly': 0, 'Biddle': 0, 'Pegram': 0, 'Southgate': 0,\n",
    "'White': 0, 'Wilson': 0, 'Allen': 0, 'Bostock': 0, 'Brodhead': 0, 'Fitzpatrick': 0, 'Flowers': 0, 'Gray': 0, \n",
    "'Gross': 0, 'Hart': 0, 'Karsh': 0, 'Levine': 0, 'Perkins': 0, 'Reuben-Cooke': 0,  'Rubenstein': 0, 'Sanford': 0, \n",
    "'Teer': 0, 'Wilkinson': 0, 'Craven': 0, 'Crowell': 0, 'Edens': 0, 'Few': 0, 'Keohane': 0,  'Kilgo': 0, 'Wannamaker': 0\n",
    "}\n",
    "\n",
    "# Check each collection author's name for matches\n",
    "for index, row in df.iterrows():\n",
    "    for b in buildings.keys():\n",
    "        if b in str(row['Text']):\n",
    "            buildings[b] = buildings.get(b) + 1\n",
    "                \n",
    "print(buildings)"
   ]
  },
  {
   "cell_type": "markdown",
   "id": "18586c8f",
   "metadata": {},
   "source": [
    "When we look in the dataset at large, nearly all of the names are present. However, this is certainly not entirely accurate when considering what we are looking for. As we saw with the presidents deep dive, many names have double meanings or can also be first names. Let's check in just the name column to see if we can yield more accurate results."
   ]
  },
  {
   "cell_type": "code",
   "execution_count": 3,
   "id": "05616dce",
   "metadata": {},
   "outputs": [
    {
     "name": "stdout",
     "output_type": "stream",
     "text": [
      "{'Alspaugh': 1, 'Baldwin': 9, 'Bassett': 2, 'Bivins': 0, 'Blackwell': 36, 'Branson': 0, 'Brodie': 1, 'Brown': 74, 'Crowell': 1, 'Epworth': 0, 'Friedl': 0, 'Gilbert-Addoms': 0, 'Giles': 7, 'Lilly': 2, 'Biddle': 19, 'Pegram': 5, 'Southgate': 4, 'White': 42, 'Wilson': 49, 'Allen': 46, 'Bostock': 0, 'Brodhead': 0, 'Fitzpatrick': 0, 'Flowers': 4, 'Gray': 13, 'Gross': 0, 'Hart': 10, 'Karsh': 0, 'Levine': 0, 'Perkins': 6, 'Reuben-Cooke': 0, 'Rubenstein': 0, 'Sanford': 10, 'Teer': 0, 'Wilkinson': 5, 'Craven': 10, 'Edens': 1, 'Few': 4, 'Keohane': 0, 'Kilgo': 1, 'Wannamaker': 0}\n",
      "{'Alspaugh': [644], 'Baldwin': [2093, 2094, 20279, 21958, 21987, 21988, 33105, 33124, 33125], 'Bassett': [2902, 2903], 'Blackwell': [4524, 4525, 4529, 4530, 4532, 4534, 4537, 4549, 4550, 4551, 4552, 4553, 4554, 4555, 4556, 4557, 4558, 4559, 4560, 4561, 4562, 4563, 4564, 4565, 4566, 4567, 4568, 4569, 4570, 4571, 4572, 4573, 4574, 4575, 4577, 4578], 'Brodie': [5869], 'Brown': [672, 5635, 6019, 6023, 6045, 6046, 6047, 6049, 6059, 6060, 6062, 6065, 6068, 6069, 6073, 6076, 6077, 6079, 6081, 6082, 6083, 6084, 6123, 6125, 6127, 6134, 6136, 6137, 6138, 6140, 6142, 6145, 6146, 6148, 6150, 6153, 6156, 6157, 6158, 6159, 6160, 6161, 6163, 6164, 6165, 6166, 6167, 6168, 6169, 6170, 6171, 6172, 6173, 6174, 6175, 6176, 6184, 6188, 6192, 6195, 6196, 6198, 6201, 6202, 6206, 6215, 6223, 6224, 6225, 6226, 6240, 6241, 9600, 9605], 'Crowell': [11387], 'Giles': [17234, 17236, 17242, 17243, 43415, 43419, 47180], 'Lilly': [10994, 27597], 'Biddle': [4287, 4291, 4292, 4293, 4296, 4299, 4300, 4314, 4315, 4316, 4317, 4318, 4319, 4320, 4321, 4323, 4324, 38118, 40075], 'Pegram': [35032, 35033, 35034, 35035, 35036], 'Southgate': [42029, 42030, 42067, 42068], 'White': [27817, 48046, 48048, 48050, 48051, 48053, 48054, 48056, 48058, 48059, 48060, 48061, 48062, 48063, 48064, 48065, 48067, 48077, 48086, 48090, 48091, 48092, 48094, 48100, 48101, 48110, 48112, 48114, 48118, 48119, 48120, 48122, 48125, 48126, 48129, 48131, 48133, 48134, 48141, 48143, 48144, 48146], 'Wilson': [7645, 15252, 27146, 33430, 35342, 48955, 48958, 48960, 48961, 48964, 48967, 48968, 48969, 48970, 48971, 48980, 48986, 48987, 48990, 48996, 48998, 49000, 49004, 49007, 49008, 49009, 49019, 49021, 49024, 49028, 49030, 49031, 49034, 49035, 49036, 49038, 49040, 49042, 49043, 49045, 49047, 49049, 49052, 49053, 49056, 49059, 49062, 49064, 49066], 'Allen': [486, 487, 499, 503, 505, 507, 508, 509, 515, 518, 519, 520, 521, 522, 523, 524, 525, 529, 530, 533, 535, 538, 540, 544, 547, 548, 549, 550, 552, 553, 554, 563, 566, 14979, 15511, 17472, 22453, 34964, 35032, 35033, 35034, 35035, 35292, 35293, 37048, 49468], 'Flowers': [15700, 15708, 15710, 15711], 'Gray': [18368, 18369, 18370, 18372, 18375, 18381, 18383, 18386, 18388, 18390, 18391, 18392, 23022], 'Hart': [20569, 20574, 20575, 20577, 20579, 20580, 20582, 20584, 20588, 20593], 'Perkins': [35223, 35226, 35228, 35241, 35243, 35246], 'Rubenstein': [], 'Sanford': [37109, 39311, 39349, 39350, 39355, 39357, 39359, 39360, 39363, 39367], 'Wilkinson': [48566, 48572, 48574, 48575, 48577], 'Craven': [11142, 11146, 11147, 11153, 11154, 11167, 11184, 11192, 11193, 14234], 'Edens': [14394], 'Few': [15285, 15288, 15290, 15293], 'Kilgo': [25715]}\n"
     ]
    }
   ],
   "source": [
    "# Dictionary storing important Duke building names (excluding those not named after people)\n",
    "buildings = {\n",
    "'Alspaugh': 0, 'Baldwin': 0, 'Bassett': 0, 'Bivins': 0, 'Blackwell': 0, 'Branson': 0, 'Brodie': 0, 'Brown': 0, 'Crowell': 0,\n",
    "'Epworth': 0, 'Friedl': 0, 'Gilbert-Addoms': 0, 'Giles': 0, 'Lilly': 0, 'Biddle': 0, 'Pegram': 0, 'Southgate': 0,\n",
    "'White': 0, 'Wilson': 0, 'Allen': 0, 'Bostock': 0, 'Brodhead': 0, 'Fitzpatrick': 0, 'Flowers': 0, 'Gray': 0, \n",
    "'Gross': 0, 'Hart': 0, 'Karsh': 0, 'Levine': 0, 'Perkins': 0, 'Reuben-Cooke': 0,  'Rubenstein': 0, 'Sanford': 0, \n",
    "'Teer': 0, 'Wilkinson': 0, 'Craven': 0, 'Crowell': 0, 'Edens': 0, 'Few': 0, 'Keohane': 0,  'Kilgo': 0, 'Wannamaker': 0\n",
    "}\n",
    "\n",
    "# Store indices of building names in dictionary\n",
    "building_indices = {'Alspaugh': [], 'Baldwin': [], 'Bassett': [], 'Blackwell': [], 'Brodie': [], 'Brown': [], 'Crowell': [], \n",
    "                    'Giles': [], 'Lilly': [], 'Biddle': [], 'Pegram': [], 'Southgate': [], 'White': [], 'Wilson': [], 'Allen': [],\n",
    "                    'Flowers': [], 'Gray': [], 'Hart': [], 'Perkins': [], 'Rubenstein': [], 'Sanford': [], 'Wilkinson': [], \n",
    "                    'Craven': [], 'Edens': [], 'Few': [], 'Kilgo': []}\n",
    "\n",
    "# Check each collection author's name for matches\n",
    "for index, row in df.iterrows():\n",
    "    if row['Coll_head'] == 1:\n",
    "        for b in buildings.keys():\n",
    "            if (b + ',') in str(row['Name']) or (b + ' ') in str(row['Name']):\n",
    "                buildings[b] = buildings.get(b) + 1\n",
    "                building_indices[b].append(index)\n",
    "                \n",
    "print(buildings)\n",
    "print(building_indices)"
   ]
  },
  {
   "cell_type": "code",
   "execution_count": 47,
   "id": "e749d9cb",
   "metadata": {},
   "outputs": [],
   "source": [
    "non_zero = {}\n",
    "\n",
    "for x, y in buildings.items():\n",
    "    if y != 0:\n",
    "        non_zero[x] = y\n",
    "    \n",
    "non_zero = sorted(non_zero.items(), key=operator.itemgetter(1))"
   ]
  },
  {
   "cell_type": "markdown",
   "id": "49c52c0e",
   "metadata": {},
   "source": [
    "**Alspaugh: 1, \n",
    "Brodie: 1, \n",
    "Crowell: 1, \n",
    "Edens: 1, \n",
    "Kilgo: 1, \n",
    "Bassett: 2, \n",
    "Lilly: 2, \n",
    "Southgate: 4, \n",
    "Flowers: 4, \n",
    "Few: 4, \n",
    "Pegram: 5, \n",
    "Wilkinson: 5, \n",
    "Perkins: 6, \n",
    "Giles: 7, \n",
    "Baldwin: 9, \n",
    "Hart: 10, \n",
    "Sanford: 10, \n",
    "Craven: 10, \n",
    "Gray: 13, \n",
    "Biddle: 19, \n",
    "Blackwell: 36, \n",
    "White: 42, \n",
    "Allen: 46, \n",
    "Wilson: 49, \n",
    "Brown: 74**"
   ]
  },
  {
   "cell_type": "markdown",
   "id": "ae43cf94",
   "metadata": {},
   "source": [
    "Above, we can see the building names found in the author names of the collections of the card catalog, sorted in ascending order. Not all of the names were present in the files, but many had at least a couple instances in the files. As we've already looked into some of these in the presidents section, let's see what we can learn from some of the other notable Duke names."
   ]
  },
  {
   "cell_type": "markdown",
   "id": "ef73c029",
   "metadata": {},
   "source": [
    "### Qualitative Analysis of Duke Building Names"
   ]
  },
  {
   "cell_type": "markdown",
   "id": "515be543",
   "metadata": {},
   "source": [
    "Let's see if any of mentions of Duke building names in the dataset are actually related to the people that the building was named after."
   ]
  },
  {
   "cell_type": "markdown",
   "id": "d05aada9",
   "metadata": {},
   "source": [
    "#### Lilly, Pegram, Wilkinson, Gray, White, Allen, Wilson, Brown"
   ]
  },
  {
   "cell_type": "markdown",
   "id": "88619fe3",
   "metadata": {},
   "source": [
    "Some of these names, unfortunately, do not have any hits that are directly relevant to the history of the building, but it is still interesting to see the prevalence of Duke-related names, regardless if it is the same specific individuals. Additionally, the library's history of East Campus buildings is found [here](https://library.duke.edu/rubenstein/uarchives/history/exhibits/building-names/east)."
   ]
  },
  {
   "cell_type": "markdown",
   "id": "e086e9bb",
   "metadata": {},
   "source": [
    "#### Alspaugh, Bassett, Baldwin"
   ]
  },
  {
   "cell_type": "markdown",
   "id": "59789205",
   "metadata": {},
   "source": [
    "Similar to the presidents, some of these names' only relevant cards are the \"See Duke University Archives\" cards assoicated with the person the building is named after. See [Alspaugh](https://archive.org/details/rubensteinmanuscriptcatalog_A_to_Amer/page/n644/mode/2up), [Bassett](https://archive.org/details/rubensteinmanuscriptcatalog_Bam_to_Bedh/page/n449/mode/2up), and [Baldwin](https://archive.org/details/rubensteinmanuscriptcatalog_Armi_to_Bal/page/n575/mode/2up).\n",
    "\n",
    "There are, however, a couple mentions of the Bassett Affair [here](https://archive.org/details/rubensteinmanuscriptcatalog_Wi._Smith_to_So/page/n639/mode/2up) and [here](https://archive.org/details/rubensteinmanuscriptcatalog_J._Brown_to_L._Butler/page/n81/mode/2up). [The Bassett Affair](https://library.duke.edu/rubenstein/uarchives/history/articles/bassett-affair) was when John Spencer Bassett added a sentence in his journal praising Booker T. Washington as one of the best southerners in the past 100 years, enraging many Southern Democrats. President Kilgo and other faculty and students supported Bassett and the Trinity Board of Trustees voted not to accept his resignation, leading to favorable publicity for the college and setting a precident for academic freedom."
   ]
  },
  {
   "cell_type": "markdown",
   "id": "abb5f8d0",
   "metadata": {},
   "source": [
    "#### Southgate"
   ]
  },
  {
   "cell_type": "markdown",
   "id": "4f9e8f9a",
   "metadata": {},
   "source": [
    "James Southgate had numerous items recorded in the catalog. Starting with [this card](https://archive.org/details/rubensteinmanuscriptcatalog_Wi._Smith_to_So/page/n602/mode/2up), there is a lot of information about James and family. Southgate's son, James Haywood was a Trinity College trustee and is discussed in his father's collections. The senior's letters are described being more of interest than Haywood's, who wrote anout the insurance business and family stress. Kilgo, apparently was a friend of J.H."
   ]
  },
  {
   "cell_type": "markdown",
   "id": "4abeb660",
   "metadata": {},
   "source": [
    "#### Giles"
   ]
  },
  {
   "cell_type": "markdown",
   "id": "b568c073",
   "metadata": {},
   "source": [
    "The Giles sisters were the first women to recieve degrees from Trinity college, both undergraduate and graduate. Mary Giles' [collection](https://archive.org/details/rubensteinmanuscriptcatalog_Ger_to_Gorl/page/n279/mode/2up) includes papers concerning her and her sisters' education, international travels, and their lives after college."
   ]
  },
  {
   "cell_type": "markdown",
   "id": "e8f810a3",
   "metadata": {},
   "source": [
    "#### Blackwell"
   ]
  },
  {
   "cell_type": "markdown",
   "id": "5b103c51",
   "metadata": {},
   "source": [
    "William Thomas Blackwell was the founder of the Bull Durham Tobacco Company and has many associated collections in the catalog, starting [here](https://archive.org/details/rubensteinmanuscriptcatalog_Ben_to_Blac/page/n725/mode/2up). The cards discuss his tobacco business and his financial woes. There are many money-related logs, ledgers, and journals."
   ]
  },
  {
   "cell_type": "markdown",
   "id": "2f545746",
   "metadata": {},
   "source": [
    "#### Biddle"
   ]
  },
  {
   "cell_type": "markdown",
   "id": "2ee10a37",
   "metadata": {},
   "source": [
    "The card corresponding to Mary Duke Biddle's collection is found [here](https://archive.org/details/rubensteinmanuscriptcatalog_Ben_to_Blac/page/n481/mode/2up). It contains a variety of documents relating to various aspects of her life."
   ]
  },
  {
   "cell_type": "markdown",
   "id": "a03a73f2",
   "metadata": {},
   "source": [
    "#### Perkins"
   ]
  },
  {
   "cell_type": "markdown",
   "id": "6ad51bae",
   "metadata": {},
   "source": [
    "William Robertson Perkins was a judge who was counsel to James B. Duke and a trustee of the Duke Endowment. Starting [here](https://archive.org/details/rubensteinmanuscriptcatalog_Pep_to_Pn/page/n45/mode/2up), his collection discusses his connection to the university and employment."
   ]
  },
  {
   "cell_type": "markdown",
   "id": "540795aa",
   "metadata": {},
   "source": [
    "## Duke's Nomenclature"
   ]
  },
  {
   "cell_type": "markdown",
   "id": "8ca2bf73",
   "metadata": {},
   "source": [
    "The institution we now know as Duke University has gone through many naming iterations over the years. Starting with Brown School in the nineteenth century, it has also been called Union Institute, Normal College, and, finally, Trinity College before gaining the moniker which we have today. Are these names present in the catalog? And, if so, *when* are these names mentioned? Let's find out. "
   ]
  },
  {
   "cell_type": "markdown",
   "id": "aa15fbb4",
   "metadata": {},
   "source": [
    "### Finding Name Matches"
   ]
  },
  {
   "cell_type": "code",
   "execution_count": 4,
   "id": "7fbbef11",
   "metadata": {},
   "outputs": [],
   "source": [
    "# Lists to hold the dates of Duke name mentions\n",
    "brown, union, normal, trinity, duke = [], [], [], [], []\n",
    "counts = [0, 0, 0, 0, 0]\n",
    "\n",
    "name_indices = {'brown': [], 'union': [], 'normal': [], 'trinity': [], 'duke': []}\n",
    "\n",
    "# Check each card for a college name\n",
    "curr_col = 0\n",
    "for index, row in df.iterrows():\n",
    "    if row['Coll_head'] == 1:\n",
    "        curr_col = index\n",
    "    if not pd.isnull(df.iloc[curr_col]['Year']):\n",
    "        if \"Brown School\" in row['Text'].title():\n",
    "            brown.append(df.iloc[curr_col]['Year'])\n",
    "            name_indices['brown'].append(index)\n",
    "            counts[0] += 1\n",
    "        if \"Union Institute\" in row['Text'].title():\n",
    "            union.append(df.iloc[curr_col]['Year'])\n",
    "            name_indices['union'].append(index)\n",
    "            counts[1] += 1\n",
    "        if \"Normal College\" in row['Text'].title():\n",
    "            normal.append(df.iloc[curr_col]['Year'])\n",
    "            name_indices['normal'].append(index)\n",
    "            counts[2] += 1\n",
    "        if \"Trinity College\" in row['Text'].title():\n",
    "            trinity.append(df.iloc[curr_col]['Year'])\n",
    "            name_indices['trinity'].append(index)\n",
    "            counts[3] += 1\n",
    "        if \"Duke University\" in row['Text'].title():\n",
    "            duke.append(df.iloc[curr_col]['Year'])\n",
    "            name_indices['duke'].append(index)\n",
    "            counts[4] += 1"
   ]
  },
  {
   "cell_type": "code",
   "execution_count": 49,
   "id": "cde8a56f",
   "metadata": {},
   "outputs": [
    {
     "name": "stdout",
     "output_type": "stream",
     "text": [
      "{'brown': [], 'union': [31358, 50170], 'normal': [410, 2004, 4821, 5148, 5149, 6904, 7031, 9828, 15130, 15131, 15133, 20074, 20075, 25093, 25094, 25195, 44683, 47523, 47901, 48481, 48488], 'trinity': [127, 158, 932, 949, 1950, 2004, 2726, 4207, 4294, 4855, 4859, 5861, 5864, 5955, 6085, 6659, 6815, 6917, 6918, 6921, 7684, 7685, 7687, 7688, 7698, 7700, 8356, 9180, 9645, 10235, 10741, 10906, 10920, 11155, 11156, 11158, 11161, 11164, 11197, 11199, 11200, 11731, 11822, 12078, 13261, 13302, 13303, 13317, 13671, 13674, 14005, 15133, 16211, 17237, 17238, 17239, 17306, 17967, 19231, 19295, 19298, 19384, 20729, 20731, 21237, 21765, 22038, 22129, 22147, 22150, 22158, 23045, 24107, 24513, 24523, 24837, 25004, 25621, 25748, 27216, 27397, 27816, 27836, 28173, 28657, 28659, 28828, 30321, 30375, 30376, 30480, 30706, 30943, 30945, 30947, 30951, 31012, 31013, 31015, 31016, 31017, 31018, 31019, 31247, 31977, 32804, 32886, 34437, 34637, 34654, 35029, 35460, 37321, 37405, 37500, 37748, 37801, 38323, 38324, 39272, 39480, 39481, 39702, 40312, 40454, 40468, 40616, 40644, 40703, 41457, 41590, 41594, 41642, 41914, 42030, 42061, 42065, 42066, 42069, 42408, 42531, 42532, 42919, 42927, 43242, 43348, 43352, 43354, 43616, 43619, 44460, 44474, 44507, 44696, 45276, 45662, 45663, 45693, 45696, 45697, 45808, 46887, 47503, 47523, 49746, 49750, 49751, 50170, 50219], 'duke': [59, 60, 258, 415, 509, 515, 568, 570, 571, 572, 575, 577, 596, 749, 751, 752, 800, 878, 881, 888, 1084, 1085, 1408, 1432, 1594, 1619, 1941, 1950, 2095, 2168, 2178, 2388, 2820, 2829, 3592, 3885, 3912, 4139, 4143, 4273, 4294, 4463, 4465, 4466, 4467, 4471, 4472, 4504, 4664, 4665, 4860, 5148, 5149, 5231, 5488, 5489, 5610, 5730, 6085, 6086, 6090, 6106, 6116, 6122, 6185, 6186, 6236, 6265, 6434, 6551, 6565, 6630, 6773, 6777, 6844, 6986, 6990, 7021, 7337, 7484, 7683, 7688, 7701, 7974, 8023, 8085, 8090, 8093, 8185, 8191, 8251, 8356, 9038, 9179, 9180, 9260, 9273, 9404, 9405, 9407, 9410, 9412, 9414, 9417, 9419, 9420, 9645, 9663, 10329, 10354, 10386, 10504, 10662, 10743, 10752, 10753, 11037, 11045, 11168, 11175, 11197, 11337, 11735, 11737, 11823, 12145, 12152, 12533, 12561, 12679, 13053, 13141, 13302, 13318, 13655, 13669, 13692, 13693, 13694, 13695, 13696, 13741, 13743, 13745, 13746, 13747, 13750, 13751, 13752, 13753, 13754, 13755, 13756, 13757, 13758, 13759, 13760, 13761, 13762, 13763, 13764, 13765, 13766, 13767, 13768, 13769, 13770, 13771, 13772, 13773, 13774, 13775, 13776, 13777, 13778, 13779, 13780, 13781, 13782, 13783, 13793, 13795, 13796, 13797, 13798, 13799, 13800, 13801, 13806, 13807, 13808, 13809, 14399, 14484, 14512, 14516, 14517, 14585, 14623, 14861, 14979, 14983, 15294, 15511, 15697, 15751, 15752, 15927, 15939, 16184, 16278, 16529, 16542, 16556, 16557, 16797, 16842, 16922, 17179, 17472, 17493, 17494, 17497, 17498, 17754, 17756, 18432, 18666, 18712, 18713, 18952, 19185, 19309, 19311, 19334, 19384, 19444, 19616, 19647, 19648, 19650, 19651, 19652, 19653, 19658, 19660, 19662, 19666, 19771, 19865, 19909, 19912, 19920, 20156, 20210, 20212, 20214, 20318, 20523, 20542, 20549, 20823, 21005, 21396, 21508, 21566, 21616, 21723, 21815, 21954, 22050, 22265, 22266, 22267, 22272, 22285, 22594, 22595, 22597, 22618, 22772, 22868, 22869, 22871, 22893, 22895, 22905, 22921, 22922, 22923, 22926, 22943, 23288, 23343, 23775, 23909, 24166, 24237, 24525, 24619, 24838, 25049, 25074, 25251, 25262, 25263, 25264, 25665, 26306, 26307, 26393, 26398, 26399, 26603, 26801, 26854, 27338, 27340, 27457, 27486, 27719, 27720, 27790, 27802, 27889, 28247, 28561, 28601, 28658, 28718, 28828, 29203, 29456, 29573, 29623, 30375, 30376, 30650, 30666, 30677, 31230, 31322, 31509, 31813, 31892, 31899, 32183, 32297, 32343, 32851, 32877, 32971, 33042, 33092, 33642, 33672, 33917, 33922, 34078, 34080, 34136, 34437, 34537, 34539, 34654, 34850, 34882, 35029, 35030, 35031, 35234, 35237, 35251, 35367, 35373, 35418, 35620, 35990, 36033, 36215, 36299, 36493, 36495, 36496, 36542, 36652, 36711, 36804, 36868, 36869, 37052, 37205, 37214, 37221, 37260, 37261, 37263, 37405, 37612, 37613, 37656, 37657, 37801, 37847, 37849, 38056, 38063, 38064, 38071, 38235, 38401, 38412, 38679, 38866, 39017, 39135, 39255, 39258, 39271, 39294, 39295, 39297, 39311, 39313, 39314, 39673, 39675, 39679, 39680, 39681, 39744, 39745, 39747, 39748, 40073, 40076, 40077, 40078, 40080, 40082, 40083, 40235, 40319, 40337, 40338, 40616, 40703, 40878, 40952, 40978, 41173, 41174, 41568, 41644, 41703, 41736, 41775, 42007, 42051, 42069, 42377, 42533, 42780, 42991, 42994, 43032, 43238, 43242, 43243, 43244, 43247, 43338, 43348, 43352, 43369, 43370, 43417, 43598, 43599, 43616, 43760, 43762, 43763, 43996, 44012, 44200, 44245, 44447, 44459, 44513, 44535, 44812, 44857, 44859, 45317, 45318, 45704, 45710, 45866, 46093, 46469, 46470, 46473, 46685, 47102, 47152, 47173, 47272, 47601, 47703, 47864, 47880, 47979, 48169, 48439, 48644, 48709, 49487, 49585, 49586, 49592, 49716, 50170]}\n"
     ]
    }
   ],
   "source": [
    "# Dictionary storing indices of cards that mention Duke names\n",
    "print(name_indices)"
   ]
  },
  {
   "cell_type": "markdown",
   "id": "8c686969",
   "metadata": {},
   "source": [
    "It looks like we have 0 mentions of Brown School, 2 mentions of Union Institute, 21 mentions of Normal College, 169 mentions of Trinity College, and 523 mentions of Duke University. All mentions are associated with valid dates."
   ]
  },
  {
   "cell_type": "code",
   "execution_count": 2,
   "id": "8cd0447c",
   "metadata": {},
   "outputs": [],
   "source": [
    "# Values stored after running above code\n",
    "counts = [0, 2, 21, 169, 523]\n",
    "names = [\"Brown School\", \"Union Institute\", \"Normal College\", \"Trinity College\", \"Duke University\"]\n",
    "\n",
    "brown = []\n",
    "union = ['1863-1890', '1879-1889']\n",
    "normal = ['1833-1985', '1852-1853', '1881-1919', '1846-1933', '1846-1933', '1820-1907', '1783-1940', '1840-1925', '1851-1861', '1851-1861', '1851-1861', '1870-1900', '1870-1900', '1757-1978', '1757-1978', '1852-1857', '1896-1902', '1856-1866', '1830-1850', '1853-1862', '1853-1862']\n",
    "trinity = ['1891-1913', '1901-1922', '1847-1890', '1865', '1833-1967', '1852-1853', '1924-1971', '1859', '1887-1960', '1886-1888', '1886-1888', '1842-1864', '1842-1864', '1951', '1912-1974', '1896-1899', '1905', '1806-1909', '1806-1909', '1806-1909', '1885-1976', '1885-1976', '1885-1976', '1885-1976', '1855-1885', '1855-1885', '1914-1946', '1902-1961', '1912-1976', '1861-1865', '1752-1927', '1913-1914', '1854-1869', '1893-1898', '1893-1898', '1893-1898', '1893-1898', '1893-1898', '1785-1966', '1785-1966', '1785-1966', '1816-1876', '1889-1894', '1859-1905', '1909', '1820-1869', '1820-1869', '1820-1869', '1855-1929', '1855-1929', '1783-1984', '1851-1861', '1818-1894', '1846-1942', '1846-1942', '1846-1942', '1836-1932', '1325-1408', '1892-1910', '1848-1984', '1848-1984', '1788-1952', '1767-1965', '1767-1965', '1848-1893', '1796-1891', '1884-1886', '1841-1929', '1841-1929', '1841-1929', '1841-1929', '1903', '1870', '1810-1929', '1915-1955', '1912-1955', '1797-1919', '1840-1856', '1918-1973', '1869', '1881-1935', '1935-1936', '1831-1879', '1881-1916', '1772-1899', '1772-1899', '1860-1927', '1873-1882', '1788-1797', '1788-1797', '1884-1887', '1900-1911', '1861', '1875-1887', '1875-1887', '1860-1877', '1885-1890', '1885-1890', '1885-1890', '1888-1892', '1888-1892', '1888-1892', '1875-1887', '1893-1971', '1805-1881', '1919-1973', '1890-1953', '1889-1917', '1977', '1900-1961', '1881-1959', '1889-1890', '1894-1912', '1918', '1893-1897', '1910-1935', '1864-1868', '1889-1958', '1889-1958', '1924-1952', '1767-1905', '1767-1905', '1747-1751', '1920', '1875-1912', '1837-1893', '1886-1967', '1913-1917', '1854-1940', '1855-1869', '1856-1937', '1856-1937', '1856-1871', '1884-1887', '1851-1935', '1851-1935', '1851-1935', '1851-1935', '1912-1933', '1803-1891', '1915-1954', '1915-1954', '1866-1891', '1866-1891', '1888-1975', '1748-1989', '1748-1989', '1748-1989', '1829-1901', '1829-1901', '1905-1922', '1905-1922', '1905-1922', '1774-1777', '1694', '1891-1969', '1891-1969', '1835-1961', '1835-1961', '1835-1961', '1884-1939', '1890-1948', '1842', '1856-1866', '1828-1969', '1828-1969', '1828-1969', '1879-1889', '1784-1837']\n",
    "duke = ['1973-1989', '1973-1989', '1967-1995', '1962', '1990-1995', '1923-1960', '1843-1971', '1843-1971', '1843-1971', '1843-1971', '1843-1971', '1843-1971', '1866-1969', '1987', '1987', '1987', '1814', '1977-1982', '1977-1982', '1955-1984', '1925-1968', '1925-1968', '1844', '1964-1992', '1913-1962', '1856-1950', '1901-1970', '1833-1967', '1913-1966', '1805-1952', '1805-1952', '1805-1952', '1809-1824', '1866-1868', '1799-1870', '1872-1904', '1820-1962', '1755-1967', '1755-1967', '1216', '1887-1960', '1858-1936', '1967-1984', '1967-1984', '1967-1984', '1899-1972', '1963', '1798-1813', '1840-1865', '1840-1865', '1939-1963', '1846-1933', '1846-1933', '1930-1950', '1922-1976', '1922-1976', '1894', '1868-1928', '1912-1974', '1912-1974', '1912-1974', '1912-1974', '1912-1974', '1912-1974', \"1930-1950\", \"1930-1950\", '1929', '1959-1966', '1851-1907', '1928-1986', '1854-1857', '1811-1899', '1680', '1680', '1822-1888', '1879-1922', '1884-1917', '1975-1979', '1731-1969', '1864', '1885-1976', '1885-1976', '1855-1885', '1962-1972', '1980-1985', '1821-1946', '1821-1946', '1821-1946', '1886-1978', '1862', '1936', '1914-1946', '1942-1944', '1902-1961', '1902-1961', '1981', '1924-1926', '1927-1938', '1927-1938', '1927-1938', '1927-1938', '1927-1938', '1927-1938', '1927-1938', '1927-1938', '1927-1938', '1912-1976', '1912-1976', '1946-1953', '1940-1953', '1941-1953', '1897-1910', '1847-1916', '1752-1927', '1931-1934', '1931-1934', '1881-1968', '1821-1973', '1918-1977', '1918-1977', '1785-1966', '1987', '1816-1876', '1816-1876', '1889-1894', '1927-1961', '1927-1961', '1889-1893', '1900-1982', '1846-1854', '1852-1854', '1865-1887', '1820-1869', '1820-1869', '1915', '1925-1968', '1973-1978', '1973-1978', '1973-1978', '1973-1978', '1973-1978', '1803-1883', '1920-1970', '1920-1970', '1920-1970', '1920-1970', '1979-1994', '1979-1994', '1979-1994', '1979-1994', '1979-1994', '1979-1994', '1979-1994', '1979-1994', '1979-1994', '1979-1994', '1979-1994', '1979-1994', '1979-1994', '1979-1994', '1979-1994', '1979-1994', '1979-1994', '1979-1994', '1979-1994', '1979-1994', '1979-1994', '1979-1994', '1979-1994', '1979-1994', '1979-1994', '1979-1994', '1992-1993', '1992-1993', '1992-1993', '1992-1993', '1992-1993', '1992-1993', '1992-1993', '1992-1993', '1974-1988', '1974-1988', '1974-1988', '1974-1988', '1974-1988', '1974-1988', '1974-1988', '1974-1988', '1971-1992', '1971-1992', '1971-1992', '1971-1992', '1943', '1772-1795', '1728-1984', '1896-1961', '1896-1961', '1827-1858', '1935', '1976', '1862-1902', '1837-1971', '1802', '1969', '1939', '1928-1983', '1928-1983', '1778-1783', '1765-1850', '1943-1948', '1786-1796', '1800-1981', '1800-1981', '1800-1981', '1800-1981', '1938-1939', '1727-1905', '1785-1900', '1860-1920', '1931-1942', '1905-1985', '1905-1985', '1905-1985', '1905-1985', '1967-1987', '1967-1987', '1707-1948', '1863-1909', '1914-1979', '1914-1979', '1814-1864', '1832', '1938-1996', '1938-1996', '1953-1964', '1788-1952', '1939', '1350-1995', '1930-1979', '1930-1979', \"1700-1972\", \"1700-1972\", \"1700-1972\", \"1700-1972\", \"1700-1972\", \"1700-1972\", \"1700-1972\", \"1700-1972\", '1799-1862', '1955-1980', '1927-1983', '1927-1983', '1907-1978', '1941-1942', '1971-1989', '1971-1989', '1971-1989', '1817-1844', '1913-1989', '1913-1989', '1913-1989', ' 1959-1979', '1921-1930', '1951', '1837-1874', '1958-1985', '1854-1855', '1930-1940', '1916-1928', '1967', '1759-1792', '1818-1982', '1818-1982', '1818-1982', '1842-1969', '1936-1983', '1770-1773', '1777-1783', '1727-1805', '1930-1969', '1972-1983', '1837-1841', '1839', '1819-1830', '1905-1986', '1905-1986', '1905-1986', '1905-1986', '1905-1986', '1905-1986', '1905-1986', '1905-1977', '1954-1962', '1871-1872', '1918-1986', '1780-1813', '1861-1991', '1889-1970', '1915-1955', '1940-1941', '1912-1955', '1757-1978', '1757-1978', '1858-1991', '1913-1970', '1913-1970', '1913-1970', '1837', '1997', '1997', '1901-1970', '1901-1970', '1901-1970', '1900-1927', '1755', '1983-1984', '1879-1969', '1879-1969', '1905-1949', '1947-1985', '1963-1980', '1963-1980', '1926-1947', '1940', '1848-1904', '1788-1789', '1911-1984', '1969', '1772-1899', '1797-1800', '1860-1927', '1784-1847', '1826-1895', '1834-1890', '1790-1820', '1788-1797', '1788-1797', '1764-1981', '1764-1981', '1764-1981', '1782-1821', '1860-1868', '1934-1977', '1852-1933', '1942', '1981-1985', '1972-1975', '1878-1934', '1806-1863', '1912-1913', '1917-1970', '1980', '1824-1859', '1899-1947', '1602-1677', '1923-1926', '1840-1949', '1840-1949', '1918-1975', '1956-1985', '1903', '1889-1917', '1957-1976', '1957-1963', '1900-1961', '1942-1970', '1969-1990', '1881-1959', '1881-1959', '1881-1959', '1932-1941', '1932-1941', '1903-1967', '1580-1892', '1952', '1961-1990', '1892-1921', '1972-1996', '1891-1976', '1962-1995', '1892-1959', '1861-1871', '1861-1871', '1968-1986', '1933', '1766', '1925-1938', '1887-1944', '1968-1964', '1968-1964', '1483-1974', '1934-1984', '1964-1982', '1852-1986', '1956-1976', '1956-1976', '1956-1976', '1918', '1922-1982', '1922-1982', '1891-1983', '1891-1983', '1864-1868', '1928-1995', '1928-1995', '1914', '1928-1971', '1928-1971', '1949', '1855-1907', '1776-1794', '1760-1790', '1934', '1760-1845', '1919-1962', '1941-1991', '1937-1990', '1937-1990', '1924-1952', '1926-1980', '1926-1980', '1926-1980', '1985-1992', '1985-1992', '1985-1992', '1983', '1983', '1946-1994', '1946-1994', '1946-1994', '1939-1986', '1939-1986', '1939-1986', '1939-1986', '1859-1959', '1925-1991', '1925-1991', '1925-1991', '1878-1991', '1878-1991', '1878-1991', '1933-1941', '1972-1974', '1812-1815', '1812-1815', '1886-1967', '1854-1940', '1983', '1887-1949', '1964-1965', '1916-1973', '1916-1973', '1887-1953', '1864', '1900-1976', '1900-1976', '1900-1976', '1992', '1851-1935', '1912-1933', '1931-1980', '1915-1954', '1743-1838', '1955-1984', '1904', '1937-1938', '1972-1981', '1888-1975', '1888-1975', '1888-1975', '1888-1975', '1764-1792', '1748-1989', '1748-1989', '1861-1865', '1861-1865', '1921-1953', '1914-1997', '1914-1997', '1829-1901', '1898-1954', '1898-1954', '1898-1954', '1975-1982', '1832-1837', '1596-1816', '1985-1987', '1905-1922', '1905-1922', '1851', '1814-1898', '1839-1880', '1924-1939', '1924-1939', '1971', '1971', '1918-1976', '1833-1834', '1888-1891', '1830-1880', '1843-1888', '1841-1977', '1841-1977', '1990-1992', '1779-1854', '1730-1975', '1750-1762', '1802-1883', '1828-1875', '1963-1979', '1726-1889', '1759-1828', '1879-1915', '1889-1968', '1812-1885', '1839-1961', '1954-1955', '1930-1961', '1957-1976', '1957-1976', '1957-1976', '1844-1955', '1879-1889']"
   ]
  },
  {
   "cell_type": "markdown",
   "id": "ca08af89",
   "metadata": {},
   "source": [
    "### Name Frequencies"
   ]
  },
  {
   "cell_type": "code",
   "execution_count": 12,
   "id": "59dbbc5f",
   "metadata": {},
   "outputs": [
    {
     "data": {
      "image/png": "[encoded data removed]",
      "text/plain": [
       "<Figure size 432x288 with 1 Axes>"
      ]
     },
     "metadata": {
      "needs_background": "light"
     },
     "output_type": "display_data"
    }
   ],
   "source": [
    "# Create bar chart of Duke name frequencies\n",
    "plt.bar(names, counts, color='#00539B')\n",
    "plt.xticks(rotation = 45)\n",
    "plt.title(\"Occurances of Duke's Names in the Catalog\")\n",
    "plt.xlabel(\"Name\")\n",
    "plt.ylabel(\"# of Cards\")\n",
    "plt.show()"
   ]
  },
  {
   "cell_type": "markdown",
   "id": "d8040bc3",
   "metadata": {},
   "source": [
    "### Average Collection Dates by Name"
   ]
  },
  {
   "cell_type": "markdown",
   "id": "3c96846e",
   "metadata": {},
   "source": [
    "Let's find the average date of a collection that mentions each of these college names. For this, we will find the average date for each instance of a found name--either a single date or the simple average of the collection's start and end dates--and then the mean of all the instances of the college name."
   ]
  },
  {
   "cell_type": "code",
   "execution_count": 31,
   "id": "b72a0239",
   "metadata": {},
   "outputs": [
    {
     "data": {
      "text/plain": [
       "[1880, 1871, 1884, 1917]"
      ]
     },
     "execution_count": 31,
     "metadata": {},
     "output_type": "execute_result"
    }
   ],
   "source": [
    "def find_mean(list):\n",
    "    total, num = 0, 0\n",
    "    for date in list:\n",
    "        dates = date.split(\"-\")\n",
    "        if len(dates) == 1:\n",
    "            total += int(dates[0])\n",
    "        else:\n",
    "            total += ((int(dates[0]) + int(dates[1])) / 2)\n",
    "        num += 1\n",
    "    return round(total / num)\n",
    "\n",
    "averages = []\n",
    "averages.append(find_mean(union))\n",
    "averages.append(find_mean(normal))\n",
    "averages.append(find_mean(trinity))\n",
    "averages.append(find_mean(duke))\n",
    "averages"
   ]
  },
  {
   "cell_type": "markdown",
   "id": "97e9675b",
   "metadata": {},
   "source": [
    "#### *Actual Dates of Institutions:*\n",
    "Brown School: 1838-1841\n",
    "\n",
    "Union Institution: 1841-1851\n",
    "\n",
    "Normal College: 1851-1859\n",
    "\n",
    "Trinity College: 1859-1924\n",
    "\n",
    "Duke University: 1924-present\n",
    "\n",
    "\n",
    "#### *Average Associated Date in the Catalog:*\n",
    "Brown School: N/A\n",
    "\n",
    "Union Institution: 1880\n",
    "\n",
    "Normal College: 1871\n",
    "\n",
    "Trinity College: 1884\n",
    "\n",
    "Duke University: 1917"
   ]
  },
  {
   "cell_type": "markdown",
   "id": "9401745b",
   "metadata": {},
   "source": [
    "### Names Time Series"
   ]
  },
  {
   "cell_type": "markdown",
   "id": "2e514216",
   "metadata": {},
   "source": [
    "Brown School will not be included in the following analysis, as there were no instances of it in the catalog. But, let's see how the other four names' instances are distributed over time in the catalog. For simplicity's sake, for year ranges of catalog collections, each year in the range was counted once (e.g., for 1940-1942, 1940, 1941, and 1941 each got a quantity increase of 1)."
   ]
  },
  {
   "cell_type": "code",
   "execution_count": 8,
   "id": "f540c4c7",
   "metadata": {},
   "outputs": [],
   "source": [
    "def start(college, dic):\n",
    "    for i in range(1838, 2000):\n",
    "        dic[i] = 0\n",
    "    \n",
    "    for date in college:\n",
    "        dates = str(date).split(\"-\")\n",
    "        if int(dates[0]) >= 1838:\n",
    "            dic[int(dates[0])] = dic.get(int(dates[0])) + 1\n",
    "                    \n",
    "    return dic"
   ]
  },
  {
   "cell_type": "code",
   "execution_count": 9,
   "id": "28198ee2",
   "metadata": {},
   "outputs": [],
   "source": [
    "dic1, dic2, dic3, dic4 = {}, {}, {}, {}\n",
    "dic1 = start(union, dic1)\n",
    "dic2 = start(normal, dic2)\n",
    "dic3 = start(trinity, dic3)\n",
    "dic4 = start(duke, dic4)"
   ]
  },
  {
   "cell_type": "code",
   "execution_count": 10,
   "id": "1a46e1c7",
   "metadata": {},
   "outputs": [
    {
     "data": {
      "image/png": "[encoded data removed]",
      "text/plain": [
       "<Figure size 432x288 with 1 Axes>"
      ]
     },
     "metadata": {
      "needs_background": "light"
     },
     "output_type": "display_data"
    }
   ],
   "source": [
    "plt.plot(dic4.keys(), dic4.values(), label='Duke', color='#00539B')\n",
    "plt.plot(dic3.keys(), dic3.values(), label='Trinity', color='#FFD960')\n",
    "plt.plot(dic2.keys(), dic2.values(), label='Normal', color='#E89923')\n",
    "plt.plot(dic1.keys(), dic1.values(), label='Union', color='#C84E00')\n",
    "plt.legend(loc='upper left')\n",
    "plt.title(\"Mentions of Duke's Names over Time\")\n",
    "plt.xlabel(\"Year\")\n",
    "plt.ylabel(\"# of Mentions\")\n",
    "plt.show()"
   ]
  },
  {
   "cell_type": "markdown",
   "id": "4ea1a2d9",
   "metadata": {},
   "source": [
    "This plot shows the quantity of the dates of the collections that mention one of Duke's names, for each of the names.\n",
    "\n",
    "A major caveat to this is that we were only able to pull out the dates of when a collection was writen, not when it was acquired by the library, and this plot shows the dates when the collections that mention one of these full names were written."
   ]
  }
 ],
 "metadata": {
  "kernelspec": {
   "display_name": "Python 3 (ipykernel)",
   "language": "python",
   "name": "python3"
  },
  "language_info": {
   "codemirror_mode": {
    "name": "ipython",
    "version": 3
   },
   "file_extension": ".py",
   "mimetype": "text/x-python",
   "name": "python",
   "nbconvert_exporter": "python",
   "pygments_lexer": "ipython3",
   "version": "3.9.5"
  }
 },
 "nbformat": 4,
 "nbformat_minor": 5
}
