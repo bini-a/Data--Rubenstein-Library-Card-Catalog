{
 "cells": [
  {
   "cell_type": "markdown",
   "id": "d2e6baed",
   "metadata": {},
   "source": [
    "# Duke History in the Rubenstein Library Card Catalog"
   ]
  },
  {
   "cell_type": "markdown",
   "id": "884eb3d1",
   "metadata": {},
   "source": [
    "Duke University has a long and storied history, especially in regards to the treatment of minority groups such as POC, women, and LQBTQ individuals. Duke has decades of changes in leadership, what the various colleges have been named, and in the traditions and goals of the university. We plan to dig deeper into what of Duke history is present in the card catalog files and see what that can tell us about the institution."
   ]
  },
  {
   "cell_type": "markdown",
   "id": "afcfe7a1",
   "metadata": {},
   "source": [
    "## Duke Presidential Last Names in the Card Catalog"
   ]
  },
  {
   "cell_type": "code",
   "execution_count": 1,
   "id": "d1d05005",
   "metadata": {},
   "outputs": [],
   "source": [
    "import pandas as pd\n",
    "import matplotlib.pyplot as plt\n",
    "import re"
   ]
  },
  {
   "cell_type": "markdown",
   "id": "e4f02450",
   "metadata": {},
   "source": [
    "First we will be exploring the presidents of Duke University and their prevalence within the card catalog. The current President, Vincent Price, will be excluded since his last name is commonly found in the cards with another meaning and his time at Duke is well past the time of the catalog. Interestingly enough, the penultimate President's name appears in the cards (Richard Brodhead) despite his not coming to Duke until after the card catalog was digitized. Perhaps this eponymous figure was an ancestor of the one we know in relation to Duke today. We will be searching by last name, to see the frequency of the Presidents' last names in the catalog. A few of the presidents have surnames that have alternate meanings or uses (e.g., York, Wood) and we will attempt to remove the non-name occuraces of these."
   ]
  },
  {
   "cell_type": "code",
   "execution_count": 7,
   "id": "0ed6303f",
   "metadata": {},
   "outputs": [
    {
     "name": "stdout",
     "output_type": "stream",
     "text": [
      "{'York': 55, 'Craven': 97, 'Gannaway': 5, 'Wood': 192, 'Crowell': 10, 'Kilgo': 19, 'Few': 65, 'Flowers': 87, 'Edens': 3, 'Hart': 139, 'Knight': 81, 'Sanford': 145, 'Brodie': 15, 'Keohane': 0, 'Brodhead': 5}\n"
     ]
    }
   ],
   "source": [
    "df = pd.read_csv(\"all_sorted_collection.csv\")\n",
    "\n",
    "# Duke University presidents in chronological order\n",
    "presidents = {\n",
    "    \"York\": 0,\n",
    "    \"Craven\": 0,\n",
    "    \"Gannaway\": 0,\n",
    "    \"Craven\": 0,\n",
    "    \"Wood\": 0,\n",
    "    \"Crowell\": 0,\n",
    "    \"Kilgo\": 0,\n",
    "    \"Few\": 0,\n",
    "    \"Flowers\": 0,\n",
    "    \"Edens\": 0,\n",
    "    \"Hart\": 0,\n",
    "    \"Knight\": 0,\n",
    "    \"Sanford\": 0,\n",
    "    \"Brodie\": 0,\n",
    "    \"Keohane\": 0,\n",
    "    \"Brodhead\": 0,\n",
    "}\n",
    "\n",
    "# Check for occurances of presidental last names in the cards\n",
    "for index, row in df.iterrows():\n",
    "    for pres in presidents.keys():\n",
    "        if pres in str(row['Text']):\n",
    "            # Check for homonyms\n",
    "            x = str(row['Text'])\n",
    "            if pres == \"York\" and (\"New\" in x or \"Yorktown\" in x or \"Yorkshire\" in x or \"England\" in x or \"Yorkville\" in x or \"in York\" in x or \"York Co\" in x.title() or \"of York\" in x or \"York City\" in x or \"York Dist\" in x.title() or \"Yorke\" in x):\n",
    "                continue\n",
    "            elif pres == \"Craven\" and \"Craven Co\" in x.title():\n",
    "                continue\n",
    "            elif pres == \"Wood\" and (re.search(r\"Wood[a-z-]\", x) or \"Wood County\" in x):\n",
    "                continue\n",
    "            elif pres == \"Kilgo\" and re.search(r\"Kilgo[a-z]\", x):\n",
    "                continue\n",
    "            elif pres == \"Hart\" and re.search(r\"Hart[a-z]\", x):\n",
    "                continue\n",
    "            elif pres == \"Knight\" and (re.search(r\"Knight[a-z]\", x) or re.search(r\"[a-z]Knight\", x)):\n",
    "                continue\n",
    "            elif pres == \"Sanford\" and (re.search(r\"Sanford,.*North Carolina\", x) or \"in Sanford\" in x or \"of Sanford\" in x or \"at Sanford\" in x or \"Railway\" in x):\n",
    "                continue\n",
    "            else:\n",
    "                presidents[pres] = presidents.get(pres) + 1\n",
    "\n",
    "print(presidents)"
   ]
  },
  {
   "cell_type": "code",
   "execution_count": 8,
   "id": "2a1b6eee",
   "metadata": {},
   "outputs": [
    {
     "data": {
      "image/png": "[encoded data removed]",
      "text/plain": [
       "<Figure size 432x288 with 1 Axes>"
      ]
     },
     "metadata": {
      "needs_background": "light"
     },
     "output_type": "display_data"
    }
   ],
   "source": [
    "president_counts = {\n",
    "    'York': 55, \n",
    "    'Craven': 97, \n",
    "    'Gannaway': 5, \n",
    "    'Wood': 192, \n",
    "    'Crowell': 10, \n",
    "    'Kilgo': 19, \n",
    "    'Few': 65, \n",
    "    'Flowers': 87, \n",
    "    'Edens': 3, \n",
    "    'Hart': 139, \n",
    "    'Knight': 81, \n",
    "    'Sanford': 145, \n",
    "    'Brodie': 15, \n",
    "    'Keohane': 0, \n",
    "    'Brodhead': 5\n",
    "}\n",
    "\n",
    "# Display bar chart of gender frequencies\n",
    "plt.bar(*zip(*president_counts.items()))\n",
    "plt.xticks(rotation = 45)\n",
    "plt.title(\"Frequency of Duke Presidental Names in the Card Catalog\")\n",
    "plt.xlabel(\"Name\")\n",
    "plt.ylabel(\"# of Cards\")\n",
    "plt.show()"
   ]
  }
 ],
 "metadata": {
  "kernelspec": {
   "display_name": "Python 3",
   "language": "python",
   "name": "python3"
  },
  "language_info": {
   "codemirror_mode": {
    "name": "ipython",
    "version": 3
   },
   "file_extension": ".py",
   "mimetype": "text/x-python",
   "name": "python",
   "nbconvert_exporter": "python",
   "pygments_lexer": "ipython3",
   "version": "3.8.8"
  }
 },
 "nbformat": 4,
 "nbformat_minor": 5
}
