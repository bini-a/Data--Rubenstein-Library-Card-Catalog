{
 "cells": [
  {
   "cell_type": "code",
   "execution_count": 1,
   "id": "28e6fe45",
   "metadata": {},
   "outputs": [],
   "source": [
    "import pandas as pd\n",
    "pd.set_option('display.max_colwidth', None)\n",
    "pd.set_option(\"display.max_row\",None)\n",
    "import numpy as np\n",
    "import re\n",
    "import nltk"
   ]
  },
  {
   "cell_type": "code",
   "execution_count": null,
   "id": "79080680",
   "metadata": {},
   "outputs": [],
   "source": [
    "# Function that tabulates \"points\" for a card to be a \"main entry\" vs. \"narrative,\" returns True if it's a \"main entry\"\n",
    "def is_main_entry(df, row):\n",
    "    # Check for new author -> automatic \"main entry\"\n",
    "    if row == 0 or df[row][Name] != df[row-1][Name]:\n",
    "        return True\n",
    "    \n",
    "    # Calculate \"points\" for classification\n",
    "    main_entry_pts, narrative_pts = 0, 0\n",
    "    \n",
    "    # Check length, longer -> narrative, shorter -> main entry\n",
    "    \n",
    "    # Check for NO title, date, location, etc. -> narrative\n",
    "    \n",
    "    # Check for \"sentence format\" (pos only present in narrative [verb, adj.?]) -> narrative\n",
    "    \n",
    "    # Check for misc. main entry identifiers (\"MSS.\", \"Section X\", \"X items\") -> main entry\n",
    "    \n",
    "    # Check for capitalized last name & card number at begining (JONES 2, JONES 3, etc.) -> narrative\n",
    "    \n",
    "    # Check for accessioned date -> main entry\n",
    "    \n",
    "    # Compare title/date to previous card, new -> main entry, match -> narrative\n",
    "    \n",
    "    # Determine card classification\n",
    "    if main_entry_pts >= narrative_pts:\n",
    "        return True\n",
    "    return False"
   ]
  },
  {
   "cell_type": "code",
   "execution_count": null,
   "id": "5f44589f",
   "metadata": {},
   "outputs": [],
   "source": [
    "df = pd.read_csv(\"\")\n",
    "\n",
    "# Check every card and classify as \"main entry\" or \"narrative\", number by collection\n",
    "collection_num, collection_list = -1, []\n",
    "for row in df:\n",
    "    # Main entries signify a new collection\n",
    "    if is_main_entry(df, row):\n",
    "        collection_num += 1\n",
    "    collection_list.append(collection_num)\n",
    "\n",
    "# Add column to dataframe with collections numbered\n",
    "df['Collection'] = collection_list"
   ]
  }
 ],
 "metadata": {
  "kernelspec": {
   "display_name": "Python 3",
   "language": "python",
   "name": "python3"
  },
  "language_info": {
   "codemirror_mode": {
    "name": "ipython",
    "version": 3
   },
   "file_extension": ".py",
   "mimetype": "text/x-python",
   "name": "python",
   "nbconvert_exporter": "python",
   "pygments_lexer": "ipython3",
   "version": "3.8.8"
  }
 },
 "nbformat": 4,
 "nbformat_minor": 5
}
