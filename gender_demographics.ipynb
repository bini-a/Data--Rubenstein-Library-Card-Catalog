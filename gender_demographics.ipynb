{
 "cells": [
  {
   "cell_type": "markdown",
   "id": "b7a7b760",
   "metadata": {},
   "source": [
    "## Gender Distributions of Collection Authors in the Rubenstein Library's Main Entry Card Catalog"
   ]
  },
  {
   "cell_type": "markdown",
   "id": "eaa7926b",
   "metadata": {},
   "source": [
    "These demographics were computed using the Python Gender Guesser package. As part of our exploratory data analysis, we hope to gain a better understanding of *who* is represented in the catalog. We recognize that gender is not considered as strictly binary in current times, but hope to use this analysis to evaluate the identities of the people that past librarians deemed important enough to catalog the work of in a time when gender *was* treated as more black and white than it is now. The intention of this analysis is to explore the extent of gender discrepancies in the card catalog to further study the history of the library's treatment of minority groups.\n",
    "\n",
    "The authors of collections in the file are typically either a person or an organization. We are evaluating the gender typically associated with only the *people*. The Gender Guesser package classifies genders as one of 6 groups. Male and female result from names that are traditionally associated with one of those genders. Mostly male and mostly female result from names that are less cut and dry in regards to the gender they are associated with. \"Andy,\" or androgynous, means that a name is not traditionally strongly associated with either gender and unknown means that the package was unable to classify a name into any of the other categories. These tended to be non-person organizations or places that would not have a gender and thus were dropped for the visualizations of the results."
   ]
  },
  {
   "cell_type": "code",
   "execution_count": null,
   "id": "2e81d87f",
   "metadata": {},
   "outputs": [],
   "source": [
    "!pip install gender-guesser"
   ]
  },
  {
   "cell_type": "code",
   "execution_count": 1,
   "id": "01c37d36",
   "metadata": {},
   "outputs": [],
   "source": [
    "import gender_guesser.detector as gender\n",
    "import pandas as pd\n",
    "import numpy as np\n",
    "import matplotlib.pyplot as plt"
   ]
  },
  {
   "cell_type": "code",
   "execution_count": 2,
   "id": "627aa845",
   "metadata": {},
   "outputs": [],
   "source": [
    "%matplotlib inline"
   ]
  },
  {
   "cell_type": "code",
   "execution_count": 3,
   "id": "3b82aa42",
   "metadata": {},
   "outputs": [],
   "source": [
    "# Collect first names from dataset\n",
    "df = pd.read_csv(\"all_sorted_collection.csv\")\n",
    "\n",
    "first_names = []\n",
    "for index, row in df.iterrows():\n",
    "    if row['Coll_head'] == 1:\n",
    "        # if name contains a comma, it's likely a name and not an organization\n",
    "        if \", \" in str(row['Name']):\n",
    "            name = str(row['Name'].split(\" \")[1])\n",
    "            # Find first name after Sir or Mrs.\n",
    "            if (\"Sir\" in name or \"Mrs\" in name or \"Dr.\" in name or \"Capt\" in name or \"Miss\" in name or \"Lord\" in name or \"Doctor\" in name) and len(row['Name'].split(\" \")) > 2:\n",
    "                name = str(row['Name'].split(\" \")[2])\n",
    "            # For initials, try to find whole name\n",
    "            if len(name) < 2 and len(row['Name'].split(\" \")) > 2 and len(str(row['Name'].split(\" \")[2])) > 2:\n",
    "                name = str(row['Name'].split(\" \")[2])\n",
    "            if not \"Archive\" in name and not \"Army\" in name and not \"University\" in name and not \"Family\" in name and not \"Ministry\" in name and not \"CHURCH\" in name.upper():\n",
    "                name = name.strip(\" \\r\\n,().\")\n",
    "                if not \".\" in name and len(name) > 3:\n",
    "                    first_names.append(name)"
   ]
  },
  {
   "cell_type": "code",
   "execution_count": 23,
   "id": "1ffaa4bf",
   "metadata": {},
   "outputs": [
    {
     "name": "stdout",
     "output_type": "stream",
     "text": [
      "{'unknown': 980, 'andy': 18, 'male': 9520, 'female': 932, 'mostly_male': 67, 'mostly_female': 149}\n"
     ]
    }
   ],
   "source": [
    "# Detect gender for each main entry author\n",
    "d = gender.Detector()\n",
    "\n",
    "gender_counts = {\n",
    "    \"unknown\": 0,\n",
    "    \"andy\": 0,\n",
    "    \"male\": 0,\n",
    "    \"female\": 0,\n",
    "    \"mostly_male\": 0,\n",
    "    \"mostly_female\": 0\n",
    "}\n",
    "\n",
    "# Determine gender of each name\n",
    "for name in first_names:\n",
    "    gen = d.get_gender(name)\n",
    "    if gen == \"unknown\":\n",
    "        # Common unclassified name\n",
    "        if name == \"Duff\":\n",
    "            gen = \"male\"\n",
    "        # Check for trailing e's (common in names from OCR error) and recheck those names\n",
    "        elif \"e\" == name[len(name)-1]:\n",
    "            name = name[0:len(name)-1]\n",
    "            gen = d.get_gender(name)\n",
    "    gender_counts[gen] += 1\n",
    "    \n",
    "print(gender_counts)"
   ]
  },
  {
   "cell_type": "markdown",
   "id": "6a09e5dd",
   "metadata": {},
   "source": [
    "Most of the 'unknown' gendered names are actually part of non-person organizations and will be dropped for easier visualization, for example \"Britain\" is part of the \"Name\" column, but is a title instead of a person, and thus will not be counted for the distributions."
   ]
  },
  {
   "cell_type": "code",
   "execution_count": 24,
   "id": "d5b7f090",
   "metadata": {},
   "outputs": [],
   "source": [
    "# Remove unknown to create bar chart\n",
    "known = gender_counts.copy()\n",
    "known.pop('unknown')\n",
    "known['androgynous'] = known.pop('andy')"
   ]
  },
  {
   "cell_type": "code",
   "execution_count": 25,
   "id": "44cbaee4",
   "metadata": {},
   "outputs": [
    {
     "data": {
      "image/png": "[encoded data removed]",
      "text/plain": [
       "<Figure size 432x288 with 1 Axes>"
      ]
     },
     "metadata": {
      "needs_background": "light"
     },
     "output_type": "display_data"
    }
   ],
   "source": [
    "# Display bar chart of gender frequencies\n",
    "plt.bar(*zip(*known.items()))\n",
    "plt.xticks(rotation = 45)\n",
    "plt.title(\"Gender Frequency of Collection Authors in Card Catalog\")\n",
    "plt.xlabel(\"Gender\")\n",
    "plt.ylabel(\"Frequency\")\n",
    "plt.show()"
   ]
  },
  {
   "cell_type": "markdown",
   "id": "c5a8eb4e",
   "metadata": {},
   "source": [
    "As shown in the above bar chart, the names of the authors present in the library's card collection are overwhelmingly male. This comes as no suprise to anyone who has looked through the cards. Something else of note is the strong presence of binarily gendered names i.e., there are very few \"mostly male\" or \"mostly female\" names (and seldom an androgynous one), most are one or the other. Perhaps this is indicative of the kinds of names that were given during the time period represented in the cards."
   ]
  },
  {
   "cell_type": "code",
   "execution_count": 35,
   "id": "996cb508",
   "metadata": {},
   "outputs": [
    {
     "data": {
      "image/png": "[encoded data removed]",
      "text/plain": [
       "<Figure size 432x288 with 1 Axes>"
      ]
     },
     "metadata": {},
     "output_type": "display_data"
    }
   ],
   "source": [
    "# Set up bar chart comparing male-leaning to female-leaning names\n",
    "mf = known.copy()\n",
    "mf.pop('androgynous')\n",
    "mf['male'] = mf.get('male') + mf.get('mostly_male')\n",
    "mf.pop('mostly_male')\n",
    "mf['female'] = mf.get('female') + mf.get('mostly_female')\n",
    "mf.pop('mostly_female')\n",
    "\n",
    "plt.pie(mf.values(), labels = mf.keys(), autopct='%1.1f%%', startangle = 90)\n",
    "plt.axis('equal')\n",
    "plt.title(\"Gender Ratio of Collection Authors\")\n",
    "plt.show()"
   ]
  },
  {
   "cell_type": "markdown",
   "id": "77bacf81",
   "metadata": {},
   "source": [
    "For the pie chart, we combined \"mostly male\" names with \"male\" names and \"mostly female\" names with female names to more easily visualize the gender frequencies. Androgynous names were dropped for the pie chart's sake, due to the fact they compose only about 0.02% of the names. The chart shows that about nine out of ten of the collection authors present in the main entry file were, in fact, male. This confirms our specualtions that men were more often than women represented in the catalog. In addition, this supports the theory that the \"head of the household,\" likely the husband, would be elevated to the \"author\" of collections that entail multiple individuals, possibly hiding the presence of women in the collections. From this we can hypothesize other reasons for the discepency, but further research should be done into the history of archival records at Duke. "
   ]
  }
 ],
 "metadata": {
  "kernelspec": {
   "display_name": "Python 3",
   "language": "python",
   "name": "python3"
  },
  "language_info": {
   "codemirror_mode": {
    "name": "ipython",
    "version": 3
   },
   "file_extension": ".py",
   "mimetype": "text/x-python",
   "name": "python",
   "nbconvert_exporter": "python",
   "pygments_lexer": "ipython3",
   "version": "3.8.8"
  }
 },
 "nbformat": 4,
 "nbformat_minor": 5
}
