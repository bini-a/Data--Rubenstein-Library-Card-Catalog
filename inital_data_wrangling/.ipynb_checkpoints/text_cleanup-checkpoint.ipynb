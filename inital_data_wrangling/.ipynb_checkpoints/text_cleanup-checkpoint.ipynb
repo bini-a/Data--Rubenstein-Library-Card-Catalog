{
 "cells": [
  {
   "cell_type": "markdown",
   "metadata": {},
   "source": [
    "# Put OCRed Text into One Dataframe"
   ]
  },
  {
   "cell_type": "code",
   "execution_count": 1,
   "metadata": {},
   "outputs": [],
   "source": [
    "import pandas as pd\n",
    "import numpy as np\n",
    "import os\n",
    "from glob import glob\n",
    "import re"
   ]
  },
  {
   "cell_type": "code",
   "execution_count": 3,
   "metadata": {},
   "outputs": [
    {
     "data": {
      "text/plain": [
       "(50368, 1)"
      ]
     },
     "execution_count": 3,
     "metadata": {},
     "output_type": "execute_result"
    }
   ],
   "source": [
    "# Use the text files to create dataframe \n",
    "ar = []\n",
    "x = \"\"\n",
    "cum = []\n",
    "result = [y for x in os.walk(r'catalog\\new_text') for y in glob(os.path.join(x[0], '*.txt'))]\n",
    "for res in result:\n",
    "    with open(res, 'r',encoding=\"utf8\") as source:\n",
    "        lines = [line.replace(\"\\n\",\" \") for line in source.readlines()]\n",
    "        for l in lines:\n",
    "            # if line is not end of line, add the text\n",
    "            if not (l.startswith('\\x0c')):  \n",
    "                x+=l   \n",
    "            # when reaching end of line, append a new entry to list which contains all the text before end of line\n",
    "            else:\n",
    "                ar = np.append(ar,x)\n",
    "                # Starting after \"\\x0c\", add text\n",
    "                x =l[1:]\n",
    "        cum.append(len(ar))\n",
    "df = pd.DataFrame(ar) \n",
    "df.to_csv(\"catalog\\main_file_all_text.csv\")"
   ]
  }
 ],
 "metadata": {
  "interpreter": {
   "hash": "b3ba2566441a7c06988d0923437866b63cedc61552a5af99d1f4fb67d367b25f"
  },
  "kernelspec": {
   "display_name": "Python 3 (ipykernel)",
   "language": "python",
   "name": "python3"
  },
  "language_info": {
   "codemirror_mode": {
    "name": "ipython",
    "version": 3
   },
   "file_extension": ".py",
   "mimetype": "text/x-python",
   "name": "python",
   "nbconvert_exporter": "python",
   "pygments_lexer": "ipython3",
   "version": "3.9.5"
  }
 },
 "nbformat": 4,
 "nbformat_minor": 2
}
