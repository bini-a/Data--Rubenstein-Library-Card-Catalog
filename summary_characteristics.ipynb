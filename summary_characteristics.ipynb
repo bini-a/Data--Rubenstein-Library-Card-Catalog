{
 "cells": [
  {
   "cell_type": "markdown",
   "id": "f720fe46",
   "metadata": {},
   "source": [
    "# Card Catalog Summary Characteristics"
   ]
  },
  {
   "cell_type": "markdown",
   "id": "6a10a83a",
   "metadata": {},
   "source": [
    "Let's get into some of the characteristics of the dataset we created from the digitized Rubenstein Library card catalog. For these simple checks, we used the Python pandas package for easily working with the dataset."
   ]
  },
  {
   "cell_type": "markdown",
   "id": "3efb3e76",
   "metadata": {},
   "source": [
    "### Number of Collections"
   ]
  },
  {
   "cell_type": "code",
   "execution_count": 1,
   "id": "f349378b",
   "metadata": {},
   "outputs": [],
   "source": [
    "import pandas as pd"
   ]
  },
  {
   "cell_type": "code",
   "execution_count": 3,
   "id": "92d89539",
   "metadata": {},
   "outputs": [
    {
     "name": "stdout",
     "output_type": "stream",
     "text": [
      "0    34413\n",
      "1    15952\n",
      "Name: Coll_head, dtype: int64\n"
     ]
    }
   ],
   "source": [
    "df = pd.read_csv(\"added_author_identity.csv\")\n",
    "\n",
    "print(df['Coll_head'].value_counts())"
   ]
  },
  {
   "cell_type": "markdown",
   "id": "be299e84",
   "metadata": {},
   "source": [
    "As we can see, there are **15,952 collections** detected by our code in the dataset. The other 34,413 cards have been classified as narrative. Let's see how this compares to the number of unique authors."
   ]
  },
  {
   "cell_type": "markdown",
   "id": "020eeaac",
   "metadata": {},
   "source": [
    "### Unique Authors"
   ]
  },
  {
   "cell_type": "code",
   "execution_count": 4,
   "id": "58cd8058",
   "metadata": {},
   "outputs": [
    {
     "name": "stdout",
     "output_type": "stream",
     "text": [
      "10752\n"
     ]
    }
   ],
   "source": [
    "authors = 1\n",
    "for i in range(1, len(df)):\n",
    "    if df.iloc[i]['Name'] != df.iloc[i-1]['Name']:\n",
    "        authors += 1\n",
    "        \n",
    "print(authors)"
   ]
  },
  {
   "cell_type": "markdown",
   "id": "02948043",
   "metadata": {},
   "source": [
    "By comparing each author name to the name before it, it looks like we have **10,752 unique authors** present in the card catalog. Some of these are people, but others are organizations, let's see how many of each we have."
   ]
  },
  {
   "cell_type": "markdown",
   "id": "49a9a979",
   "metadata": {},
   "source": [
    "### Author Identity: Person vs. Organization"
   ]
  },
  {
   "cell_type": "code",
   "execution_count": 5,
   "id": "7047064c",
   "metadata": {},
   "outputs": [
    {
     "name": "stdout",
     "output_type": "stream",
     "text": [
      "People:  12930\n",
      "Organizations:  3022\n"
     ]
    }
   ],
   "source": [
    "people = 0\n",
    "orgs = 0\n",
    "\n",
    "for index, row in df.iterrows():\n",
    "    if row['Coll_head'] == 1:\n",
    "        entity = str(row['Name'])\n",
    "        if not \",\" in entity or not \",\" in entity.split(\" \")[0] or \"Ministry\" in entity or \"England\" in entity or \"Army\" in entity or \"Archives\" in entity:\n",
    "            orgs += 1\n",
    "        else:\n",
    "            people += 1\n",
    "\n",
    "print(\"People: \", people)\n",
    "print(\"Organizations: \", orgs)"
   ]
  },
  {
   "cell_type": "markdown",
   "id": "cdccc3df",
   "metadata": {},
   "source": [
    "When looking at each of the 15,952 collections, about **12,930 of them are associated with a person and 3,022 are associated with an organization**. People comprise about 81% of the collections authors."
   ]
  },
  {
   "cell_type": "markdown",
   "id": "61487168",
   "metadata": {},
   "source": [
    "### Collection Outliers"
   ]
  },
  {
   "cell_type": "code",
   "execution_count": 6,
   "id": "b5a42492",
   "metadata": {},
   "outputs": [
    {
     "name": "stdout",
     "output_type": "stream",
     "text": [
      "[[3496, 342], [981, 319], [9535, 306], [719, 236], [7468, 223]]\n"
     ]
    }
   ],
   "source": [
    "# Find 5 longest collections\n",
    "coll_len = 0\n",
    "top_five = [[0,1]]\n",
    "\n",
    "def addToList(num, length):\n",
    "    if len(top_five) > 4:\n",
    "        top_five.pop()\n",
    "    i = len(top_five)-1\n",
    "    while i > -1:\n",
    "        if top_five[i][1] < length:\n",
    "            i -= 1  \n",
    "        else: break\n",
    "    top_five.insert(i+1, [num, length])\n",
    "    return\n",
    "\n",
    "for index, row in df.iterrows():\n",
    "    if index == 0: continue\n",
    "    if row['Coll_head'] == 0:\n",
    "        coll_len += 1\n",
    "    else:\n",
    "        if coll_len > top_five[len(top_five)-1][1]:\n",
    "            addToList(row['Collection']-1, coll_len)\n",
    "        coll_len = 1\n",
    "            \n",
    "print(top_five)"
   ]
  },
  {
   "cell_type": "code",
   "execution_count": 10,
   "id": "fcedcaf3",
   "metadata": {},
   "outputs": [
    {
     "name": "stdout",
     "output_type": "stream",
     "text": [
      "                     Name\n",
      "2167  Ball, William Watts\n",
      "----------------------------\n",
      "                            Name\n",
      "3173  Bedinger- Dandridge Family\n",
      "----------------------------\n",
      "                                       Name\n",
      "12176  Dawson, Francis Warrington, I and II\n",
      "----------------------------\n",
      "                 Name\n",
      "25895  Kirby, Ephraim\n",
      "----------------------------\n",
      "                       Name\n",
      "32392  Munford-Ellis Family\n",
      "----------------------------\n"
     ]
    }
   ],
   "source": [
    "top_five_coll = [3496, 981, 9535, 719, 7468]\n",
    "indices = [2167, 3173, 12176, 25895, 32392]\n",
    "\n",
    "for index in indices:\n",
    "    print(df.iloc[[index]][['Name']])\n",
    "    print(\"----------------------------\")"
   ]
  },
  {
   "cell_type": "markdown",
   "id": "a04de88b",
   "metadata": {},
   "source": [
    "Here we have our top five longest collections. In fifth, at 223 cards is the Munford-Ellis Family Collection. In fourth, at 236 cards is Kirby Ephraham's Collection. In third, at 306 cards is Francis Warrington Dawson, I and II's Collection. In second, at 319 cards is the Bedinger-Dandridge Family Collection. And in first, at 342 cards is William Watts Ball's Collection."
   ]
  }
 ],
 "metadata": {
  "kernelspec": {
   "display_name": "Python 3",
   "language": "python",
   "name": "python3"
  },
  "language_info": {
   "codemirror_mode": {
    "name": "ipython",
    "version": 3
   },
   "file_extension": ".py",
   "mimetype": "text/x-python",
   "name": "python",
   "nbconvert_exporter": "python",
   "pygments_lexer": "ipython3",
   "version": "3.8.8"
  }
 },
 "nbformat": 4,
 "nbformat_minor": 5
}
